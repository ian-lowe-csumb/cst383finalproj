{
  "cells": [
    {
      "cell_type": "markdown",
      "metadata": {
        "id": "c07b5868"
      },
      "source": [
        "# Music Genre Recognition Report\n",
        "### Group 8: Ian Lowe, Christian Martinez, Martin Ronquillo, and Sabrina Ferras\n",
        "\n",
        "---\n",
        "\n"
      ],
      "id": "c07b5868"
    },
    {
      "cell_type": "markdown",
      "metadata": {
        "id": "0f439570"
      },
      "source": [
        "## Introduction\n",
        "Many things need to be categorized, but it is challenging to do so without textual or numerical data. One particularly interesting problem is the categorization of audio data. Using our dataset, which contains textual lyric data as well as descriptive features that were quantified by Spotify, ***we aim to classify the genre of a song based on features such as loudness, danceability, mood, and lyrical content.*** To accomplish this, we’ll be utilizing many of sci-kit learn’s classification estimators including KNN, Decision Trees, and Random Forest to attempt to determine the genre of any given song based on lyrical data.\n"
      ],
      "id": "0f439570"
    },
    {
      "cell_type": "markdown",
      "metadata": {
        "id": "zYRcKPz953N_"
      },
      "source": [
        "## Selection of Data\n",
        "### Dataset\n",
        "The dataset from Mendeley is a .csv which contains over 28,000 entries of songs. It also contains music metadata (e.g. sadness, danceability, loudness) and the songs are from 1950 to 2019. The data was collected using the Echo Nest API and the spotipy Python package. The lyrics were obtained using the Lyrics Genius API, based on the song title and artist name.\n",
        "### Characteristics of Data\n",
        "The main attributes that would be a good focus of interest for this project are Genre, Lyrics, and Artist. There are a total of 7 different genres in the dataset: rock, reggae, jazz, blues, hip hop, country, and pop. \n",
        "There is an associated paper about this dataset titled “Temporal Analysis and Visualisation of Music.” This paper goes in depth about characteristics of the data and its calculations. For example, there is an attribute “Acousticness” which is defined in the paper as having the “Presence of acoustic instruments.”\n",
        "#### Dataset: https://data.mendeley.com/datasets/3t9vbwxgr5/3\n",
        "#### Associated Analysis Paper: https://sol.sbc.org.br/index.php/eniac/article/view/12155/12020"
      ],
      "id": "zYRcKPz953N_"
    },
    {
      "cell_type": "code",
      "execution_count": null,
      "metadata": {
        "id": "b1060e16"
      },
      "outputs": [],
      "source": [
        "import numpy as np\n",
        "import pandas as pd\n",
        "import seaborn as sns\n",
        "import matplotlib.pyplot as plt\n",
        "from matplotlib import rcParams\n",
        "rcParams['figure.figsize'] = 8,6\n",
        "from sklearn.preprocessing import OneHotEncoder\n",
        "from sklearn.model_selection import train_test_split\n",
        "from sklearn.preprocessing import StandardScaler\n",
        "from sklearn.preprocessing import PolynomialFeatures\n",
        "from sklearn.neighbors import KNeighborsClassifier\n",
        "from sklearn.metrics import confusion_matrix, ConfusionMatrixDisplay\n",
        "from warnings import simplefilter\n",
        "simplefilter(action='ignore', category=FutureWarning)\n",
        "\n",
        "df = pd.read_csv(\"https://raw.githubusercontent.com/ChrisMart21/383-Group-Project-ML-Music/main/tcc_ceds_music.csv\", index_col=0)"
      ],
      "id": "b1060e16"
    },
    {
      "cell_type": "markdown",
      "metadata": {
        "id": "9d8ccd67"
      },
      "source": [
        "## Target"
      ],
      "id": "9d8ccd67"
    },
    {
      "cell_type": "code",
      "execution_count": null,
      "metadata": {
        "colab": {
          "base_uri": "https://localhost:8080/"
        },
        "id": "ce5144d3",
        "outputId": "fdf30cc9-5403-474f-d363-317f8c3bf663"
      },
      "outputs": [
        {
          "output_type": "execute_result",
          "data": {
            "text/plain": [
              "pop        7042\n",
              "country    5445\n",
              "blues      4604\n",
              "rock       4034\n",
              "jazz       3845\n",
              "reggae     2498\n",
              "hip hop     904\n",
              "Name: genre, dtype: int64"
            ]
          },
          "metadata": {},
          "execution_count": 24
        }
      ],
      "source": [
        "# Our goal is to predict the music 'genre'\n",
        "# 7 total Genres\n",
        "target = ['genre']\n",
        "df['genre'].value_counts()"
      ],
      "id": "ce5144d3"
    },
    {
      "cell_type": "markdown",
      "metadata": {
        "id": "0606d13a"
      },
      "source": [
        "## Predictors  \n",
        "This data contains a total of 22 numeric predictors for each song/genre entry. These predictors can be broadly split into two main categories, '***Song Topic Scoring***' and '***Musical Features Scoring***' each ranging from 0 to 1. We will leverage this detailed data to generate 3 different models consisting of predictors 'A', 'B', 'A+B'"
      ],
      "id": "0606d13a"
    },
    {
      "cell_type": "code",
      "execution_count": null,
      "metadata": {
        "id": "075c463b"
      },
      "outputs": [],
      "source": [
        "#predictor 'A'\n",
        "predictor_topics = ['dating', 'violence', 'world/life', 'night/time', \n",
        "                    'shake the audience', 'family/gospel', 'romantic',\n",
        "                    'communication', 'obscene', 'music', 'movement/places',\n",
        "                    'light/visual perceptions', 'family/spiritual','like/girls',\n",
        "                    'sadness', 'feelings']\n",
        "#predictor 'B'\n",
        "predictor_music_features = ['danceability', 'loudness', 'acousticness',\n",
        "                            'instrumentalness', 'valence', 'energy']\n",
        "#both 'A + B'\n",
        "predictor_all = predictor_topics + predictor_music_features"
      ],
      "id": "075c463b"
    },
    {
      "cell_type": "markdown",
      "metadata": {
        "id": "12be2876"
      },
      "source": [
        "## Preliminary work - Data Preparations"
      ],
      "id": "12be2876"
    },
    {
      "cell_type": "code",
      "execution_count": null,
      "metadata": {
        "id": "66b89bc8"
      },
      "outputs": [],
      "source": [
        "#Removing data from before or from 2017 due to they style of music changing a lot since then, as well as removing the genres 'reggae' and 'hip hop'\n",
        "df = df[(df['release_date'] >= 2017) & ((df['genre'] != 'reggae') & (df['genre'] != 'hip hop'))]\n",
        "\n",
        "# One Hot Encoding\n",
        "# encoder = OneHotEncoder(handle_unknown='ignore')\n",
        "# target_one_hot = pd.DataFrame(encoder.fit_transform(df[target]).toarray())\n",
        "# target_one_hot.columns = df['genre'].unique()\n",
        "\n",
        "#Label Encoder\n",
        "from sklearn.preprocessing import LabelEncoder\n",
        "le = LabelEncoder()\n",
        "target_le = pd.DataFrame(le.fit_transform(np.ravel(df[target]))) #using .ravel() to remove warning about shape\n",
        "\n",
        "\n",
        "# topic data prep\n",
        "topic_features = df[predictor_topics]\n",
        "music_features = df[predictor_music_features]\n",
        "all_features = df[predictor_all]\n"
      ],
      "id": "66b89bc8"
    },
    {
      "cell_type": "markdown",
      "metadata": {
        "id": "ffc77bd8"
      },
      "source": [
        "## Preliminary work - Data Exploration and Visualization"
      ],
      "id": "ffc77bd8"
    },
    {
      "cell_type": "markdown",
      "metadata": {
        "id": "FZqEW0XvsIDQ"
      },
      "source": [
        "### Data Exploration"
      ],
      "id": "FZqEW0XvsIDQ"
    },
    {
      "cell_type": "code",
      "execution_count": null,
      "metadata": {
        "colab": {
          "base_uri": "https://localhost:8080/"
        },
        "id": "BxyvX-XcpbKu",
        "outputId": "4145a343-05ac-4fb9-b26a-95f33874c8d1"
      },
      "outputs": [
        {
          "output_type": "stream",
          "name": "stdout",
          "text": [
            "<class 'pandas.core.frame.DataFrame'>\n",
            "Int64Index: 1278 entries, 19341 to 80960\n",
            "Data columns (total 30 columns):\n",
            " #   Column                    Non-Null Count  Dtype  \n",
            "---  ------                    --------------  -----  \n",
            " 0   artist_name               1278 non-null   object \n",
            " 1   track_name                1278 non-null   object \n",
            " 2   release_date              1278 non-null   int64  \n",
            " 3   genre                     1278 non-null   object \n",
            " 4   lyrics                    1278 non-null   object \n",
            " 5   len                       1278 non-null   int64  \n",
            " 6   dating                    1278 non-null   float64\n",
            " 7   violence                  1278 non-null   float64\n",
            " 8   world/life                1278 non-null   float64\n",
            " 9   night/time                1278 non-null   float64\n",
            " 10  shake the audience        1278 non-null   float64\n",
            " 11  family/gospel             1278 non-null   float64\n",
            " 12  romantic                  1278 non-null   float64\n",
            " 13  communication             1278 non-null   float64\n",
            " 14  obscene                   1278 non-null   float64\n",
            " 15  music                     1278 non-null   float64\n",
            " 16  movement/places           1278 non-null   float64\n",
            " 17  light/visual perceptions  1278 non-null   float64\n",
            " 18  family/spiritual          1278 non-null   float64\n",
            " 19  like/girls                1278 non-null   float64\n",
            " 20  sadness                   1278 non-null   float64\n",
            " 21  feelings                  1278 non-null   float64\n",
            " 22  danceability              1278 non-null   float64\n",
            " 23  loudness                  1278 non-null   float64\n",
            " 24  acousticness              1278 non-null   float64\n",
            " 25  instrumentalness          1278 non-null   float64\n",
            " 26  valence                   1278 non-null   float64\n",
            " 27  energy                    1278 non-null   float64\n",
            " 28  topic                     1278 non-null   object \n",
            " 29  age                       1278 non-null   float64\n",
            "dtypes: float64(23), int64(2), object(5)\n",
            "memory usage: 309.5+ KB\n"
          ]
        }
      ],
      "source": [
        "df.info()"
      ],
      "id": "BxyvX-XcpbKu"
    },
    {
      "cell_type": "code",
      "execution_count": null,
      "metadata": {
        "colab": {
          "base_uri": "https://localhost:8080/",
          "height": 411
        },
        "id": "P8Ql-HvYpbl9",
        "outputId": "3109eb24-1966-48b5-f61b-00fb2b0e9376"
      },
      "outputs": [
        {
          "output_type": "execute_result",
          "data": {
            "text/plain": [
              "       release_date          len       dating     violence   world/life  \\\n",
              "count   1278.000000  1278.000000  1278.000000  1278.000000  1278.000000   \n",
              "mean    2017.933490    86.089202     0.018776     0.142754     0.105924   \n",
              "std        0.787205    45.783015     0.043383     0.189347     0.162829   \n",
              "min     2017.000000     1.000000     0.000315     0.000315     0.000301   \n",
              "25%     2017.000000    49.000000     0.000752     0.000927     0.000835   \n",
              "50%     2018.000000    80.000000     0.001350     0.036336     0.003010   \n",
              "75%     2019.000000   117.000000     0.004785     0.305575     0.148849   \n",
              "max     2019.000000   199.000000     0.362900     0.927126     0.766905   \n",
              "\n",
              "        night/time  shake the audience  family/gospel     romantic  \\\n",
              "count  1278.000000         1278.000000    1278.000000  1278.000000   \n",
              "mean      0.054130            0.029147       0.014956     0.024671   \n",
              "std       0.103597            0.052656       0.038696     0.065287   \n",
              "min       0.000346            0.000342       0.000301     0.000315   \n",
              "25%       0.000822            0.000993       0.000731     0.000711   \n",
              "50%       0.001880            0.002149       0.001316     0.001350   \n",
              "75%       0.064782            0.036330       0.005702     0.020158   \n",
              "max       0.735489            0.402632       0.502873     0.864662   \n",
              "\n",
              "       communication  ...   like/girls      sadness     feelings  \\\n",
              "count    1278.000000  ...  1278.000000  1278.000000  1278.000000   \n",
              "mean        0.071438  ...     0.030671     0.117072     0.028077   \n",
              "std         0.104074  ...     0.060412     0.170699     0.060583   \n",
              "min         0.000346  ...     0.000301     0.000315     0.000342   \n",
              "25%         0.000907  ...     0.000774     0.000907     0.000810   \n",
              "50%         0.002506  ...     0.001422     0.003509     0.001645   \n",
              "75%         0.121085  ...     0.031385     0.187153     0.033306   \n",
              "max         0.599669  ...     0.386218     0.852977     0.526316   \n",
              "\n",
              "       danceability     loudness  acousticness  instrumentalness      valence  \\\n",
              "count   1278.000000  1278.000000   1278.000000       1278.000000  1278.000000   \n",
              "mean       0.558297     0.734633      0.229783          0.082851     0.446633   \n",
              "std        0.164673     0.076089      0.274349          0.221295     0.220720   \n",
              "min        0.097801     0.124529      0.000011          0.000000     0.015973   \n",
              "25%        0.456298     0.704311      0.016515          0.000000     0.277617   \n",
              "50%        0.561356     0.749122      0.105421          0.000031     0.430647   \n",
              "75%        0.673995     0.784235      0.361445          0.005709     0.601711   \n",
              "max        0.978339     0.885624      0.995984          0.993927     0.975268   \n",
              "\n",
              "            energy          age  \n",
              "count  1278.000000  1278.000000  \n",
              "mean      0.642800     0.029522  \n",
              "std       0.203089     0.011246  \n",
              "min       0.050321     0.014286  \n",
              "25%       0.505740     0.014286  \n",
              "50%       0.674665     0.028571  \n",
              "75%       0.803297     0.042857  \n",
              "max       0.985986     0.042857  \n",
              "\n",
              "[8 rows x 25 columns]"
            ],
            "text/html": [
              "\n",
              "  <div id=\"df-9e64a51f-3328-432c-89bb-d95fd90d07b9\">\n",
              "    <div class=\"colab-df-container\">\n",
              "      <div>\n",
              "<style scoped>\n",
              "    .dataframe tbody tr th:only-of-type {\n",
              "        vertical-align: middle;\n",
              "    }\n",
              "\n",
              "    .dataframe tbody tr th {\n",
              "        vertical-align: top;\n",
              "    }\n",
              "\n",
              "    .dataframe thead th {\n",
              "        text-align: right;\n",
              "    }\n",
              "</style>\n",
              "<table border=\"1\" class=\"dataframe\">\n",
              "  <thead>\n",
              "    <tr style=\"text-align: right;\">\n",
              "      <th></th>\n",
              "      <th>release_date</th>\n",
              "      <th>len</th>\n",
              "      <th>dating</th>\n",
              "      <th>violence</th>\n",
              "      <th>world/life</th>\n",
              "      <th>night/time</th>\n",
              "      <th>shake the audience</th>\n",
              "      <th>family/gospel</th>\n",
              "      <th>romantic</th>\n",
              "      <th>communication</th>\n",
              "      <th>...</th>\n",
              "      <th>like/girls</th>\n",
              "      <th>sadness</th>\n",
              "      <th>feelings</th>\n",
              "      <th>danceability</th>\n",
              "      <th>loudness</th>\n",
              "      <th>acousticness</th>\n",
              "      <th>instrumentalness</th>\n",
              "      <th>valence</th>\n",
              "      <th>energy</th>\n",
              "      <th>age</th>\n",
              "    </tr>\n",
              "  </thead>\n",
              "  <tbody>\n",
              "    <tr>\n",
              "      <th>count</th>\n",
              "      <td>1278.000000</td>\n",
              "      <td>1278.000000</td>\n",
              "      <td>1278.000000</td>\n",
              "      <td>1278.000000</td>\n",
              "      <td>1278.000000</td>\n",
              "      <td>1278.000000</td>\n",
              "      <td>1278.000000</td>\n",
              "      <td>1278.000000</td>\n",
              "      <td>1278.000000</td>\n",
              "      <td>1278.000000</td>\n",
              "      <td>...</td>\n",
              "      <td>1278.000000</td>\n",
              "      <td>1278.000000</td>\n",
              "      <td>1278.000000</td>\n",
              "      <td>1278.000000</td>\n",
              "      <td>1278.000000</td>\n",
              "      <td>1278.000000</td>\n",
              "      <td>1278.000000</td>\n",
              "      <td>1278.000000</td>\n",
              "      <td>1278.000000</td>\n",
              "      <td>1278.000000</td>\n",
              "    </tr>\n",
              "    <tr>\n",
              "      <th>mean</th>\n",
              "      <td>2017.933490</td>\n",
              "      <td>86.089202</td>\n",
              "      <td>0.018776</td>\n",
              "      <td>0.142754</td>\n",
              "      <td>0.105924</td>\n",
              "      <td>0.054130</td>\n",
              "      <td>0.029147</td>\n",
              "      <td>0.014956</td>\n",
              "      <td>0.024671</td>\n",
              "      <td>0.071438</td>\n",
              "      <td>...</td>\n",
              "      <td>0.030671</td>\n",
              "      <td>0.117072</td>\n",
              "      <td>0.028077</td>\n",
              "      <td>0.558297</td>\n",
              "      <td>0.734633</td>\n",
              "      <td>0.229783</td>\n",
              "      <td>0.082851</td>\n",
              "      <td>0.446633</td>\n",
              "      <td>0.642800</td>\n",
              "      <td>0.029522</td>\n",
              "    </tr>\n",
              "    <tr>\n",
              "      <th>std</th>\n",
              "      <td>0.787205</td>\n",
              "      <td>45.783015</td>\n",
              "      <td>0.043383</td>\n",
              "      <td>0.189347</td>\n",
              "      <td>0.162829</td>\n",
              "      <td>0.103597</td>\n",
              "      <td>0.052656</td>\n",
              "      <td>0.038696</td>\n",
              "      <td>0.065287</td>\n",
              "      <td>0.104074</td>\n",
              "      <td>...</td>\n",
              "      <td>0.060412</td>\n",
              "      <td>0.170699</td>\n",
              "      <td>0.060583</td>\n",
              "      <td>0.164673</td>\n",
              "      <td>0.076089</td>\n",
              "      <td>0.274349</td>\n",
              "      <td>0.221295</td>\n",
              "      <td>0.220720</td>\n",
              "      <td>0.203089</td>\n",
              "      <td>0.011246</td>\n",
              "    </tr>\n",
              "    <tr>\n",
              "      <th>min</th>\n",
              "      <td>2017.000000</td>\n",
              "      <td>1.000000</td>\n",
              "      <td>0.000315</td>\n",
              "      <td>0.000315</td>\n",
              "      <td>0.000301</td>\n",
              "      <td>0.000346</td>\n",
              "      <td>0.000342</td>\n",
              "      <td>0.000301</td>\n",
              "      <td>0.000315</td>\n",
              "      <td>0.000346</td>\n",
              "      <td>...</td>\n",
              "      <td>0.000301</td>\n",
              "      <td>0.000315</td>\n",
              "      <td>0.000342</td>\n",
              "      <td>0.097801</td>\n",
              "      <td>0.124529</td>\n",
              "      <td>0.000011</td>\n",
              "      <td>0.000000</td>\n",
              "      <td>0.015973</td>\n",
              "      <td>0.050321</td>\n",
              "      <td>0.014286</td>\n",
              "    </tr>\n",
              "    <tr>\n",
              "      <th>25%</th>\n",
              "      <td>2017.000000</td>\n",
              "      <td>49.000000</td>\n",
              "      <td>0.000752</td>\n",
              "      <td>0.000927</td>\n",
              "      <td>0.000835</td>\n",
              "      <td>0.000822</td>\n",
              "      <td>0.000993</td>\n",
              "      <td>0.000731</td>\n",
              "      <td>0.000711</td>\n",
              "      <td>0.000907</td>\n",
              "      <td>...</td>\n",
              "      <td>0.000774</td>\n",
              "      <td>0.000907</td>\n",
              "      <td>0.000810</td>\n",
              "      <td>0.456298</td>\n",
              "      <td>0.704311</td>\n",
              "      <td>0.016515</td>\n",
              "      <td>0.000000</td>\n",
              "      <td>0.277617</td>\n",
              "      <td>0.505740</td>\n",
              "      <td>0.014286</td>\n",
              "    </tr>\n",
              "    <tr>\n",
              "      <th>50%</th>\n",
              "      <td>2018.000000</td>\n",
              "      <td>80.000000</td>\n",
              "      <td>0.001350</td>\n",
              "      <td>0.036336</td>\n",
              "      <td>0.003010</td>\n",
              "      <td>0.001880</td>\n",
              "      <td>0.002149</td>\n",
              "      <td>0.001316</td>\n",
              "      <td>0.001350</td>\n",
              "      <td>0.002506</td>\n",
              "      <td>...</td>\n",
              "      <td>0.001422</td>\n",
              "      <td>0.003509</td>\n",
              "      <td>0.001645</td>\n",
              "      <td>0.561356</td>\n",
              "      <td>0.749122</td>\n",
              "      <td>0.105421</td>\n",
              "      <td>0.000031</td>\n",
              "      <td>0.430647</td>\n",
              "      <td>0.674665</td>\n",
              "      <td>0.028571</td>\n",
              "    </tr>\n",
              "    <tr>\n",
              "      <th>75%</th>\n",
              "      <td>2019.000000</td>\n",
              "      <td>117.000000</td>\n",
              "      <td>0.004785</td>\n",
              "      <td>0.305575</td>\n",
              "      <td>0.148849</td>\n",
              "      <td>0.064782</td>\n",
              "      <td>0.036330</td>\n",
              "      <td>0.005702</td>\n",
              "      <td>0.020158</td>\n",
              "      <td>0.121085</td>\n",
              "      <td>...</td>\n",
              "      <td>0.031385</td>\n",
              "      <td>0.187153</td>\n",
              "      <td>0.033306</td>\n",
              "      <td>0.673995</td>\n",
              "      <td>0.784235</td>\n",
              "      <td>0.361445</td>\n",
              "      <td>0.005709</td>\n",
              "      <td>0.601711</td>\n",
              "      <td>0.803297</td>\n",
              "      <td>0.042857</td>\n",
              "    </tr>\n",
              "    <tr>\n",
              "      <th>max</th>\n",
              "      <td>2019.000000</td>\n",
              "      <td>199.000000</td>\n",
              "      <td>0.362900</td>\n",
              "      <td>0.927126</td>\n",
              "      <td>0.766905</td>\n",
              "      <td>0.735489</td>\n",
              "      <td>0.402632</td>\n",
              "      <td>0.502873</td>\n",
              "      <td>0.864662</td>\n",
              "      <td>0.599669</td>\n",
              "      <td>...</td>\n",
              "      <td>0.386218</td>\n",
              "      <td>0.852977</td>\n",
              "      <td>0.526316</td>\n",
              "      <td>0.978339</td>\n",
              "      <td>0.885624</td>\n",
              "      <td>0.995984</td>\n",
              "      <td>0.993927</td>\n",
              "      <td>0.975268</td>\n",
              "      <td>0.985986</td>\n",
              "      <td>0.042857</td>\n",
              "    </tr>\n",
              "  </tbody>\n",
              "</table>\n",
              "<p>8 rows × 25 columns</p>\n",
              "</div>\n",
              "      <button class=\"colab-df-convert\" onclick=\"convertToInteractive('df-9e64a51f-3328-432c-89bb-d95fd90d07b9')\"\n",
              "              title=\"Convert this dataframe to an interactive table.\"\n",
              "              style=\"display:none;\">\n",
              "        \n",
              "  <svg xmlns=\"http://www.w3.org/2000/svg\" height=\"24px\"viewBox=\"0 0 24 24\"\n",
              "       width=\"24px\">\n",
              "    <path d=\"M0 0h24v24H0V0z\" fill=\"none\"/>\n",
              "    <path d=\"M18.56 5.44l.94 2.06.94-2.06 2.06-.94-2.06-.94-.94-2.06-.94 2.06-2.06.94zm-11 1L8.5 8.5l.94-2.06 2.06-.94-2.06-.94L8.5 2.5l-.94 2.06-2.06.94zm10 10l.94 2.06.94-2.06 2.06-.94-2.06-.94-.94-2.06-.94 2.06-2.06.94z\"/><path d=\"M17.41 7.96l-1.37-1.37c-.4-.4-.92-.59-1.43-.59-.52 0-1.04.2-1.43.59L10.3 9.45l-7.72 7.72c-.78.78-.78 2.05 0 2.83L4 21.41c.39.39.9.59 1.41.59.51 0 1.02-.2 1.41-.59l7.78-7.78 2.81-2.81c.8-.78.8-2.07 0-2.86zM5.41 20L4 18.59l7.72-7.72 1.47 1.35L5.41 20z\"/>\n",
              "  </svg>\n",
              "      </button>\n",
              "      \n",
              "  <style>\n",
              "    .colab-df-container {\n",
              "      display:flex;\n",
              "      flex-wrap:wrap;\n",
              "      gap: 12px;\n",
              "    }\n",
              "\n",
              "    .colab-df-convert {\n",
              "      background-color: #E8F0FE;\n",
              "      border: none;\n",
              "      border-radius: 50%;\n",
              "      cursor: pointer;\n",
              "      display: none;\n",
              "      fill: #1967D2;\n",
              "      height: 32px;\n",
              "      padding: 0 0 0 0;\n",
              "      width: 32px;\n",
              "    }\n",
              "\n",
              "    .colab-df-convert:hover {\n",
              "      background-color: #E2EBFA;\n",
              "      box-shadow: 0px 1px 2px rgba(60, 64, 67, 0.3), 0px 1px 3px 1px rgba(60, 64, 67, 0.15);\n",
              "      fill: #174EA6;\n",
              "    }\n",
              "\n",
              "    [theme=dark] .colab-df-convert {\n",
              "      background-color: #3B4455;\n",
              "      fill: #D2E3FC;\n",
              "    }\n",
              "\n",
              "    [theme=dark] .colab-df-convert:hover {\n",
              "      background-color: #434B5C;\n",
              "      box-shadow: 0px 1px 3px 1px rgba(0, 0, 0, 0.15);\n",
              "      filter: drop-shadow(0px 1px 2px rgba(0, 0, 0, 0.3));\n",
              "      fill: #FFFFFF;\n",
              "    }\n",
              "  </style>\n",
              "\n",
              "      <script>\n",
              "        const buttonEl =\n",
              "          document.querySelector('#df-9e64a51f-3328-432c-89bb-d95fd90d07b9 button.colab-df-convert');\n",
              "        buttonEl.style.display =\n",
              "          google.colab.kernel.accessAllowed ? 'block' : 'none';\n",
              "\n",
              "        async function convertToInteractive(key) {\n",
              "          const element = document.querySelector('#df-9e64a51f-3328-432c-89bb-d95fd90d07b9');\n",
              "          const dataTable =\n",
              "            await google.colab.kernel.invokeFunction('convertToInteractive',\n",
              "                                                     [key], {});\n",
              "          if (!dataTable) return;\n",
              "\n",
              "          const docLinkHtml = 'Like what you see? Visit the ' +\n",
              "            '<a target=\"_blank\" href=https://colab.research.google.com/notebooks/data_table.ipynb>data table notebook</a>'\n",
              "            + ' to learn more about interactive tables.';\n",
              "          element.innerHTML = '';\n",
              "          dataTable['output_type'] = 'display_data';\n",
              "          await google.colab.output.renderOutput(dataTable, element);\n",
              "          const docLink = document.createElement('div');\n",
              "          docLink.innerHTML = docLinkHtml;\n",
              "          element.appendChild(docLink);\n",
              "        }\n",
              "      </script>\n",
              "    </div>\n",
              "  </div>\n",
              "  "
            ]
          },
          "metadata": {},
          "execution_count": 28
        }
      ],
      "source": [
        "df.describe()"
      ],
      "id": "P8Ql-HvYpbl9"
    },
    {
      "cell_type": "code",
      "execution_count": null,
      "metadata": {
        "colab": {
          "base_uri": "https://localhost:8080/",
          "height": 996
        },
        "id": "7y_yGdL8qCHy",
        "outputId": "18855fa9-8681-45f2-c1d5-70e5ed769f5c"
      },
      "outputs": [
        {
          "output_type": "execute_result",
          "data": {
            "text/plain": [
              "                          release_date       len    dating  violence  \\\n",
              "release_date                  1.000000  0.000599 -0.021424 -0.008955   \n",
              "len                           0.000599  1.000000  0.041516 -0.136853   \n",
              "dating                       -0.021424  0.041516  1.000000 -0.096495   \n",
              "violence                     -0.008955 -0.136853 -0.096495  1.000000   \n",
              "world/life                   -0.008615 -0.174779 -0.064834 -0.206975   \n",
              "night/time                    0.021668 -0.060549  0.016264 -0.118914   \n",
              "shake the audience            0.040296  0.224751 -0.002099 -0.098632   \n",
              "family/gospel                 0.030347  0.009925 -0.005780 -0.018016   \n",
              "romantic                     -0.044471 -0.091255  0.025130 -0.072353   \n",
              "communication                -0.033837 -0.010120 -0.035637 -0.112843   \n",
              "obscene                       0.040415  0.453468 -0.013736 -0.274653   \n",
              "music                         0.005952 -0.050636 -0.042560 -0.119723   \n",
              "movement/places               0.047721  0.185904 -0.042267 -0.138008   \n",
              "light/visual perceptions      0.027188 -0.069044 -0.074946  0.017065   \n",
              "family/spiritual              0.025389 -0.060082 -0.064565  0.097941   \n",
              "like/girls                    0.004294  0.097607  0.005282 -0.098260   \n",
              "sadness                      -0.040235 -0.131278  0.049147 -0.219773   \n",
              "feelings                     -0.031198 -0.033126 -0.004244 -0.079927   \n",
              "danceability                  0.018391  0.392302  0.014236 -0.175856   \n",
              "loudness                      0.051561  0.158529  0.012287 -0.002213   \n",
              "acousticness                 -0.072207 -0.092432 -0.014306 -0.095886   \n",
              "instrumentalness             -0.008167 -0.140661 -0.017386  0.133918   \n",
              "valence                       0.021728  0.150815  0.058645 -0.079593   \n",
              "energy                        0.071666  0.067195 -0.012866  0.117018   \n",
              "age                          -1.000000 -0.000599  0.021424  0.008955   \n",
              "\n",
              "                          world/life  night/time  shake the audience  \\\n",
              "release_date               -0.008615    0.021668            0.040296   \n",
              "len                        -0.174779   -0.060549            0.224751   \n",
              "dating                     -0.064834    0.016264           -0.002099   \n",
              "violence                   -0.206975   -0.118914           -0.098632   \n",
              "world/life                  1.000000   -0.116900           -0.052357   \n",
              "night/time                 -0.116900    1.000000           -0.058860   \n",
              "shake the audience         -0.052357   -0.058860            1.000000   \n",
              "family/gospel              -0.013319   -0.004434           -0.027790   \n",
              "romantic                   -0.041029   -0.007233           -0.046684   \n",
              "communication              -0.097527   -0.026458           -0.044599   \n",
              "obscene                    -0.252029   -0.126810            0.149482   \n",
              "music                      -0.075264   -0.026247           -0.070108   \n",
              "movement/places            -0.045384   -0.075488           -0.011722   \n",
              "light/visual perceptions   -0.003751   -0.015246           -0.103583   \n",
              "family/spiritual            0.023699   -0.039966           -0.057722   \n",
              "like/girls                 -0.044062    0.007468           -0.023804   \n",
              "sadness                    -0.159474   -0.101217           -0.067673   \n",
              "feelings                   -0.031918   -0.003229           -0.047537   \n",
              "danceability               -0.126299   -0.006735            0.092519   \n",
              "loudness                   -0.071862    0.017789            0.064995   \n",
              "acousticness                0.070819   -0.037953           -0.055265   \n",
              "instrumentalness           -0.023776    0.012624           -0.072925   \n",
              "valence                    -0.074164    0.074184           -0.024530   \n",
              "energy                     -0.069936    0.071475            0.038864   \n",
              "age                         0.008615   -0.021668           -0.040296   \n",
              "\n",
              "                          family/gospel  romantic  communication  ...  \\\n",
              "release_date                   0.030347 -0.044471      -0.033837  ...   \n",
              "len                            0.009925 -0.091255      -0.010120  ...   \n",
              "dating                        -0.005780  0.025130      -0.035637  ...   \n",
              "violence                      -0.018016 -0.072353      -0.112843  ...   \n",
              "world/life                    -0.013319 -0.041029      -0.097527  ...   \n",
              "night/time                    -0.004434 -0.007233      -0.026458  ...   \n",
              "shake the audience            -0.027790 -0.046684      -0.044599  ...   \n",
              "family/gospel                  1.000000  0.045260      -0.089512  ...   \n",
              "romantic                       0.045260  1.000000      -0.056290  ...   \n",
              "communication                 -0.089512 -0.056290       1.000000  ...   \n",
              "obscene                        0.014126 -0.100153      -0.054652  ...   \n",
              "music                         -0.044247 -0.029043      -0.030973  ...   \n",
              "movement/places               -0.015641 -0.053018      -0.133627  ...   \n",
              "light/visual perceptions      -0.081038  0.021432      -0.152635  ...   \n",
              "family/spiritual              -0.009696 -0.030116      -0.093957  ...   \n",
              "like/girls                    -0.028143 -0.014168      -0.081824  ...   \n",
              "sadness                       -0.050096 -0.039136       0.035958  ...   \n",
              "feelings                      -0.008717 -0.022631      -0.025299  ...   \n",
              "danceability                   0.001028 -0.035025       0.032563  ...   \n",
              "loudness                       0.008984 -0.081253      -0.028831  ...   \n",
              "acousticness                  -0.013176  0.055034       0.059650  ...   \n",
              "instrumentalness               0.025655  0.007418      -0.057422  ...   \n",
              "valence                        0.033440 -0.034668      -0.034089  ...   \n",
              "energy                         0.013262 -0.064184      -0.074035  ...   \n",
              "age                           -0.030347  0.044471       0.033837  ...   \n",
              "\n",
              "                          like/girls   sadness  feelings  danceability  \\\n",
              "release_date                0.004294 -0.040235 -0.031198      0.018391   \n",
              "len                         0.097607 -0.131278 -0.033126      0.392302   \n",
              "dating                      0.005282  0.049147 -0.004244      0.014236   \n",
              "violence                   -0.098260 -0.219773 -0.079927     -0.175856   \n",
              "world/life                 -0.044062 -0.159474 -0.031918     -0.126299   \n",
              "night/time                  0.007468 -0.101217 -0.003229     -0.006735   \n",
              "shake the audience         -0.023804 -0.067673 -0.047537      0.092519   \n",
              "family/gospel              -0.028143 -0.050096 -0.008717      0.001028   \n",
              "romantic                   -0.014168 -0.039136 -0.022631     -0.035025   \n",
              "communication              -0.081824  0.035958 -0.025299      0.032563   \n",
              "obscene                     0.017385 -0.301873 -0.026202      0.370966   \n",
              "music                      -0.008388 -0.077673 -0.053506     -0.020118   \n",
              "movement/places            -0.062784 -0.087622  0.001921      0.060607   \n",
              "light/visual perceptions   -0.099985 -0.022532 -0.060310     -0.097297   \n",
              "family/spiritual           -0.059853 -0.052146 -0.015935     -0.077099   \n",
              "like/girls                  1.000000 -0.025146 -0.024060      0.068717   \n",
              "sadness                    -0.025146  1.000000 -0.082898     -0.107888   \n",
              "feelings                   -0.024060 -0.082898  1.000000      0.049756   \n",
              "danceability                0.068717 -0.107888  0.049756      1.000000   \n",
              "loudness                    0.059699 -0.035204  0.029536      0.016987   \n",
              "acousticness               -0.028073  0.078335 -0.045519     -0.000070   \n",
              "instrumentalness           -0.027471 -0.029247  0.031073     -0.050624   \n",
              "valence                     0.086242 -0.069449  0.045945      0.322686   \n",
              "energy                      0.046384 -0.062997  0.032352     -0.110249   \n",
              "age                        -0.004294  0.040235  0.031198     -0.018391   \n",
              "\n",
              "                          loudness  acousticness  instrumentalness   valence  \\\n",
              "release_date              0.051561     -0.072207         -0.008167  0.021728   \n",
              "len                       0.158529     -0.092432         -0.140661  0.150815   \n",
              "dating                    0.012287     -0.014306         -0.017386  0.058645   \n",
              "violence                 -0.002213     -0.095886          0.133918 -0.079593   \n",
              "world/life               -0.071862      0.070819         -0.023776 -0.074164   \n",
              "night/time                0.017789     -0.037953          0.012624  0.074184   \n",
              "shake the audience        0.064995     -0.055265         -0.072925 -0.024530   \n",
              "family/gospel             0.008984     -0.013176          0.025655  0.033440   \n",
              "romantic                 -0.081253      0.055034          0.007418 -0.034668   \n",
              "communication            -0.028831      0.059650         -0.057422 -0.034089   \n",
              "obscene                   0.116629     -0.074444         -0.073590  0.134442   \n",
              "music                    -0.064771      0.113457          0.024999  0.014723   \n",
              "movement/places           0.045189     -0.058753         -0.059927  0.048435   \n",
              "light/visual perceptions -0.082938      0.068201          0.124491 -0.059362   \n",
              "family/spiritual         -0.073756      0.054017          0.063588 -0.055861   \n",
              "like/girls                0.059699     -0.028073         -0.027471  0.086242   \n",
              "sadness                  -0.035204      0.078335         -0.029247 -0.069449   \n",
              "feelings                  0.029536     -0.045519          0.031073  0.045945   \n",
              "danceability              0.016987     -0.000070         -0.050624  0.322686   \n",
              "loudness                  1.000000     -0.586205         -0.358803  0.284626   \n",
              "acousticness             -0.586205      1.000000          0.160399 -0.179543   \n",
              "instrumentalness         -0.358803      0.160399          1.000000 -0.105964   \n",
              "valence                   0.284626     -0.179543         -0.105964  1.000000   \n",
              "energy                    0.742478     -0.684472         -0.214153  0.353815   \n",
              "age                      -0.051561      0.072207          0.008167 -0.021728   \n",
              "\n",
              "                            energy       age  \n",
              "release_date              0.071666 -1.000000  \n",
              "len                       0.067195 -0.000599  \n",
              "dating                   -0.012866  0.021424  \n",
              "violence                  0.117018  0.008955  \n",
              "world/life               -0.069936  0.008615  \n",
              "night/time                0.071475 -0.021668  \n",
              "shake the audience        0.038864 -0.040296  \n",
              "family/gospel             0.013262 -0.030347  \n",
              "romantic                 -0.064184  0.044471  \n",
              "communication            -0.074035  0.033837  \n",
              "obscene                   0.013559 -0.040415  \n",
              "music                    -0.087280 -0.005952  \n",
              "movement/places           0.017411 -0.047721  \n",
              "light/visual perceptions -0.036650 -0.027188  \n",
              "family/spiritual         -0.021239 -0.025389  \n",
              "like/girls                0.046384 -0.004294  \n",
              "sadness                  -0.062997  0.040235  \n",
              "feelings                  0.032352  0.031198  \n",
              "danceability             -0.110249 -0.018391  \n",
              "loudness                  0.742478 -0.051561  \n",
              "acousticness             -0.684472  0.072207  \n",
              "instrumentalness         -0.214153  0.008167  \n",
              "valence                   0.353815 -0.021728  \n",
              "energy                    1.000000 -0.071666  \n",
              "age                      -0.071666  1.000000  \n",
              "\n",
              "[25 rows x 25 columns]"
            ],
            "text/html": [
              "\n",
              "  <div id=\"df-532a0874-0c1f-414a-8fa3-4018c7dfae96\">\n",
              "    <div class=\"colab-df-container\">\n",
              "      <div>\n",
              "<style scoped>\n",
              "    .dataframe tbody tr th:only-of-type {\n",
              "        vertical-align: middle;\n",
              "    }\n",
              "\n",
              "    .dataframe tbody tr th {\n",
              "        vertical-align: top;\n",
              "    }\n",
              "\n",
              "    .dataframe thead th {\n",
              "        text-align: right;\n",
              "    }\n",
              "</style>\n",
              "<table border=\"1\" class=\"dataframe\">\n",
              "  <thead>\n",
              "    <tr style=\"text-align: right;\">\n",
              "      <th></th>\n",
              "      <th>release_date</th>\n",
              "      <th>len</th>\n",
              "      <th>dating</th>\n",
              "      <th>violence</th>\n",
              "      <th>world/life</th>\n",
              "      <th>night/time</th>\n",
              "      <th>shake the audience</th>\n",
              "      <th>family/gospel</th>\n",
              "      <th>romantic</th>\n",
              "      <th>communication</th>\n",
              "      <th>...</th>\n",
              "      <th>like/girls</th>\n",
              "      <th>sadness</th>\n",
              "      <th>feelings</th>\n",
              "      <th>danceability</th>\n",
              "      <th>loudness</th>\n",
              "      <th>acousticness</th>\n",
              "      <th>instrumentalness</th>\n",
              "      <th>valence</th>\n",
              "      <th>energy</th>\n",
              "      <th>age</th>\n",
              "    </tr>\n",
              "  </thead>\n",
              "  <tbody>\n",
              "    <tr>\n",
              "      <th>release_date</th>\n",
              "      <td>1.000000</td>\n",
              "      <td>0.000599</td>\n",
              "      <td>-0.021424</td>\n",
              "      <td>-0.008955</td>\n",
              "      <td>-0.008615</td>\n",
              "      <td>0.021668</td>\n",
              "      <td>0.040296</td>\n",
              "      <td>0.030347</td>\n",
              "      <td>-0.044471</td>\n",
              "      <td>-0.033837</td>\n",
              "      <td>...</td>\n",
              "      <td>0.004294</td>\n",
              "      <td>-0.040235</td>\n",
              "      <td>-0.031198</td>\n",
              "      <td>0.018391</td>\n",
              "      <td>0.051561</td>\n",
              "      <td>-0.072207</td>\n",
              "      <td>-0.008167</td>\n",
              "      <td>0.021728</td>\n",
              "      <td>0.071666</td>\n",
              "      <td>-1.000000</td>\n",
              "    </tr>\n",
              "    <tr>\n",
              "      <th>len</th>\n",
              "      <td>0.000599</td>\n",
              "      <td>1.000000</td>\n",
              "      <td>0.041516</td>\n",
              "      <td>-0.136853</td>\n",
              "      <td>-0.174779</td>\n",
              "      <td>-0.060549</td>\n",
              "      <td>0.224751</td>\n",
              "      <td>0.009925</td>\n",
              "      <td>-0.091255</td>\n",
              "      <td>-0.010120</td>\n",
              "      <td>...</td>\n",
              "      <td>0.097607</td>\n",
              "      <td>-0.131278</td>\n",
              "      <td>-0.033126</td>\n",
              "      <td>0.392302</td>\n",
              "      <td>0.158529</td>\n",
              "      <td>-0.092432</td>\n",
              "      <td>-0.140661</td>\n",
              "      <td>0.150815</td>\n",
              "      <td>0.067195</td>\n",
              "      <td>-0.000599</td>\n",
              "    </tr>\n",
              "    <tr>\n",
              "      <th>dating</th>\n",
              "      <td>-0.021424</td>\n",
              "      <td>0.041516</td>\n",
              "      <td>1.000000</td>\n",
              "      <td>-0.096495</td>\n",
              "      <td>-0.064834</td>\n",
              "      <td>0.016264</td>\n",
              "      <td>-0.002099</td>\n",
              "      <td>-0.005780</td>\n",
              "      <td>0.025130</td>\n",
              "      <td>-0.035637</td>\n",
              "      <td>...</td>\n",
              "      <td>0.005282</td>\n",
              "      <td>0.049147</td>\n",
              "      <td>-0.004244</td>\n",
              "      <td>0.014236</td>\n",
              "      <td>0.012287</td>\n",
              "      <td>-0.014306</td>\n",
              "      <td>-0.017386</td>\n",
              "      <td>0.058645</td>\n",
              "      <td>-0.012866</td>\n",
              "      <td>0.021424</td>\n",
              "    </tr>\n",
              "    <tr>\n",
              "      <th>violence</th>\n",
              "      <td>-0.008955</td>\n",
              "      <td>-0.136853</td>\n",
              "      <td>-0.096495</td>\n",
              "      <td>1.000000</td>\n",
              "      <td>-0.206975</td>\n",
              "      <td>-0.118914</td>\n",
              "      <td>-0.098632</td>\n",
              "      <td>-0.018016</td>\n",
              "      <td>-0.072353</td>\n",
              "      <td>-0.112843</td>\n",
              "      <td>...</td>\n",
              "      <td>-0.098260</td>\n",
              "      <td>-0.219773</td>\n",
              "      <td>-0.079927</td>\n",
              "      <td>-0.175856</td>\n",
              "      <td>-0.002213</td>\n",
              "      <td>-0.095886</td>\n",
              "      <td>0.133918</td>\n",
              "      <td>-0.079593</td>\n",
              "      <td>0.117018</td>\n",
              "      <td>0.008955</td>\n",
              "    </tr>\n",
              "    <tr>\n",
              "      <th>world/life</th>\n",
              "      <td>-0.008615</td>\n",
              "      <td>-0.174779</td>\n",
              "      <td>-0.064834</td>\n",
              "      <td>-0.206975</td>\n",
              "      <td>1.000000</td>\n",
              "      <td>-0.116900</td>\n",
              "      <td>-0.052357</td>\n",
              "      <td>-0.013319</td>\n",
              "      <td>-0.041029</td>\n",
              "      <td>-0.097527</td>\n",
              "      <td>...</td>\n",
              "      <td>-0.044062</td>\n",
              "      <td>-0.159474</td>\n",
              "      <td>-0.031918</td>\n",
              "      <td>-0.126299</td>\n",
              "      <td>-0.071862</td>\n",
              "      <td>0.070819</td>\n",
              "      <td>-0.023776</td>\n",
              "      <td>-0.074164</td>\n",
              "      <td>-0.069936</td>\n",
              "      <td>0.008615</td>\n",
              "    </tr>\n",
              "    <tr>\n",
              "      <th>night/time</th>\n",
              "      <td>0.021668</td>\n",
              "      <td>-0.060549</td>\n",
              "      <td>0.016264</td>\n",
              "      <td>-0.118914</td>\n",
              "      <td>-0.116900</td>\n",
              "      <td>1.000000</td>\n",
              "      <td>-0.058860</td>\n",
              "      <td>-0.004434</td>\n",
              "      <td>-0.007233</td>\n",
              "      <td>-0.026458</td>\n",
              "      <td>...</td>\n",
              "      <td>0.007468</td>\n",
              "      <td>-0.101217</td>\n",
              "      <td>-0.003229</td>\n",
              "      <td>-0.006735</td>\n",
              "      <td>0.017789</td>\n",
              "      <td>-0.037953</td>\n",
              "      <td>0.012624</td>\n",
              "      <td>0.074184</td>\n",
              "      <td>0.071475</td>\n",
              "      <td>-0.021668</td>\n",
              "    </tr>\n",
              "    <tr>\n",
              "      <th>shake the audience</th>\n",
              "      <td>0.040296</td>\n",
              "      <td>0.224751</td>\n",
              "      <td>-0.002099</td>\n",
              "      <td>-0.098632</td>\n",
              "      <td>-0.052357</td>\n",
              "      <td>-0.058860</td>\n",
              "      <td>1.000000</td>\n",
              "      <td>-0.027790</td>\n",
              "      <td>-0.046684</td>\n",
              "      <td>-0.044599</td>\n",
              "      <td>...</td>\n",
              "      <td>-0.023804</td>\n",
              "      <td>-0.067673</td>\n",
              "      <td>-0.047537</td>\n",
              "      <td>0.092519</td>\n",
              "      <td>0.064995</td>\n",
              "      <td>-0.055265</td>\n",
              "      <td>-0.072925</td>\n",
              "      <td>-0.024530</td>\n",
              "      <td>0.038864</td>\n",
              "      <td>-0.040296</td>\n",
              "    </tr>\n",
              "    <tr>\n",
              "      <th>family/gospel</th>\n",
              "      <td>0.030347</td>\n",
              "      <td>0.009925</td>\n",
              "      <td>-0.005780</td>\n",
              "      <td>-0.018016</td>\n",
              "      <td>-0.013319</td>\n",
              "      <td>-0.004434</td>\n",
              "      <td>-0.027790</td>\n",
              "      <td>1.000000</td>\n",
              "      <td>0.045260</td>\n",
              "      <td>-0.089512</td>\n",
              "      <td>...</td>\n",
              "      <td>-0.028143</td>\n",
              "      <td>-0.050096</td>\n",
              "      <td>-0.008717</td>\n",
              "      <td>0.001028</td>\n",
              "      <td>0.008984</td>\n",
              "      <td>-0.013176</td>\n",
              "      <td>0.025655</td>\n",
              "      <td>0.033440</td>\n",
              "      <td>0.013262</td>\n",
              "      <td>-0.030347</td>\n",
              "    </tr>\n",
              "    <tr>\n",
              "      <th>romantic</th>\n",
              "      <td>-0.044471</td>\n",
              "      <td>-0.091255</td>\n",
              "      <td>0.025130</td>\n",
              "      <td>-0.072353</td>\n",
              "      <td>-0.041029</td>\n",
              "      <td>-0.007233</td>\n",
              "      <td>-0.046684</td>\n",
              "      <td>0.045260</td>\n",
              "      <td>1.000000</td>\n",
              "      <td>-0.056290</td>\n",
              "      <td>...</td>\n",
              "      <td>-0.014168</td>\n",
              "      <td>-0.039136</td>\n",
              "      <td>-0.022631</td>\n",
              "      <td>-0.035025</td>\n",
              "      <td>-0.081253</td>\n",
              "      <td>0.055034</td>\n",
              "      <td>0.007418</td>\n",
              "      <td>-0.034668</td>\n",
              "      <td>-0.064184</td>\n",
              "      <td>0.044471</td>\n",
              "    </tr>\n",
              "    <tr>\n",
              "      <th>communication</th>\n",
              "      <td>-0.033837</td>\n",
              "      <td>-0.010120</td>\n",
              "      <td>-0.035637</td>\n",
              "      <td>-0.112843</td>\n",
              "      <td>-0.097527</td>\n",
              "      <td>-0.026458</td>\n",
              "      <td>-0.044599</td>\n",
              "      <td>-0.089512</td>\n",
              "      <td>-0.056290</td>\n",
              "      <td>1.000000</td>\n",
              "      <td>...</td>\n",
              "      <td>-0.081824</td>\n",
              "      <td>0.035958</td>\n",
              "      <td>-0.025299</td>\n",
              "      <td>0.032563</td>\n",
              "      <td>-0.028831</td>\n",
              "      <td>0.059650</td>\n",
              "      <td>-0.057422</td>\n",
              "      <td>-0.034089</td>\n",
              "      <td>-0.074035</td>\n",
              "      <td>0.033837</td>\n",
              "    </tr>\n",
              "    <tr>\n",
              "      <th>obscene</th>\n",
              "      <td>0.040415</td>\n",
              "      <td>0.453468</td>\n",
              "      <td>-0.013736</td>\n",
              "      <td>-0.274653</td>\n",
              "      <td>-0.252029</td>\n",
              "      <td>-0.126810</td>\n",
              "      <td>0.149482</td>\n",
              "      <td>0.014126</td>\n",
              "      <td>-0.100153</td>\n",
              "      <td>-0.054652</td>\n",
              "      <td>...</td>\n",
              "      <td>0.017385</td>\n",
              "      <td>-0.301873</td>\n",
              "      <td>-0.026202</td>\n",
              "      <td>0.370966</td>\n",
              "      <td>0.116629</td>\n",
              "      <td>-0.074444</td>\n",
              "      <td>-0.073590</td>\n",
              "      <td>0.134442</td>\n",
              "      <td>0.013559</td>\n",
              "      <td>-0.040415</td>\n",
              "    </tr>\n",
              "    <tr>\n",
              "      <th>music</th>\n",
              "      <td>0.005952</td>\n",
              "      <td>-0.050636</td>\n",
              "      <td>-0.042560</td>\n",
              "      <td>-0.119723</td>\n",
              "      <td>-0.075264</td>\n",
              "      <td>-0.026247</td>\n",
              "      <td>-0.070108</td>\n",
              "      <td>-0.044247</td>\n",
              "      <td>-0.029043</td>\n",
              "      <td>-0.030973</td>\n",
              "      <td>...</td>\n",
              "      <td>-0.008388</td>\n",
              "      <td>-0.077673</td>\n",
              "      <td>-0.053506</td>\n",
              "      <td>-0.020118</td>\n",
              "      <td>-0.064771</td>\n",
              "      <td>0.113457</td>\n",
              "      <td>0.024999</td>\n",
              "      <td>0.014723</td>\n",
              "      <td>-0.087280</td>\n",
              "      <td>-0.005952</td>\n",
              "    </tr>\n",
              "    <tr>\n",
              "      <th>movement/places</th>\n",
              "      <td>0.047721</td>\n",
              "      <td>0.185904</td>\n",
              "      <td>-0.042267</td>\n",
              "      <td>-0.138008</td>\n",
              "      <td>-0.045384</td>\n",
              "      <td>-0.075488</td>\n",
              "      <td>-0.011722</td>\n",
              "      <td>-0.015641</td>\n",
              "      <td>-0.053018</td>\n",
              "      <td>-0.133627</td>\n",
              "      <td>...</td>\n",
              "      <td>-0.062784</td>\n",
              "      <td>-0.087622</td>\n",
              "      <td>0.001921</td>\n",
              "      <td>0.060607</td>\n",
              "      <td>0.045189</td>\n",
              "      <td>-0.058753</td>\n",
              "      <td>-0.059927</td>\n",
              "      <td>0.048435</td>\n",
              "      <td>0.017411</td>\n",
              "      <td>-0.047721</td>\n",
              "    </tr>\n",
              "    <tr>\n",
              "      <th>light/visual perceptions</th>\n",
              "      <td>0.027188</td>\n",
              "      <td>-0.069044</td>\n",
              "      <td>-0.074946</td>\n",
              "      <td>0.017065</td>\n",
              "      <td>-0.003751</td>\n",
              "      <td>-0.015246</td>\n",
              "      <td>-0.103583</td>\n",
              "      <td>-0.081038</td>\n",
              "      <td>0.021432</td>\n",
              "      <td>-0.152635</td>\n",
              "      <td>...</td>\n",
              "      <td>-0.099985</td>\n",
              "      <td>-0.022532</td>\n",
              "      <td>-0.060310</td>\n",
              "      <td>-0.097297</td>\n",
              "      <td>-0.082938</td>\n",
              "      <td>0.068201</td>\n",
              "      <td>0.124491</td>\n",
              "      <td>-0.059362</td>\n",
              "      <td>-0.036650</td>\n",
              "      <td>-0.027188</td>\n",
              "    </tr>\n",
              "    <tr>\n",
              "      <th>family/spiritual</th>\n",
              "      <td>0.025389</td>\n",
              "      <td>-0.060082</td>\n",
              "      <td>-0.064565</td>\n",
              "      <td>0.097941</td>\n",
              "      <td>0.023699</td>\n",
              "      <td>-0.039966</td>\n",
              "      <td>-0.057722</td>\n",
              "      <td>-0.009696</td>\n",
              "      <td>-0.030116</td>\n",
              "      <td>-0.093957</td>\n",
              "      <td>...</td>\n",
              "      <td>-0.059853</td>\n",
              "      <td>-0.052146</td>\n",
              "      <td>-0.015935</td>\n",
              "      <td>-0.077099</td>\n",
              "      <td>-0.073756</td>\n",
              "      <td>0.054017</td>\n",
              "      <td>0.063588</td>\n",
              "      <td>-0.055861</td>\n",
              "      <td>-0.021239</td>\n",
              "      <td>-0.025389</td>\n",
              "    </tr>\n",
              "    <tr>\n",
              "      <th>like/girls</th>\n",
              "      <td>0.004294</td>\n",
              "      <td>0.097607</td>\n",
              "      <td>0.005282</td>\n",
              "      <td>-0.098260</td>\n",
              "      <td>-0.044062</td>\n",
              "      <td>0.007468</td>\n",
              "      <td>-0.023804</td>\n",
              "      <td>-0.028143</td>\n",
              "      <td>-0.014168</td>\n",
              "      <td>-0.081824</td>\n",
              "      <td>...</td>\n",
              "      <td>1.000000</td>\n",
              "      <td>-0.025146</td>\n",
              "      <td>-0.024060</td>\n",
              "      <td>0.068717</td>\n",
              "      <td>0.059699</td>\n",
              "      <td>-0.028073</td>\n",
              "      <td>-0.027471</td>\n",
              "      <td>0.086242</td>\n",
              "      <td>0.046384</td>\n",
              "      <td>-0.004294</td>\n",
              "    </tr>\n",
              "    <tr>\n",
              "      <th>sadness</th>\n",
              "      <td>-0.040235</td>\n",
              "      <td>-0.131278</td>\n",
              "      <td>0.049147</td>\n",
              "      <td>-0.219773</td>\n",
              "      <td>-0.159474</td>\n",
              "      <td>-0.101217</td>\n",
              "      <td>-0.067673</td>\n",
              "      <td>-0.050096</td>\n",
              "      <td>-0.039136</td>\n",
              "      <td>0.035958</td>\n",
              "      <td>...</td>\n",
              "      <td>-0.025146</td>\n",
              "      <td>1.000000</td>\n",
              "      <td>-0.082898</td>\n",
              "      <td>-0.107888</td>\n",
              "      <td>-0.035204</td>\n",
              "      <td>0.078335</td>\n",
              "      <td>-0.029247</td>\n",
              "      <td>-0.069449</td>\n",
              "      <td>-0.062997</td>\n",
              "      <td>0.040235</td>\n",
              "    </tr>\n",
              "    <tr>\n",
              "      <th>feelings</th>\n",
              "      <td>-0.031198</td>\n",
              "      <td>-0.033126</td>\n",
              "      <td>-0.004244</td>\n",
              "      <td>-0.079927</td>\n",
              "      <td>-0.031918</td>\n",
              "      <td>-0.003229</td>\n",
              "      <td>-0.047537</td>\n",
              "      <td>-0.008717</td>\n",
              "      <td>-0.022631</td>\n",
              "      <td>-0.025299</td>\n",
              "      <td>...</td>\n",
              "      <td>-0.024060</td>\n",
              "      <td>-0.082898</td>\n",
              "      <td>1.000000</td>\n",
              "      <td>0.049756</td>\n",
              "      <td>0.029536</td>\n",
              "      <td>-0.045519</td>\n",
              "      <td>0.031073</td>\n",
              "      <td>0.045945</td>\n",
              "      <td>0.032352</td>\n",
              "      <td>0.031198</td>\n",
              "    </tr>\n",
              "    <tr>\n",
              "      <th>danceability</th>\n",
              "      <td>0.018391</td>\n",
              "      <td>0.392302</td>\n",
              "      <td>0.014236</td>\n",
              "      <td>-0.175856</td>\n",
              "      <td>-0.126299</td>\n",
              "      <td>-0.006735</td>\n",
              "      <td>0.092519</td>\n",
              "      <td>0.001028</td>\n",
              "      <td>-0.035025</td>\n",
              "      <td>0.032563</td>\n",
              "      <td>...</td>\n",
              "      <td>0.068717</td>\n",
              "      <td>-0.107888</td>\n",
              "      <td>0.049756</td>\n",
              "      <td>1.000000</td>\n",
              "      <td>0.016987</td>\n",
              "      <td>-0.000070</td>\n",
              "      <td>-0.050624</td>\n",
              "      <td>0.322686</td>\n",
              "      <td>-0.110249</td>\n",
              "      <td>-0.018391</td>\n",
              "    </tr>\n",
              "    <tr>\n",
              "      <th>loudness</th>\n",
              "      <td>0.051561</td>\n",
              "      <td>0.158529</td>\n",
              "      <td>0.012287</td>\n",
              "      <td>-0.002213</td>\n",
              "      <td>-0.071862</td>\n",
              "      <td>0.017789</td>\n",
              "      <td>0.064995</td>\n",
              "      <td>0.008984</td>\n",
              "      <td>-0.081253</td>\n",
              "      <td>-0.028831</td>\n",
              "      <td>...</td>\n",
              "      <td>0.059699</td>\n",
              "      <td>-0.035204</td>\n",
              "      <td>0.029536</td>\n",
              "      <td>0.016987</td>\n",
              "      <td>1.000000</td>\n",
              "      <td>-0.586205</td>\n",
              "      <td>-0.358803</td>\n",
              "      <td>0.284626</td>\n",
              "      <td>0.742478</td>\n",
              "      <td>-0.051561</td>\n",
              "    </tr>\n",
              "    <tr>\n",
              "      <th>acousticness</th>\n",
              "      <td>-0.072207</td>\n",
              "      <td>-0.092432</td>\n",
              "      <td>-0.014306</td>\n",
              "      <td>-0.095886</td>\n",
              "      <td>0.070819</td>\n",
              "      <td>-0.037953</td>\n",
              "      <td>-0.055265</td>\n",
              "      <td>-0.013176</td>\n",
              "      <td>0.055034</td>\n",
              "      <td>0.059650</td>\n",
              "      <td>...</td>\n",
              "      <td>-0.028073</td>\n",
              "      <td>0.078335</td>\n",
              "      <td>-0.045519</td>\n",
              "      <td>-0.000070</td>\n",
              "      <td>-0.586205</td>\n",
              "      <td>1.000000</td>\n",
              "      <td>0.160399</td>\n",
              "      <td>-0.179543</td>\n",
              "      <td>-0.684472</td>\n",
              "      <td>0.072207</td>\n",
              "    </tr>\n",
              "    <tr>\n",
              "      <th>instrumentalness</th>\n",
              "      <td>-0.008167</td>\n",
              "      <td>-0.140661</td>\n",
              "      <td>-0.017386</td>\n",
              "      <td>0.133918</td>\n",
              "      <td>-0.023776</td>\n",
              "      <td>0.012624</td>\n",
              "      <td>-0.072925</td>\n",
              "      <td>0.025655</td>\n",
              "      <td>0.007418</td>\n",
              "      <td>-0.057422</td>\n",
              "      <td>...</td>\n",
              "      <td>-0.027471</td>\n",
              "      <td>-0.029247</td>\n",
              "      <td>0.031073</td>\n",
              "      <td>-0.050624</td>\n",
              "      <td>-0.358803</td>\n",
              "      <td>0.160399</td>\n",
              "      <td>1.000000</td>\n",
              "      <td>-0.105964</td>\n",
              "      <td>-0.214153</td>\n",
              "      <td>0.008167</td>\n",
              "    </tr>\n",
              "    <tr>\n",
              "      <th>valence</th>\n",
              "      <td>0.021728</td>\n",
              "      <td>0.150815</td>\n",
              "      <td>0.058645</td>\n",
              "      <td>-0.079593</td>\n",
              "      <td>-0.074164</td>\n",
              "      <td>0.074184</td>\n",
              "      <td>-0.024530</td>\n",
              "      <td>0.033440</td>\n",
              "      <td>-0.034668</td>\n",
              "      <td>-0.034089</td>\n",
              "      <td>...</td>\n",
              "      <td>0.086242</td>\n",
              "      <td>-0.069449</td>\n",
              "      <td>0.045945</td>\n",
              "      <td>0.322686</td>\n",
              "      <td>0.284626</td>\n",
              "      <td>-0.179543</td>\n",
              "      <td>-0.105964</td>\n",
              "      <td>1.000000</td>\n",
              "      <td>0.353815</td>\n",
              "      <td>-0.021728</td>\n",
              "    </tr>\n",
              "    <tr>\n",
              "      <th>energy</th>\n",
              "      <td>0.071666</td>\n",
              "      <td>0.067195</td>\n",
              "      <td>-0.012866</td>\n",
              "      <td>0.117018</td>\n",
              "      <td>-0.069936</td>\n",
              "      <td>0.071475</td>\n",
              "      <td>0.038864</td>\n",
              "      <td>0.013262</td>\n",
              "      <td>-0.064184</td>\n",
              "      <td>-0.074035</td>\n",
              "      <td>...</td>\n",
              "      <td>0.046384</td>\n",
              "      <td>-0.062997</td>\n",
              "      <td>0.032352</td>\n",
              "      <td>-0.110249</td>\n",
              "      <td>0.742478</td>\n",
              "      <td>-0.684472</td>\n",
              "      <td>-0.214153</td>\n",
              "      <td>0.353815</td>\n",
              "      <td>1.000000</td>\n",
              "      <td>-0.071666</td>\n",
              "    </tr>\n",
              "    <tr>\n",
              "      <th>age</th>\n",
              "      <td>-1.000000</td>\n",
              "      <td>-0.000599</td>\n",
              "      <td>0.021424</td>\n",
              "      <td>0.008955</td>\n",
              "      <td>0.008615</td>\n",
              "      <td>-0.021668</td>\n",
              "      <td>-0.040296</td>\n",
              "      <td>-0.030347</td>\n",
              "      <td>0.044471</td>\n",
              "      <td>0.033837</td>\n",
              "      <td>...</td>\n",
              "      <td>-0.004294</td>\n",
              "      <td>0.040235</td>\n",
              "      <td>0.031198</td>\n",
              "      <td>-0.018391</td>\n",
              "      <td>-0.051561</td>\n",
              "      <td>0.072207</td>\n",
              "      <td>0.008167</td>\n",
              "      <td>-0.021728</td>\n",
              "      <td>-0.071666</td>\n",
              "      <td>1.000000</td>\n",
              "    </tr>\n",
              "  </tbody>\n",
              "</table>\n",
              "<p>25 rows × 25 columns</p>\n",
              "</div>\n",
              "      <button class=\"colab-df-convert\" onclick=\"convertToInteractive('df-532a0874-0c1f-414a-8fa3-4018c7dfae96')\"\n",
              "              title=\"Convert this dataframe to an interactive table.\"\n",
              "              style=\"display:none;\">\n",
              "        \n",
              "  <svg xmlns=\"http://www.w3.org/2000/svg\" height=\"24px\"viewBox=\"0 0 24 24\"\n",
              "       width=\"24px\">\n",
              "    <path d=\"M0 0h24v24H0V0z\" fill=\"none\"/>\n",
              "    <path d=\"M18.56 5.44l.94 2.06.94-2.06 2.06-.94-2.06-.94-.94-2.06-.94 2.06-2.06.94zm-11 1L8.5 8.5l.94-2.06 2.06-.94-2.06-.94L8.5 2.5l-.94 2.06-2.06.94zm10 10l.94 2.06.94-2.06 2.06-.94-2.06-.94-.94-2.06-.94 2.06-2.06.94z\"/><path d=\"M17.41 7.96l-1.37-1.37c-.4-.4-.92-.59-1.43-.59-.52 0-1.04.2-1.43.59L10.3 9.45l-7.72 7.72c-.78.78-.78 2.05 0 2.83L4 21.41c.39.39.9.59 1.41.59.51 0 1.02-.2 1.41-.59l7.78-7.78 2.81-2.81c.8-.78.8-2.07 0-2.86zM5.41 20L4 18.59l7.72-7.72 1.47 1.35L5.41 20z\"/>\n",
              "  </svg>\n",
              "      </button>\n",
              "      \n",
              "  <style>\n",
              "    .colab-df-container {\n",
              "      display:flex;\n",
              "      flex-wrap:wrap;\n",
              "      gap: 12px;\n",
              "    }\n",
              "\n",
              "    .colab-df-convert {\n",
              "      background-color: #E8F0FE;\n",
              "      border: none;\n",
              "      border-radius: 50%;\n",
              "      cursor: pointer;\n",
              "      display: none;\n",
              "      fill: #1967D2;\n",
              "      height: 32px;\n",
              "      padding: 0 0 0 0;\n",
              "      width: 32px;\n",
              "    }\n",
              "\n",
              "    .colab-df-convert:hover {\n",
              "      background-color: #E2EBFA;\n",
              "      box-shadow: 0px 1px 2px rgba(60, 64, 67, 0.3), 0px 1px 3px 1px rgba(60, 64, 67, 0.15);\n",
              "      fill: #174EA6;\n",
              "    }\n",
              "\n",
              "    [theme=dark] .colab-df-convert {\n",
              "      background-color: #3B4455;\n",
              "      fill: #D2E3FC;\n",
              "    }\n",
              "\n",
              "    [theme=dark] .colab-df-convert:hover {\n",
              "      background-color: #434B5C;\n",
              "      box-shadow: 0px 1px 3px 1px rgba(0, 0, 0, 0.15);\n",
              "      filter: drop-shadow(0px 1px 2px rgba(0, 0, 0, 0.3));\n",
              "      fill: #FFFFFF;\n",
              "    }\n",
              "  </style>\n",
              "\n",
              "      <script>\n",
              "        const buttonEl =\n",
              "          document.querySelector('#df-532a0874-0c1f-414a-8fa3-4018c7dfae96 button.colab-df-convert');\n",
              "        buttonEl.style.display =\n",
              "          google.colab.kernel.accessAllowed ? 'block' : 'none';\n",
              "\n",
              "        async function convertToInteractive(key) {\n",
              "          const element = document.querySelector('#df-532a0874-0c1f-414a-8fa3-4018c7dfae96');\n",
              "          const dataTable =\n",
              "            await google.colab.kernel.invokeFunction('convertToInteractive',\n",
              "                                                     [key], {});\n",
              "          if (!dataTable) return;\n",
              "\n",
              "          const docLinkHtml = 'Like what you see? Visit the ' +\n",
              "            '<a target=\"_blank\" href=https://colab.research.google.com/notebooks/data_table.ipynb>data table notebook</a>'\n",
              "            + ' to learn more about interactive tables.';\n",
              "          element.innerHTML = '';\n",
              "          dataTable['output_type'] = 'display_data';\n",
              "          await google.colab.output.renderOutput(dataTable, element);\n",
              "          const docLink = document.createElement('div');\n",
              "          docLink.innerHTML = docLinkHtml;\n",
              "          element.appendChild(docLink);\n",
              "        }\n",
              "      </script>\n",
              "    </div>\n",
              "  </div>\n",
              "  "
            ]
          },
          "metadata": {},
          "execution_count": 29
        }
      ],
      "source": [
        "df.corr()"
      ],
      "id": "7y_yGdL8qCHy"
    },
    {
      "cell_type": "markdown",
      "metadata": {
        "id": "WP-2SqDssNrl"
      },
      "source": [
        "### Visualization"
      ],
      "id": "WP-2SqDssNrl"
    },
    {
      "cell_type": "code",
      "execution_count": null,
      "metadata": {
        "colab": {
          "base_uri": "https://localhost:8080/",
          "height": 606
        },
        "id": "8c1b84bb",
        "outputId": "3159342c-2a33-4b5a-e712-67bbb983be6e"
      },
      "outputs": [
        {
          "output_type": "display_data",
          "data": {
            "text/plain": [
              "<Figure size 1440x720 with 1 Axes>"
            ],
            "image/png": "[encoded data removed]"
          },
          "metadata": {
            "needs_background": "light"
          }
        }
      ],
      "source": [
        "# some exploration and visualization\n",
        "fig, ax = plt.subplots(figsize=(20, 10))\n",
        "sns.countplot(x='genre', data=df, hue='topic');"
      ],
      "id": "8c1b84bb"
    },
    {
      "cell_type": "code",
      "execution_count": null,
      "metadata": {
        "colab": {
          "base_uri": "https://localhost:8080/",
          "height": 731
        },
        "id": "c922276c",
        "outputId": "95a3aeff-f7f5-475e-b9a0-430f913f1db5"
      },
      "outputs": [
        {
          "output_type": "display_data",
          "data": {
            "text/plain": [
              "<Figure size 1440x720 with 1 Axes>"
            ],
            "image/png": "[encoded data removed]"
          },
          "metadata": {
            "needs_background": "light"
          }
        }
      ],
      "source": [
        "data = df.groupby('genre').mean(numeric_only=True).drop(['release_date','len'], axis=1)\n",
        "fig, ax = plt.subplots(figsize=(20, 10))\n",
        "sns.scatterplot(data=data.T)\n",
        "plt.xticks(rotation=90)\n",
        "plt.legend(loc='upper center', bbox_to_anchor=(.5, 1.07),\n",
        "          ncol=7, fancybox=True, shadow=True);"
      ],
      "id": "c922276c"
    },
    {
      "cell_type": "code",
      "execution_count": null,
      "metadata": {
        "colab": {
          "base_uri": "https://localhost:8080/",
          "height": 731
        },
        "id": "74b4ff3f",
        "outputId": "497785a1-5803-4996-d6f4-dea9f84e05f4"
      },
      "outputs": [
        {
          "output_type": "display_data",
          "data": {
            "text/plain": [
              "<Figure size 1440x720 with 1 Axes>"
            ],
            "image/png": "[encoded data removed]"
          },
          "metadata": {
            "needs_background": "light"
          }
        }
      ],
      "source": [
        "#min max scaling data\n",
        "data = df.groupby('genre').mean(numeric_only=True)\n",
        "data = (data - data.min())/(data.max()-data.min())\n",
        "fig, ax = plt.subplots(figsize=(20, 10))\n",
        "sns.scatterplot(data=data.T)\n",
        "plt.xticks(rotation=90)\n",
        "plt.legend(loc='upper center', bbox_to_anchor=(.5, 1.07),\n",
        "          ncol=7, fancybox=True, shadow=True);"
      ],
      "id": "74b4ff3f"
    },
    {
      "cell_type": "code",
      "execution_count": null,
      "metadata": {
        "colab": {
          "base_uri": "https://localhost:8080/",
          "height": 702
        },
        "id": "v_jEqzdwhyW6",
        "outputId": "82d947f5-e6cd-4dba-9c59-df08998a7f37"
      },
      "outputs": [
        {
          "output_type": "display_data",
          "data": {
            "text/plain": [
              "<Figure size 1440x720 with 2 Axes>"
            ],
            "image/png": "[encoded data removed]"
          },
          "metadata": {
            "needs_background": "light"
          }
        }
      ],
      "source": [
        "data = df.groupby('genre').mean(numeric_only=True).drop(['release_date','len'], axis=1)\n",
        "data = (data - data.min())/(data.max()-data.min())\n",
        "fig, ax = plt.subplots(figsize=(20, 10))\n",
        "sns.heatmap(data, linewidths=.5, cmap='Blues');"
      ],
      "id": "v_jEqzdwhyW6"
    },
    {
      "cell_type": "markdown",
      "metadata": {
        "id": "ca52d276"
      },
      "source": [
        "## Preliminary work - Machine Learning"
      ],
      "id": "ca52d276"
    },
    {
      "cell_type": "markdown",
      "metadata": {
        "id": "_XQJNtVRlXMq"
      },
      "source": [
        "### Train Test Split and Standard Scaler"
      ],
      "id": "_XQJNtVRlXMq"
    },
    {
      "cell_type": "code",
      "execution_count": null,
      "metadata": {
        "id": "fa3a04e7"
      },
      "outputs": [],
      "source": [
        "# TOPIC_FEATURES\n",
        "X_topic_train_raw, X_topic_test_raw, y_topic_train, y_topic_test = train_test_split(\n",
        "    topic_features, target_le, test_size=.30, random_state=0\n",
        ")\n",
        "\n",
        "#use standard scaler for topic\n",
        "scaler_topic = StandardScaler()\n",
        "X_topic_train = scaler_topic.fit_transform(X_topic_train_raw)\n",
        "X_topic_test = scaler_topic.transform(X_topic_test_raw)\n",
        "\n",
        "# MUSIC_FEATURES\n",
        "X_mFeatures_train_raw, X_mFeatures_test_raw, y_mFeatures_train, y_mFeatures_test = train_test_split(\n",
        "    music_features, target_le, test_size=.30, random_state=0\n",
        ")\n",
        "\n",
        "\n",
        "#use standard scaler\n",
        "scaler_features = StandardScaler()\n",
        "X_mfeatures_train = scaler_features.fit_transform(X_mFeatures_train_raw)\n",
        "X_mfeatures_test = scaler_features.transform(X_mFeatures_test_raw)\n",
        "\n",
        "\n",
        "# ALL_FEATURES\n",
        "X_allFeatures_train_raw, X_allFeatures_test_raw, y_allFeatures_train, y_allFeatures_test = train_test_split(\n",
        "    all_features, target_le, test_size=.30, random_state=0\n",
        ")\n",
        "\n",
        "\n",
        "#use standard scaler\n",
        "scaler_allFeatures = StandardScaler()\n",
        "X_allFeatures_train = scaler_features.fit_transform(X_allFeatures_train_raw)\n",
        "X_allFeatures_test = scaler_features.transform(X_allFeatures_test_raw)\n"
      ],
      "id": "fa3a04e7"
    },
    {
      "cell_type": "markdown",
      "metadata": {
        "id": "KHhMp6kCmkl8"
      },
      "source": [
        "## Methods - Machine Learning\n",
        "We implemented three machine learning algorithms to predict the genre of a song based off given lyrical characteristics. The machine learning algorithms we used below are KNN, Decsion Tree, and Random Forest.\n",
        "### KNN Classifier"
      ],
      "id": "KHhMp6kCmkl8"
    },
    {
      "cell_type": "markdown",
      "metadata": {
        "id": "EZRsMOOp2WID"
      },
      "source": [
        "#### **Topic Features**"
      ],
      "id": "EZRsMOOp2WID"
    },
    {
      "cell_type": "code",
      "execution_count": null,
      "metadata": {
        "colab": {
          "base_uri": "https://localhost:8080/"
        },
        "id": "uCGqIdh6ORUm",
        "outputId": "13e7b79c-8091-4902-9bc5-cd00c10d426f"
      },
      "outputs": [
        {
          "output_type": "stream",
          "name": "stdout",
          "text": [
            "0.3098958333333333\n"
          ]
        }
      ],
      "source": [
        "# TOPIC_FEATURES\n",
        "from sklearn.metrics import accuracy_score \n",
        "knn = KNeighborsClassifier()\n",
        "knn.fit(X_topic_train, np.ravel(y_topic_train))\n",
        "predictions = knn.predict(X_topic_test)\n",
        "print(accuracy_score(y_topic_test, predictions))"
      ],
      "id": "uCGqIdh6ORUm"
    },
    {
      "cell_type": "code",
      "execution_count": null,
      "metadata": {
        "colab": {
          "base_uri": "https://localhost:8080/",
          "height": 614
        },
        "id": "VH9yF_iUjk1K",
        "outputId": "903c0423-45c5-4d32-c572-32b6e1b0b0b5"
      },
      "outputs": [
        {
          "output_type": "display_data",
          "data": {
            "text/plain": [
              "<Figure size 576x432 with 2 Axes>"
            ],
            "image/png": "[encoded data removed]"
          },
          "metadata": {
            "needs_background": "light"
          }
        },
        {
          "output_type": "stream",
          "name": "stdout",
          "text": [
            "0    303\n",
            "3    300\n",
            "4    265\n",
            "1    209\n",
            "2    201\n",
            "dtype: int64\n",
            "genre  \n",
            "blues      303\n",
            "pop        300\n",
            "rock       265\n",
            "country    209\n",
            "jazz       201\n",
            "dtype: int64\n"
          ]
        }
      ],
      "source": [
        "cm = confusion_matrix(y_topic_test, predictions, labels=knn.classes_)\n",
        "disp = ConfusionMatrixDisplay(confusion_matrix=cm, display_labels=['blues', 'country', 'jazz', 'pop', 'rock'])\n",
        "disp.plot()\n",
        "plt.show()\n",
        "\n",
        "# sanity check that labels correspond to the right encoded values\n",
        "print(target_le.value_counts())\n",
        "print(df[target].value_counts())"
      ],
      "id": "VH9yF_iUjk1K"
    },
    {
      "cell_type": "markdown",
      "metadata": {
        "id": "aEOQ9Lpr2gHV"
      },
      "source": [
        "#### **Music Features**"
      ],
      "id": "aEOQ9Lpr2gHV"
    },
    {
      "cell_type": "code",
      "execution_count": null,
      "metadata": {
        "colab": {
          "base_uri": "https://localhost:8080/"
        },
        "id": "6ncxVK7UdkpM",
        "outputId": "3fa938f7-e795-4210-a183-03f495c5f0e7"
      },
      "outputs": [
        {
          "output_type": "stream",
          "name": "stdout",
          "text": [
            "0.4010416666666667\n"
          ]
        }
      ],
      "source": [
        "# MUSIC_FEATURES\n",
        "knn = KNeighborsClassifier()\n",
        "knn.fit(X_mfeatures_train, np.ravel(y_mFeatures_train))\n",
        "predictions = knn.predict(X_mfeatures_test)\n",
        "print(accuracy_score(y_mFeatures_test, predictions))\n",
        "\n"
      ],
      "id": "6ncxVK7UdkpM"
    },
    {
      "cell_type": "code",
      "execution_count": null,
      "metadata": {
        "colab": {
          "base_uri": "https://localhost:8080/"
        },
        "id": "NB8a7Y7Jrg5_",
        "outputId": "99f75736-8d3b-4a01-fd30-a67c42735002"
      },
      "outputs": [
        {
          "output_type": "display_data",
          "data": {
            "text/plain": [
              "<Figure size 576x432 with 2 Axes>"
            ],
            "image/png": "[encoded data removed]"
          },
          "metadata": {
            "needs_background": "light"
          }
        },
        {
          "output_type": "stream",
          "name": "stdout",
          "text": [
            "0    303\n",
            "3    300\n",
            "4    265\n",
            "1    209\n",
            "2    201\n",
            "dtype: int64\n",
            "genre  \n",
            "blues      303\n",
            "pop        300\n",
            "rock       265\n",
            "country    209\n",
            "jazz       201\n",
            "dtype: int64\n"
          ]
        }
      ],
      "source": [
        "cm = confusion_matrix(y_mFeatures_test, predictions, labels=knn.classes_)\n",
        "disp = ConfusionMatrixDisplay(confusion_matrix=cm, display_labels=['blues', 'country', 'jazz', 'pop', 'rock'])\n",
        "disp.plot()\n",
        "plt.show()\n",
        "\n",
        "# sanity check that labels correspond to the right encoded values\n",
        "print(target_le.value_counts())\n",
        "print(df[target].value_counts())"
      ],
      "id": "NB8a7Y7Jrg5_"
    },
    {
      "cell_type": "markdown",
      "metadata": {
        "id": "yoJNX49NA0pI"
      },
      "source": [
        "### Decision Tree"
      ],
      "id": "yoJNX49NA0pI"
    },
    {
      "cell_type": "markdown",
      "metadata": {
        "id": "Gs_s-4s-2p6A"
      },
      "source": [
        "#### **Topic Features**"
      ],
      "id": "Gs_s-4s-2p6A"
    },
    {
      "cell_type": "code",
      "execution_count": null,
      "metadata": {
        "colab": {
          "base_uri": "https://localhost:8080/"
        },
        "id": "hWds3G-GLI-q",
        "outputId": "085e43f5-2f9a-43ee-9009-ca20f44b5a66"
      },
      "outputs": [
        {
          "output_type": "stream",
          "name": "stdout",
          "text": [
            "0.3567708333333333\n"
          ]
        },
        {
          "output_type": "execute_result",
          "data": {
            "text/plain": [
              "<graphviz.files.Source at 0x7f2b9c94d730>"
            ],
            "image/svg+xml": "<?xml version=\"1.0\" encoding=\"UTF-8\" standalone=\"no\"?>\n<!DOCTYPE svg PUBLIC \"-//W3C//DTD SVG 1.1//EN\"\n \"http://www.w3.org/Graphics/SVG/1.1/DTD/svg11.dtd\">\n<!-- Generated by graphviz version 2.43.0 (0)\n -->\n<!-- Title: Tree Pages: 1 -->\n<svg width=\"3842pt\" height=\"552pt\"\n viewBox=\"0.00 0.00 3842.00 552.00\" xmlns=\"http://www.w3.org/2000/svg\" xmlns:xlink=\"http://www.w3.org/1999/xlink\">\n<g id=\"graph0\" class=\"graph\" transform=\"scale(1 1) rotate(0) translate(4 548)\">\n<title>Tree</title>\n<polygon fill=\"white\" stroke=\"transparent\" points=\"-4,4 -4,-548 3838,-548 3838,4 -4,4\"/>\n<!-- 0 -->\n<g id=\"node1\" class=\"node\">\n<title>0</title>\n<path fill=\"#fefeff\" stroke=\"black\" d=\"M2023,-544C2023,-544 1814,-544 1814,-544 1808,-544 1802,-538 1802,-532 1802,-532 1802,-473 1802,-473 1802,-467 1808,-461 1814,-461 1814,-461 2023,-461 2023,-461 2029,-461 2035,-467 2035,-473 2035,-473 2035,-532 2035,-532 2035,-538 2029,-544 2023,-544\"/>\n<text text-anchor=\"start\" x=\"1872\" y=\"-528.8\" font-family=\"Helvetica,sans-Serif\" font-size=\"14.00\">obscene ≤ 0.51</text>\n<text text-anchor=\"start\" x=\"1886.5\" y=\"-513.8\" font-family=\"Helvetica,sans-Serif\" font-size=\"14.00\">gini = 0.79</text>\n<text text-anchor=\"start\" x=\"1861.5\" y=\"-498.8\" font-family=\"Helvetica,sans-Serif\" font-size=\"14.00\">samples = 100.0%</text>\n<text text-anchor=\"start\" x=\"1810\" y=\"-483.8\" font-family=\"Helvetica,sans-Serif\" font-size=\"14.00\">value = [0.24, 0.15, 0.15, 0.24, 0.21]</text>\n<text text-anchor=\"start\" x=\"1873\" y=\"-468.8\" font-family=\"Helvetica,sans-Serif\" font-size=\"14.00\">class = country</text>\n</g>\n<!-- 1 -->\n<g id=\"node2\" class=\"node\">\n<title>1</title>\n<path fill=\"#fef9f5\" stroke=\"black\" d=\"M1547.5,-425C1547.5,-425 1345.5,-425 1345.5,-425 1339.5,-425 1333.5,-419 1333.5,-413 1333.5,-413 1333.5,-354 1333.5,-354 1333.5,-348 1339.5,-342 1345.5,-342 1345.5,-342 1547.5,-342 1547.5,-342 1553.5,-342 1559.5,-348 1559.5,-354 1559.5,-354 1559.5,-413 1559.5,-413 1559.5,-419 1553.5,-425 1547.5,-425\"/>\n<text text-anchor=\"start\" x=\"1401.5\" y=\"-409.8\" font-family=\"Helvetica,sans-Serif\" font-size=\"14.00\">obscene ≤ &#45;0.7</text>\n<text text-anchor=\"start\" x=\"1414.5\" y=\"-394.8\" font-family=\"Helvetica,sans-Serif\" font-size=\"14.00\">gini = 0.78</text>\n<text text-anchor=\"start\" x=\"1393.5\" y=\"-379.8\" font-family=\"Helvetica,sans-Serif\" font-size=\"14.00\">samples = 72.7%</text>\n<text text-anchor=\"start\" x=\"1341.5\" y=\"-364.8\" font-family=\"Helvetica,sans-Serif\" font-size=\"14.00\">value = [0.3, 0.13, 0.17, 0.14, 0.26]</text>\n<text text-anchor=\"start\" x=\"1407\" y=\"-349.8\" font-family=\"Helvetica,sans-Serif\" font-size=\"14.00\">class = blues</text>\n</g>\n<!-- 0&#45;&gt;1 -->\n<g id=\"edge1\" class=\"edge\">\n<title>0&#45;&gt;1</title>\n<path fill=\"none\" stroke=\"black\" d=\"M1801.83,-472.58C1731.3,-455.1 1641.48,-432.83 1569.79,-415.06\"/>\n<polygon fill=\"black\" stroke=\"black\" points=\"1570.35,-411.59 1559.8,-412.58 1568.66,-418.39 1570.35,-411.59\"/>\n<text text-anchor=\"middle\" x=\"1572.7\" y=\"-430.3\" font-family=\"Helvetica,sans-Serif\" font-size=\"14.00\">True</text>\n</g>\n<!-- 16 -->\n<g id=\"node17\" class=\"node\">\n<title>16</title>\n<path fill=\"#b7b6f5\" stroke=\"black\" d=\"M2501.5,-425C2501.5,-425 2299.5,-425 2299.5,-425 2293.5,-425 2287.5,-419 2287.5,-413 2287.5,-413 2287.5,-354 2287.5,-354 2287.5,-348 2293.5,-342 2299.5,-342 2299.5,-342 2501.5,-342 2501.5,-342 2507.5,-342 2513.5,-348 2513.5,-354 2513.5,-354 2513.5,-413 2513.5,-413 2513.5,-419 2507.5,-425 2501.5,-425\"/>\n<text text-anchor=\"start\" x=\"2337.5\" y=\"-409.8\" font-family=\"Helvetica,sans-Serif\" font-size=\"14.00\">family/gospel ≤ &#45;0.36</text>\n<text text-anchor=\"start\" x=\"2368.5\" y=\"-394.8\" font-family=\"Helvetica,sans-Serif\" font-size=\"14.00\">gini = 0.66</text>\n<text text-anchor=\"start\" x=\"2347.5\" y=\"-379.8\" font-family=\"Helvetica,sans-Serif\" font-size=\"14.00\">samples = 27.3%</text>\n<text text-anchor=\"start\" x=\"2295.5\" y=\"-364.8\" font-family=\"Helvetica,sans-Serif\" font-size=\"14.00\">value = [0.08, 0.23, 0.1, 0.51, 0.08]</text>\n<text text-anchor=\"start\" x=\"2355\" y=\"-349.8\" font-family=\"Helvetica,sans-Serif\" font-size=\"14.00\">class = country</text>\n</g>\n<!-- 0&#45;&gt;16 -->\n<g id=\"edge16\" class=\"edge\">\n<title>0&#45;&gt;16</title>\n<path fill=\"none\" stroke=\"black\" d=\"M2035.18,-473.18C2108.5,-455.38 2202.98,-432.45 2277.48,-414.36\"/>\n<polygon fill=\"black\" stroke=\"black\" points=\"2278.5,-417.72 2287.39,-411.96 2276.84,-410.91 2278.5,-417.72\"/>\n<text text-anchor=\"middle\" x=\"2274.38\" y=\"-429.61\" font-family=\"Helvetica,sans-Serif\" font-size=\"14.00\">False</text>\n</g>\n<!-- 2 -->\n<g id=\"node3\" class=\"node\">\n<title>2</title>\n<path fill=\"#fcf0e7\" stroke=\"black\" d=\"M835.5,-306C835.5,-306 633.5,-306 633.5,-306 627.5,-306 621.5,-300 621.5,-294 621.5,-294 621.5,-235 621.5,-235 621.5,-229 627.5,-223 633.5,-223 633.5,-223 835.5,-223 835.5,-223 841.5,-223 847.5,-229 847.5,-235 847.5,-235 847.5,-294 847.5,-294 847.5,-300 841.5,-306 835.5,-306\"/>\n<text text-anchor=\"start\" x=\"693.5\" y=\"-290.8\" font-family=\"Helvetica,sans-Serif\" font-size=\"14.00\">music ≤ &#45;0.42</text>\n<text text-anchor=\"start\" x=\"702.5\" y=\"-275.8\" font-family=\"Helvetica,sans-Serif\" font-size=\"14.00\">gini = 0.77</text>\n<text text-anchor=\"start\" x=\"681.5\" y=\"-260.8\" font-family=\"Helvetica,sans-Serif\" font-size=\"14.00\">samples = 22.9%</text>\n<text text-anchor=\"start\" x=\"629.5\" y=\"-245.8\" font-family=\"Helvetica,sans-Serif\" font-size=\"14.00\">value = [0.32, 0.2, 0.16, 0.23, 0.09]</text>\n<text text-anchor=\"start\" x=\"695\" y=\"-230.8\" font-family=\"Helvetica,sans-Serif\" font-size=\"14.00\">class = blues</text>\n</g>\n<!-- 1&#45;&gt;2 -->\n<g id=\"edge2\" class=\"edge\">\n<title>1&#45;&gt;2</title>\n<path fill=\"none\" stroke=\"black\" d=\"M1333.29,-363.9C1203.43,-342.56 991.25,-307.69 857.44,-285.7\"/>\n<polygon fill=\"black\" stroke=\"black\" points=\"857.98,-282.24 847.54,-284.08 856.84,-289.15 857.98,-282.24\"/>\n</g>\n<!-- 9 -->\n<g id=\"node10\" class=\"node\">\n<title>9</title>\n<path fill=\"#fdeffa\" stroke=\"black\" d=\"M1547.5,-306C1547.5,-306 1345.5,-306 1345.5,-306 1339.5,-306 1333.5,-300 1333.5,-294 1333.5,-294 1333.5,-235 1333.5,-235 1333.5,-229 1339.5,-223 1345.5,-223 1345.5,-223 1547.5,-223 1547.5,-223 1553.5,-223 1559.5,-229 1559.5,-235 1559.5,-235 1559.5,-294 1559.5,-294 1559.5,-300 1553.5,-306 1547.5,-306\"/>\n<text text-anchor=\"start\" x=\"1380\" y=\"-290.8\" font-family=\"Helvetica,sans-Serif\" font-size=\"14.00\">family/spiritual ≤ &#45;0.42</text>\n<text text-anchor=\"start\" x=\"1414.5\" y=\"-275.8\" font-family=\"Helvetica,sans-Serif\" font-size=\"14.00\">gini = 0.75</text>\n<text text-anchor=\"start\" x=\"1393.5\" y=\"-260.8\" font-family=\"Helvetica,sans-Serif\" font-size=\"14.00\">samples = 49.8%</text>\n<text text-anchor=\"start\" x=\"1341.5\" y=\"-245.8\" font-family=\"Helvetica,sans-Serif\" font-size=\"14.00\">value = [0.29, 0.09, 0.18, 0.1, 0.34]</text>\n<text text-anchor=\"start\" x=\"1411\" y=\"-230.8\" font-family=\"Helvetica,sans-Serif\" font-size=\"14.00\">class = jazz</text>\n</g>\n<!-- 1&#45;&gt;9 -->\n<g id=\"edge9\" class=\"edge\">\n<title>1&#45;&gt;9</title>\n<path fill=\"none\" stroke=\"black\" d=\"M1446.5,-341.91C1446.5,-333.65 1446.5,-324.86 1446.5,-316.3\"/>\n<polygon fill=\"black\" stroke=\"black\" points=\"1450,-316.02 1446.5,-306.02 1443,-316.02 1450,-316.02\"/>\n</g>\n<!-- 3 -->\n<g id=\"node4\" class=\"node\">\n<title>3</title>\n<path fill=\"#d6d6fa\" stroke=\"black\" d=\"M472,-187C472,-187 263,-187 263,-187 257,-187 251,-181 251,-175 251,-175 251,-116 251,-116 251,-110 257,-104 263,-104 263,-104 472,-104 472,-104 478,-104 484,-110 484,-116 484,-116 484,-175 484,-175 484,-181 478,-187 472,-187\"/>\n<text text-anchor=\"start\" x=\"318\" y=\"-171.8\" font-family=\"Helvetica,sans-Serif\" font-size=\"14.00\">romantic ≤ &#45;0.38</text>\n<text text-anchor=\"start\" x=\"335.5\" y=\"-156.8\" font-family=\"Helvetica,sans-Serif\" font-size=\"14.00\">gini = 0.74</text>\n<text text-anchor=\"start\" x=\"318\" y=\"-141.8\" font-family=\"Helvetica,sans-Serif\" font-size=\"14.00\">samples = 6.9%</text>\n<text text-anchor=\"start\" x=\"259\" y=\"-126.8\" font-family=\"Helvetica,sans-Serif\" font-size=\"14.00\">value = [0.21, 0.23, 0.06, 0.39, 0.11]</text>\n<text text-anchor=\"start\" x=\"322\" y=\"-111.8\" font-family=\"Helvetica,sans-Serif\" font-size=\"14.00\">class = country</text>\n</g>\n<!-- 2&#45;&gt;3 -->\n<g id=\"edge3\" class=\"edge\">\n<title>2&#45;&gt;3</title>\n<path fill=\"none\" stroke=\"black\" d=\"M621.39,-227.44C580.95,-214.55 535.12,-199.94 493.65,-186.72\"/>\n<polygon fill=\"black\" stroke=\"black\" points=\"494.63,-183.35 484.04,-183.65 492.5,-190.02 494.63,-183.35\"/>\n</g>\n<!-- 6 -->\n<g id=\"node7\" class=\"node\">\n<title>6</title>\n<path fill=\"#f9e4d4\" stroke=\"black\" d=\"M831.5,-187C831.5,-187 637.5,-187 637.5,-187 631.5,-187 625.5,-181 625.5,-175 625.5,-175 625.5,-116 625.5,-116 625.5,-110 631.5,-104 637.5,-104 637.5,-104 831.5,-104 831.5,-104 837.5,-104 843.5,-110 843.5,-116 843.5,-116 843.5,-175 843.5,-175 843.5,-181 837.5,-187 831.5,-187\"/>\n<text text-anchor=\"start\" x=\"689\" y=\"-171.8\" font-family=\"Helvetica,sans-Serif\" font-size=\"14.00\">like/girls ≤ 1.25</text>\n<text text-anchor=\"start\" x=\"702.5\" y=\"-156.8\" font-family=\"Helvetica,sans-Serif\" font-size=\"14.00\">gini = 0.75</text>\n<text text-anchor=\"start\" x=\"681.5\" y=\"-141.8\" font-family=\"Helvetica,sans-Serif\" font-size=\"14.00\">samples = 16.0%</text>\n<text text-anchor=\"start\" x=\"633.5\" y=\"-126.8\" font-family=\"Helvetica,sans-Serif\" font-size=\"14.00\">value = [0.37, 0.2, 0.2, 0.16, 0.08]</text>\n<text text-anchor=\"start\" x=\"695\" y=\"-111.8\" font-family=\"Helvetica,sans-Serif\" font-size=\"14.00\">class = blues</text>\n</g>\n<!-- 2&#45;&gt;6 -->\n<g id=\"edge6\" class=\"edge\">\n<title>2&#45;&gt;6</title>\n<path fill=\"none\" stroke=\"black\" d=\"M734.5,-222.91C734.5,-214.65 734.5,-205.86 734.5,-197.3\"/>\n<polygon fill=\"black\" stroke=\"black\" points=\"738,-197.02 734.5,-187.02 731,-197.02 738,-197.02\"/>\n</g>\n<!-- 4 -->\n<g id=\"node5\" class=\"node\">\n<title>4</title>\n<path fill=\"#fef9f6\" stroke=\"black\" d=\"M221,-68C221,-68 12,-68 12,-68 6,-68 0,-62 0,-56 0,-56 0,-12 0,-12 0,-6 6,0 12,0 12,0 221,0 221,0 227,0 233,-6 233,-12 233,-12 233,-56 233,-56 233,-62 227,-68 221,-68\"/>\n<text text-anchor=\"start\" x=\"84.5\" y=\"-52.8\" font-family=\"Helvetica,sans-Serif\" font-size=\"14.00\">gini = 0.79</text>\n<text text-anchor=\"start\" x=\"67\" y=\"-37.8\" font-family=\"Helvetica,sans-Serif\" font-size=\"14.00\">samples = 3.0%</text>\n<text text-anchor=\"start\" x=\"8\" y=\"-22.8\" font-family=\"Helvetica,sans-Serif\" font-size=\"14.00\">value = [0.26, 0.22, 0.11, 0.19, 0.22]</text>\n<text text-anchor=\"start\" x=\"77\" y=\"-7.8\" font-family=\"Helvetica,sans-Serif\" font-size=\"14.00\">class = blues</text>\n</g>\n<!-- 3&#45;&gt;4 -->\n<g id=\"edge4\" class=\"edge\">\n<title>3&#45;&gt;4</title>\n<path fill=\"none\" stroke=\"black\" d=\"M274.39,-103.88C250.5,-93.46 224.92,-82.3 201.46,-72.07\"/>\n<polygon fill=\"black\" stroke=\"black\" points=\"202.81,-68.83 192.24,-68.04 200.01,-75.25 202.81,-68.83\"/>\n</g>\n<!-- 5 -->\n<g id=\"node6\" class=\"node\">\n<title>5</title>\n<path fill=\"#b0aef4\" stroke=\"black\" d=\"M472,-68C472,-68 263,-68 263,-68 257,-68 251,-62 251,-56 251,-56 251,-12 251,-12 251,-6 257,0 263,0 263,0 472,0 472,0 478,0 484,-6 484,-12 484,-12 484,-56 484,-56 484,-62 478,-68 472,-68\"/>\n<text text-anchor=\"start\" x=\"335.5\" y=\"-52.8\" font-family=\"Helvetica,sans-Serif\" font-size=\"14.00\">gini = 0.62</text>\n<text text-anchor=\"start\" x=\"318\" y=\"-37.8\" font-family=\"Helvetica,sans-Serif\" font-size=\"14.00\">samples = 3.9%</text>\n<text text-anchor=\"start\" x=\"259\" y=\"-22.8\" font-family=\"Helvetica,sans-Serif\" font-size=\"14.00\">value = [0.17, 0.23, 0.03, 0.54, 0.03]</text>\n<text text-anchor=\"start\" x=\"322\" y=\"-7.8\" font-family=\"Helvetica,sans-Serif\" font-size=\"14.00\">class = country</text>\n</g>\n<!-- 3&#45;&gt;5 -->\n<g id=\"edge5\" class=\"edge\">\n<title>3&#45;&gt;5</title>\n<path fill=\"none\" stroke=\"black\" d=\"M367.5,-103.73C367.5,-95.52 367.5,-86.86 367.5,-78.56\"/>\n<polygon fill=\"black\" stroke=\"black\" points=\"371,-78.3 367.5,-68.3 364,-78.3 371,-78.3\"/>\n</g>\n<!-- 7 -->\n<g id=\"node8\" class=\"node\">\n<title>7</title>\n<path fill=\"#f9e2d2\" stroke=\"black\" d=\"M716.5,-68C716.5,-68 514.5,-68 514.5,-68 508.5,-68 502.5,-62 502.5,-56 502.5,-56 502.5,-12 502.5,-12 502.5,-6 508.5,0 514.5,0 514.5,0 716.5,0 716.5,0 722.5,0 728.5,-6 728.5,-12 728.5,-12 728.5,-56 728.5,-56 728.5,-62 722.5,-68 716.5,-68\"/>\n<text text-anchor=\"start\" x=\"583.5\" y=\"-52.8\" font-family=\"Helvetica,sans-Serif\" font-size=\"14.00\">gini = 0.74</text>\n<text text-anchor=\"start\" x=\"562.5\" y=\"-37.8\" font-family=\"Helvetica,sans-Serif\" font-size=\"14.00\">samples = 13.8%</text>\n<text text-anchor=\"start\" x=\"510.5\" y=\"-22.8\" font-family=\"Helvetica,sans-Serif\" font-size=\"14.00\">value = [0.4, 0.17, 0.22, 0.12, 0.09]</text>\n<text text-anchor=\"start\" x=\"576\" y=\"-7.8\" font-family=\"Helvetica,sans-Serif\" font-size=\"14.00\">class = blues</text>\n</g>\n<!-- 6&#45;&gt;7 -->\n<g id=\"edge7\" class=\"edge\">\n<title>6&#45;&gt;7</title>\n<path fill=\"none\" stroke=\"black\" d=\"M690.19,-103.73C680.08,-94.42 669.34,-84.54 659.25,-75.26\"/>\n<polygon fill=\"black\" stroke=\"black\" points=\"661.42,-72.5 651.69,-68.3 656.68,-77.65 661.42,-72.5\"/>\n</g>\n<!-- 8 -->\n<g id=\"node9\" class=\"node\">\n<title>8</title>\n<path fill=\"#f0f0fd\" stroke=\"black\" d=\"M946,-68C946,-68 759,-68 759,-68 753,-68 747,-62 747,-56 747,-56 747,-12 747,-12 747,-6 753,0 759,0 759,0 946,0 946,0 952,0 958,-6 958,-12 958,-12 958,-56 958,-56 958,-62 952,-68 946,-68\"/>\n<text text-anchor=\"start\" x=\"820.5\" y=\"-52.8\" font-family=\"Helvetica,sans-Serif\" font-size=\"14.00\">gini = 0.68</text>\n<text text-anchor=\"start\" x=\"803\" y=\"-37.8\" font-family=\"Helvetica,sans-Serif\" font-size=\"14.00\">samples = 2.2%</text>\n<text text-anchor=\"start\" x=\"755\" y=\"-22.8\" font-family=\"Helvetica,sans-Serif\" font-size=\"14.00\">value = [0.2, 0.35, 0.05, 0.4, 0.0]</text>\n<text text-anchor=\"start\" x=\"807\" y=\"-7.8\" font-family=\"Helvetica,sans-Serif\" font-size=\"14.00\">class = country</text>\n</g>\n<!-- 6&#45;&gt;8 -->\n<g id=\"edge8\" class=\"edge\">\n<title>6&#45;&gt;8</title>\n<path fill=\"none\" stroke=\"black\" d=\"M778.44,-103.73C788.46,-94.42 799.11,-84.54 809.11,-75.26\"/>\n<polygon fill=\"black\" stroke=\"black\" points=\"811.67,-77.67 816.62,-68.3 806.9,-72.54 811.67,-77.67\"/>\n</g>\n<!-- 10 -->\n<g id=\"node11\" class=\"node\">\n<title>10</title>\n<path fill=\"#e5e5fc\" stroke=\"black\" d=\"M1423.5,-187C1423.5,-187 1221.5,-187 1221.5,-187 1215.5,-187 1209.5,-181 1209.5,-175 1209.5,-175 1209.5,-116 1209.5,-116 1209.5,-110 1215.5,-104 1221.5,-104 1221.5,-104 1423.5,-104 1423.5,-104 1429.5,-104 1435.5,-110 1435.5,-116 1435.5,-116 1435.5,-175 1435.5,-175 1435.5,-181 1429.5,-187 1423.5,-187\"/>\n<text text-anchor=\"start\" x=\"1248\" y=\"-171.8\" font-family=\"Helvetica,sans-Serif\" font-size=\"14.00\">movement/places ≤ 1.89</text>\n<text text-anchor=\"start\" x=\"1290.5\" y=\"-156.8\" font-family=\"Helvetica,sans-Serif\" font-size=\"14.00\">gini = 0.71</text>\n<text text-anchor=\"start\" x=\"1273\" y=\"-141.8\" font-family=\"Helvetica,sans-Serif\" font-size=\"14.00\">samples = 6.2%</text>\n<text text-anchor=\"start\" x=\"1217.5\" y=\"-126.8\" font-family=\"Helvetica,sans-Serif\" font-size=\"14.00\">value = [0.13, 0.31, 0.07, 0.4, 0.09]</text>\n<text text-anchor=\"start\" x=\"1277\" y=\"-111.8\" font-family=\"Helvetica,sans-Serif\" font-size=\"14.00\">class = country</text>\n</g>\n<!-- 9&#45;&gt;10 -->\n<g id=\"edge10\" class=\"edge\">\n<title>9&#45;&gt;10</title>\n<path fill=\"none\" stroke=\"black\" d=\"M1403.48,-222.91C1393.57,-213.56 1382.95,-203.54 1372.77,-193.93\"/>\n<polygon fill=\"black\" stroke=\"black\" points=\"1375.12,-191.34 1365.45,-187.02 1370.32,-196.43 1375.12,-191.34\"/>\n</g>\n<!-- 13 -->\n<g id=\"node14\" class=\"node\">\n<title>13</title>\n<path fill=\"#fcebf9\" stroke=\"black\" d=\"M1675,-187C1675,-187 1466,-187 1466,-187 1460,-187 1454,-181 1454,-175 1454,-175 1454,-116 1454,-116 1454,-110 1460,-104 1466,-104 1466,-104 1675,-104 1675,-104 1681,-104 1687,-110 1687,-116 1687,-116 1687,-175 1687,-175 1687,-181 1681,-187 1675,-187\"/>\n<text text-anchor=\"start\" x=\"1507.5\" y=\"-171.8\" font-family=\"Helvetica,sans-Serif\" font-size=\"14.00\">family/gospel ≤ &#45;0.35</text>\n<text text-anchor=\"start\" x=\"1538.5\" y=\"-156.8\" font-family=\"Helvetica,sans-Serif\" font-size=\"14.00\">gini = 0.72</text>\n<text text-anchor=\"start\" x=\"1517.5\" y=\"-141.8\" font-family=\"Helvetica,sans-Serif\" font-size=\"14.00\">samples = 43.6%</text>\n<text text-anchor=\"start\" x=\"1462\" y=\"-126.8\" font-family=\"Helvetica,sans-Serif\" font-size=\"14.00\">value = [0.31, 0.06, 0.19, 0.06, 0.38]</text>\n<text text-anchor=\"start\" x=\"1535\" y=\"-111.8\" font-family=\"Helvetica,sans-Serif\" font-size=\"14.00\">class = jazz</text>\n</g>\n<!-- 9&#45;&gt;13 -->\n<g id=\"edge13\" class=\"edge\">\n<title>9&#45;&gt;13</title>\n<path fill=\"none\" stroke=\"black\" d=\"M1489.52,-222.91C1499.43,-213.56 1510.05,-203.54 1520.23,-193.93\"/>\n<polygon fill=\"black\" stroke=\"black\" points=\"1522.68,-196.43 1527.55,-187.02 1517.88,-191.34 1522.68,-196.43\"/>\n</g>\n<!-- 11 -->\n<g id=\"node12\" class=\"node\">\n<title>11</title>\n<path fill=\"#d0cff9\" stroke=\"black\" d=\"M1190.5,-68C1190.5,-68 988.5,-68 988.5,-68 982.5,-68 976.5,-62 976.5,-56 976.5,-56 976.5,-12 976.5,-12 976.5,-6 982.5,0 988.5,0 988.5,0 1190.5,0 1190.5,0 1196.5,0 1202.5,-6 1202.5,-12 1202.5,-12 1202.5,-56 1202.5,-56 1202.5,-62 1196.5,-68 1190.5,-68\"/>\n<text text-anchor=\"start\" x=\"1057.5\" y=\"-52.8\" font-family=\"Helvetica,sans-Serif\" font-size=\"14.00\">gini = 0.72</text>\n<text text-anchor=\"start\" x=\"1040\" y=\"-37.8\" font-family=\"Helvetica,sans-Serif\" font-size=\"14.00\">samples = 5.5%</text>\n<text text-anchor=\"start\" x=\"984.5\" y=\"-22.8\" font-family=\"Helvetica,sans-Serif\" font-size=\"14.00\">value = [0.14, 0.24, 0.08, 0.43, 0.1]</text>\n<text text-anchor=\"start\" x=\"1044\" y=\"-7.8\" font-family=\"Helvetica,sans-Serif\" font-size=\"14.00\">class = country</text>\n</g>\n<!-- 10&#45;&gt;11 -->\n<g id=\"edge11\" class=\"edge\">\n<title>10&#45;&gt;11</title>\n<path fill=\"none\" stroke=\"black\" d=\"M1236.07,-103.88C1214.09,-93.55 1190.57,-82.5 1168.95,-72.34\"/>\n<polygon fill=\"black\" stroke=\"black\" points=\"1170.35,-69.13 1159.81,-68.04 1167.37,-75.46 1170.35,-69.13\"/>\n</g>\n<!-- 12 -->\n<g id=\"node13\" class=\"node\">\n<title>12</title>\n<path fill=\"#95ea61\" stroke=\"black\" d=\"M1420,-68C1420,-68 1233,-68 1233,-68 1227,-68 1221,-62 1221,-56 1221,-56 1221,-12 1221,-12 1221,-6 1227,0 1233,0 1233,0 1420,0 1420,0 1426,0 1432,-6 1432,-12 1432,-12 1432,-56 1432,-56 1432,-62 1426,-68 1420,-68\"/>\n<text text-anchor=\"start\" x=\"1294.5\" y=\"-52.8\" font-family=\"Helvetica,sans-Serif\" font-size=\"14.00\">gini = 0.28</text>\n<text text-anchor=\"start\" x=\"1277\" y=\"-37.8\" font-family=\"Helvetica,sans-Serif\" font-size=\"14.00\">samples = 0.7%</text>\n<text text-anchor=\"start\" x=\"1229\" y=\"-22.8\" font-family=\"Helvetica,sans-Serif\" font-size=\"14.00\">value = [0.0, 0.83, 0.0, 0.17, 0.0]</text>\n<text text-anchor=\"start\" x=\"1291.5\" y=\"-7.8\" font-family=\"Helvetica,sans-Serif\" font-size=\"14.00\">class = pop</text>\n</g>\n<!-- 10&#45;&gt;12 -->\n<g id=\"edge12\" class=\"edge\">\n<title>10&#45;&gt;12</title>\n<path fill=\"none\" stroke=\"black\" d=\"M1323.99,-103.73C1324.29,-95.52 1324.61,-86.86 1324.91,-78.56\"/>\n<polygon fill=\"black\" stroke=\"black\" points=\"1328.42,-78.42 1325.28,-68.3 1321.42,-78.17 1328.42,-78.42\"/>\n</g>\n<!-- 14 -->\n<g id=\"node15\" class=\"node\">\n<title>14</title>\n<path fill=\"#fbece2\" stroke=\"black\" d=\"M1671,-68C1671,-68 1462,-68 1462,-68 1456,-68 1450,-62 1450,-56 1450,-56 1450,-12 1450,-12 1450,-6 1456,0 1462,0 1462,0 1671,0 1671,0 1677,0 1683,-6 1683,-12 1683,-12 1683,-56 1683,-56 1683,-62 1677,-68 1671,-68\"/>\n<text text-anchor=\"start\" x=\"1534.5\" y=\"-52.8\" font-family=\"Helvetica,sans-Serif\" font-size=\"14.00\">gini = 0.73</text>\n<text text-anchor=\"start\" x=\"1513.5\" y=\"-37.8\" font-family=\"Helvetica,sans-Serif\" font-size=\"14.00\">samples = 13.8%</text>\n<text text-anchor=\"start\" x=\"1458\" y=\"-22.8\" font-family=\"Helvetica,sans-Serif\" font-size=\"14.00\">value = [0.39, 0.07, 0.28, 0.08, 0.17]</text>\n<text text-anchor=\"start\" x=\"1527\" y=\"-7.8\" font-family=\"Helvetica,sans-Serif\" font-size=\"14.00\">class = blues</text>\n</g>\n<!-- 13&#45;&gt;14 -->\n<g id=\"edge14\" class=\"edge\">\n<title>13&#45;&gt;14</title>\n<path fill=\"none\" stroke=\"black\" d=\"M1569.01,-103.73C1568.71,-95.52 1568.39,-86.86 1568.09,-78.56\"/>\n<polygon fill=\"black\" stroke=\"black\" points=\"1571.58,-78.17 1567.72,-68.3 1564.58,-78.42 1571.58,-78.17\"/>\n</g>\n<!-- 15 -->\n<g id=\"node16\" class=\"node\">\n<title>15</title>\n<path fill=\"#f8c8ed\" stroke=\"black\" d=\"M1922,-68C1922,-68 1713,-68 1713,-68 1707,-68 1701,-62 1701,-56 1701,-56 1701,-12 1701,-12 1701,-6 1707,0 1713,0 1713,0 1922,0 1922,0 1928,0 1934,-6 1934,-12 1934,-12 1934,-56 1934,-56 1934,-62 1928,-68 1922,-68\"/>\n<text text-anchor=\"start\" x=\"1785.5\" y=\"-52.8\" font-family=\"Helvetica,sans-Serif\" font-size=\"14.00\">gini = 0.67</text>\n<text text-anchor=\"start\" x=\"1764.5\" y=\"-37.8\" font-family=\"Helvetica,sans-Serif\" font-size=\"14.00\">samples = 29.9%</text>\n<text text-anchor=\"start\" x=\"1709\" y=\"-22.8\" font-family=\"Helvetica,sans-Serif\" font-size=\"14.00\">value = [0.27, 0.05, 0.15, 0.05, 0.48]</text>\n<text text-anchor=\"start\" x=\"1782\" y=\"-7.8\" font-family=\"Helvetica,sans-Serif\" font-size=\"14.00\">class = jazz</text>\n</g>\n<!-- 13&#45;&gt;15 -->\n<g id=\"edge15\" class=\"edge\">\n<title>13&#45;&gt;15</title>\n<path fill=\"none\" stroke=\"black\" d=\"M1662.12,-103.88C1685.53,-93.5 1710.58,-82.4 1733.58,-72.2\"/>\n<polygon fill=\"black\" stroke=\"black\" points=\"1735.24,-75.3 1742.96,-68.04 1732.4,-68.9 1735.24,-75.3\"/>\n</g>\n<!-- 17 -->\n<g id=\"node18\" class=\"node\">\n<title>17</title>\n<path fill=\"#6664eb\" stroke=\"black\" d=\"M2501.5,-306C2501.5,-306 2299.5,-306 2299.5,-306 2293.5,-306 2287.5,-300 2287.5,-294 2287.5,-294 2287.5,-235 2287.5,-235 2287.5,-229 2293.5,-223 2299.5,-223 2299.5,-223 2501.5,-223 2501.5,-223 2507.5,-223 2513.5,-229 2513.5,-235 2513.5,-235 2513.5,-294 2513.5,-294 2513.5,-300 2507.5,-306 2501.5,-306\"/>\n<text text-anchor=\"start\" x=\"2326\" y=\"-290.8\" font-family=\"Helvetica,sans-Serif\" font-size=\"14.00\">movement/places ≤ 1.38</text>\n<text text-anchor=\"start\" x=\"2368.5\" y=\"-275.8\" font-family=\"Helvetica,sans-Serif\" font-size=\"14.00\">gini = 0.33</text>\n<text text-anchor=\"start\" x=\"2351\" y=\"-260.8\" font-family=\"Helvetica,sans-Serif\" font-size=\"14.00\">samples = 5.8%</text>\n<text text-anchor=\"start\" x=\"2295.5\" y=\"-245.8\" font-family=\"Helvetica,sans-Serif\" font-size=\"14.00\">value = [0.04, 0.12, 0.04, 0.81, 0.0]</text>\n<text text-anchor=\"start\" x=\"2355\" y=\"-230.8\" font-family=\"Helvetica,sans-Serif\" font-size=\"14.00\">class = country</text>\n</g>\n<!-- 16&#45;&gt;17 -->\n<g id=\"edge17\" class=\"edge\">\n<title>16&#45;&gt;17</title>\n<path fill=\"none\" stroke=\"black\" d=\"M2400.5,-341.91C2400.5,-333.65 2400.5,-324.86 2400.5,-316.3\"/>\n<polygon fill=\"black\" stroke=\"black\" points=\"2404,-316.02 2400.5,-306.02 2397,-316.02 2404,-316.02\"/>\n</g>\n<!-- 24 -->\n<g id=\"node25\" class=\"node\">\n<title>24</title>\n<path fill=\"#d2d1f9\" stroke=\"black\" d=\"M3195.5,-306C3195.5,-306 2993.5,-306 2993.5,-306 2987.5,-306 2981.5,-300 2981.5,-294 2981.5,-294 2981.5,-235 2981.5,-235 2981.5,-229 2987.5,-223 2993.5,-223 2993.5,-223 3195.5,-223 3195.5,-223 3201.5,-223 3207.5,-229 3207.5,-235 3207.5,-235 3207.5,-294 3207.5,-294 3207.5,-300 3201.5,-306 3195.5,-306\"/>\n<text text-anchor=\"start\" x=\"3046.5\" y=\"-290.8\" font-family=\"Helvetica,sans-Serif\" font-size=\"14.00\">violence ≤ &#45;0.76</text>\n<text text-anchor=\"start\" x=\"3062.5\" y=\"-275.8\" font-family=\"Helvetica,sans-Serif\" font-size=\"14.00\">gini = 0.71</text>\n<text text-anchor=\"start\" x=\"3041.5\" y=\"-260.8\" font-family=\"Helvetica,sans-Serif\" font-size=\"14.00\">samples = 21.5%</text>\n<text text-anchor=\"start\" x=\"2989.5\" y=\"-245.8\" font-family=\"Helvetica,sans-Serif\" font-size=\"14.00\">value = [0.09, 0.26, 0.11, 0.43, 0.1]</text>\n<text text-anchor=\"start\" x=\"3049\" y=\"-230.8\" font-family=\"Helvetica,sans-Serif\" font-size=\"14.00\">class = country</text>\n</g>\n<!-- 16&#45;&gt;24 -->\n<g id=\"edge24\" class=\"edge\">\n<title>16&#45;&gt;24</title>\n<path fill=\"none\" stroke=\"black\" d=\"M2513.55,-363.44C2639.23,-342.25 2841.56,-308.14 2971.23,-286.28\"/>\n<polygon fill=\"black\" stroke=\"black\" points=\"2971.93,-289.71 2981.21,-284.6 2970.77,-282.81 2971.93,-289.71\"/>\n</g>\n<!-- 18 -->\n<g id=\"node19\" class=\"node\">\n<title>18</title>\n<path fill=\"#5755e9\" stroke=\"black\" d=\"M2383.5,-187C2383.5,-187 2181.5,-187 2181.5,-187 2175.5,-187 2169.5,-181 2169.5,-175 2169.5,-175 2169.5,-116 2169.5,-116 2169.5,-110 2175.5,-104 2181.5,-104 2181.5,-104 2383.5,-104 2383.5,-104 2389.5,-104 2395.5,-110 2395.5,-116 2395.5,-116 2395.5,-175 2395.5,-175 2395.5,-181 2389.5,-187 2383.5,-187\"/>\n<text text-anchor=\"start\" x=\"2218.5\" y=\"-171.8\" font-family=\"Helvetica,sans-Serif\" font-size=\"14.00\">family/spiritual ≤ 1.82</text>\n<text text-anchor=\"start\" x=\"2250.5\" y=\"-156.8\" font-family=\"Helvetica,sans-Serif\" font-size=\"14.00\">gini = 0.24</text>\n<text text-anchor=\"start\" x=\"2233\" y=\"-141.8\" font-family=\"Helvetica,sans-Serif\" font-size=\"14.00\">samples = 5.0%</text>\n<text text-anchor=\"start\" x=\"2177.5\" y=\"-126.8\" font-family=\"Helvetica,sans-Serif\" font-size=\"14.00\">value = [0.04, 0.04, 0.04, 0.87, 0.0]</text>\n<text text-anchor=\"start\" x=\"2237\" y=\"-111.8\" font-family=\"Helvetica,sans-Serif\" font-size=\"14.00\">class = country</text>\n</g>\n<!-- 17&#45;&gt;18 -->\n<g id=\"edge18\" class=\"edge\">\n<title>17&#45;&gt;18</title>\n<path fill=\"none\" stroke=\"black\" d=\"M2359.56,-222.91C2350.22,-213.65 2340.22,-203.73 2330.62,-194.21\"/>\n<polygon fill=\"black\" stroke=\"black\" points=\"2332.93,-191.58 2323.37,-187.02 2328,-196.55 2332.93,-191.58\"/>\n</g>\n<!-- 21 -->\n<g id=\"node22\" class=\"node\">\n<title>21</title>\n<path fill=\"#def8ce\" stroke=\"black\" d=\"M2613,-187C2613,-187 2426,-187 2426,-187 2420,-187 2414,-181 2414,-175 2414,-175 2414,-116 2414,-116 2414,-110 2420,-104 2426,-104 2426,-104 2613,-104 2613,-104 2619,-104 2625,-110 2625,-116 2625,-116 2625,-175 2625,-175 2625,-181 2619,-187 2613,-187\"/>\n<text text-anchor=\"start\" x=\"2478\" y=\"-171.8\" font-family=\"Helvetica,sans-Serif\" font-size=\"14.00\">dating ≤ &#45;0.43</text>\n<text text-anchor=\"start\" x=\"2487.5\" y=\"-156.8\" font-family=\"Helvetica,sans-Serif\" font-size=\"14.00\">gini = 0.49</text>\n<text text-anchor=\"start\" x=\"2470\" y=\"-141.8\" font-family=\"Helvetica,sans-Serif\" font-size=\"14.00\">samples = 0.8%</text>\n<text text-anchor=\"start\" x=\"2422\" y=\"-126.8\" font-family=\"Helvetica,sans-Serif\" font-size=\"14.00\">value = [0.0, 0.57, 0.0, 0.43, 0.0]</text>\n<text text-anchor=\"start\" x=\"2484.5\" y=\"-111.8\" font-family=\"Helvetica,sans-Serif\" font-size=\"14.00\">class = pop</text>\n</g>\n<!-- 17&#45;&gt;21 -->\n<g id=\"edge21\" class=\"edge\">\n<title>17&#45;&gt;21</title>\n<path fill=\"none\" stroke=\"black\" d=\"M2441.79,-222.91C2451.2,-213.65 2461.29,-203.73 2470.98,-194.21\"/>\n<polygon fill=\"black\" stroke=\"black\" points=\"2473.61,-196.53 2478.29,-187.02 2468.7,-191.54 2473.61,-196.53\"/>\n</g>\n<!-- 19 -->\n<g id=\"node20\" class=\"node\">\n<title>19</title>\n<path fill=\"#4f4ce8\" stroke=\"black\" d=\"M2166.5,-68C2166.5,-68 1964.5,-68 1964.5,-68 1958.5,-68 1952.5,-62 1952.5,-56 1952.5,-56 1952.5,-12 1952.5,-12 1952.5,-6 1958.5,0 1964.5,0 1964.5,0 2166.5,0 2166.5,0 2172.5,0 2178.5,-6 2178.5,-12 2178.5,-12 2178.5,-56 2178.5,-56 2178.5,-62 2172.5,-68 2166.5,-68\"/>\n<text text-anchor=\"start\" x=\"2033.5\" y=\"-52.8\" font-family=\"Helvetica,sans-Serif\" font-size=\"14.00\">gini = 0.17</text>\n<text text-anchor=\"start\" x=\"2016\" y=\"-37.8\" font-family=\"Helvetica,sans-Serif\" font-size=\"14.00\">samples = 4.8%</text>\n<text text-anchor=\"start\" x=\"1960.5\" y=\"-22.8\" font-family=\"Helvetica,sans-Serif\" font-size=\"14.00\">value = [0.02, 0.05, 0.02, 0.91, 0.0]</text>\n<text text-anchor=\"start\" x=\"2020\" y=\"-7.8\" font-family=\"Helvetica,sans-Serif\" font-size=\"14.00\">class = country</text>\n</g>\n<!-- 18&#45;&gt;19 -->\n<g id=\"edge19\" class=\"edge\">\n<title>18&#45;&gt;19</title>\n<path fill=\"none\" stroke=\"black\" d=\"M2202.01,-103.88C2181.71,-93.64 2160.02,-82.69 2140.03,-72.61\"/>\n<polygon fill=\"black\" stroke=\"black\" points=\"2141.49,-69.42 2130.98,-68.04 2138.33,-75.67 2141.49,-69.42\"/>\n</g>\n<!-- 20 -->\n<g id=\"node21\" class=\"node\">\n<title>20</title>\n<path fill=\"#ffffff\" stroke=\"black\" d=\"M2380.5,-68C2380.5,-68 2208.5,-68 2208.5,-68 2202.5,-68 2196.5,-62 2196.5,-56 2196.5,-56 2196.5,-12 2196.5,-12 2196.5,-6 2202.5,0 2208.5,0 2208.5,0 2380.5,0 2380.5,0 2386.5,0 2392.5,-6 2392.5,-12 2392.5,-12 2392.5,-56 2392.5,-56 2392.5,-62 2386.5,-68 2380.5,-68\"/>\n<text text-anchor=\"start\" x=\"2266.5\" y=\"-52.8\" font-family=\"Helvetica,sans-Serif\" font-size=\"14.00\">gini = 0.5</text>\n<text text-anchor=\"start\" x=\"2245\" y=\"-37.8\" font-family=\"Helvetica,sans-Serif\" font-size=\"14.00\">samples = 0.2%</text>\n<text text-anchor=\"start\" x=\"2204.5\" y=\"-22.8\" font-family=\"Helvetica,sans-Serif\" font-size=\"14.00\">value = [0.5, 0.0, 0.5, 0.0, 0.0]</text>\n<text text-anchor=\"start\" x=\"2255\" y=\"-7.8\" font-family=\"Helvetica,sans-Serif\" font-size=\"14.00\">class = blues</text>\n</g>\n<!-- 18&#45;&gt;20 -->\n<g id=\"edge20\" class=\"edge\">\n<title>18&#45;&gt;20</title>\n<path fill=\"none\" stroke=\"black\" d=\"M2286.97,-103.73C2287.88,-95.43 2288.84,-86.67 2289.76,-78.28\"/>\n<polygon fill=\"black\" stroke=\"black\" points=\"2293.24,-78.62 2290.85,-68.3 2286.28,-77.86 2293.24,-78.62\"/>\n</g>\n<!-- 22 -->\n<g id=\"node23\" class=\"node\">\n<title>22</title>\n<path fill=\"#7be539\" stroke=\"black\" d=\"M2594.5,-68C2594.5,-68 2422.5,-68 2422.5,-68 2416.5,-68 2410.5,-62 2410.5,-56 2410.5,-56 2410.5,-12 2410.5,-12 2410.5,-6 2416.5,0 2422.5,0 2422.5,0 2594.5,0 2594.5,0 2600.5,0 2606.5,-6 2606.5,-12 2606.5,-12 2606.5,-56 2606.5,-56 2606.5,-62 2600.5,-68 2594.5,-68\"/>\n<text text-anchor=\"start\" x=\"2480.5\" y=\"-52.8\" font-family=\"Helvetica,sans-Serif\" font-size=\"14.00\">gini = 0.0</text>\n<text text-anchor=\"start\" x=\"2459\" y=\"-37.8\" font-family=\"Helvetica,sans-Serif\" font-size=\"14.00\">samples = 0.3%</text>\n<text text-anchor=\"start\" x=\"2418.5\" y=\"-22.8\" font-family=\"Helvetica,sans-Serif\" font-size=\"14.00\">value = [0.0, 1.0, 0.0, 0.0, 0.0]</text>\n<text text-anchor=\"start\" x=\"2473.5\" y=\"-7.8\" font-family=\"Helvetica,sans-Serif\" font-size=\"14.00\">class = pop</text>\n</g>\n<!-- 21&#45;&gt;22 -->\n<g id=\"edge22\" class=\"edge\">\n<title>21&#45;&gt;22</title>\n<path fill=\"none\" stroke=\"black\" d=\"M2515.4,-103.73C2514.57,-95.43 2513.69,-86.67 2512.85,-78.28\"/>\n<polygon fill=\"black\" stroke=\"black\" points=\"2516.33,-77.9 2511.85,-68.3 2509.36,-78.6 2516.33,-77.9\"/>\n</g>\n<!-- 23 -->\n<g id=\"node24\" class=\"node\">\n<title>23</title>\n<path fill=\"#7d7bee\" stroke=\"black\" d=\"M2824,-68C2824,-68 2637,-68 2637,-68 2631,-68 2625,-62 2625,-56 2625,-56 2625,-12 2625,-12 2625,-6 2631,0 2637,0 2637,0 2824,0 2824,0 2830,0 2836,-6 2836,-12 2836,-12 2836,-56 2836,-56 2836,-62 2830,-68 2824,-68\"/>\n<text text-anchor=\"start\" x=\"2698.5\" y=\"-52.8\" font-family=\"Helvetica,sans-Serif\" font-size=\"14.00\">gini = 0.38</text>\n<text text-anchor=\"start\" x=\"2681\" y=\"-37.8\" font-family=\"Helvetica,sans-Serif\" font-size=\"14.00\">samples = 0.4%</text>\n<text text-anchor=\"start\" x=\"2633\" y=\"-22.8\" font-family=\"Helvetica,sans-Serif\" font-size=\"14.00\">value = [0.0, 0.25, 0.0, 0.75, 0.0]</text>\n<text text-anchor=\"start\" x=\"2685\" y=\"-7.8\" font-family=\"Helvetica,sans-Serif\" font-size=\"14.00\">class = country</text>\n</g>\n<!-- 21&#45;&gt;23 -->\n<g id=\"edge23\" class=\"edge\">\n<title>21&#45;&gt;23</title>\n<path fill=\"none\" stroke=\"black\" d=\"M2597.77,-103.88C2617.41,-93.69 2638.4,-82.79 2657.76,-72.75\"/>\n<polygon fill=\"black\" stroke=\"black\" points=\"2659.56,-75.76 2666.83,-68.04 2656.34,-69.54 2659.56,-75.76\"/>\n</g>\n<!-- 25 -->\n<g id=\"node26\" class=\"node\">\n<title>25</title>\n<path fill=\"#e8e7fc\" stroke=\"black\" d=\"M3195.5,-187C3195.5,-187 2993.5,-187 2993.5,-187 2987.5,-187 2981.5,-181 2981.5,-175 2981.5,-175 2981.5,-116 2981.5,-116 2981.5,-110 2987.5,-104 2993.5,-104 2993.5,-104 3195.5,-104 3195.5,-104 3201.5,-104 3207.5,-110 3207.5,-116 3207.5,-116 3207.5,-175 3207.5,-175 3207.5,-181 3201.5,-187 3195.5,-187\"/>\n<text text-anchor=\"start\" x=\"3048\" y=\"-171.8\" font-family=\"Helvetica,sans-Serif\" font-size=\"14.00\">obscene ≤ 1.18</text>\n<text text-anchor=\"start\" x=\"3066.5\" y=\"-156.8\" font-family=\"Helvetica,sans-Serif\" font-size=\"14.00\">gini = 0.6</text>\n<text text-anchor=\"start\" x=\"3045\" y=\"-141.8\" font-family=\"Helvetica,sans-Serif\" font-size=\"14.00\">samples = 9.4%</text>\n<text text-anchor=\"start\" x=\"2989.5\" y=\"-126.8\" font-family=\"Helvetica,sans-Serif\" font-size=\"14.00\">value = [0.07, 0.4, 0.02, 0.48, 0.02]</text>\n<text text-anchor=\"start\" x=\"3049\" y=\"-111.8\" font-family=\"Helvetica,sans-Serif\" font-size=\"14.00\">class = country</text>\n</g>\n<!-- 24&#45;&gt;25 -->\n<g id=\"edge25\" class=\"edge\">\n<title>24&#45;&gt;25</title>\n<path fill=\"none\" stroke=\"black\" d=\"M3094.5,-222.91C3094.5,-214.65 3094.5,-205.86 3094.5,-197.3\"/>\n<polygon fill=\"black\" stroke=\"black\" points=\"3098,-197.02 3094.5,-187.02 3091,-197.02 3098,-197.02\"/>\n</g>\n<!-- 28 -->\n<g id=\"node29\" class=\"node\">\n<title>28</title>\n<path fill=\"#cccbf8\" stroke=\"black\" d=\"M3567.5,-187C3567.5,-187 3365.5,-187 3365.5,-187 3359.5,-187 3353.5,-181 3353.5,-175 3353.5,-175 3353.5,-116 3353.5,-116 3353.5,-110 3359.5,-104 3365.5,-104 3365.5,-104 3567.5,-104 3567.5,-104 3573.5,-104 3579.5,-110 3579.5,-116 3579.5,-116 3579.5,-175 3579.5,-175 3579.5,-181 3573.5,-187 3567.5,-187\"/>\n<text text-anchor=\"start\" x=\"3418\" y=\"-171.8\" font-family=\"Helvetica,sans-Serif\" font-size=\"14.00\">sadness ≤ &#45;0.67</text>\n<text text-anchor=\"start\" x=\"3434.5\" y=\"-156.8\" font-family=\"Helvetica,sans-Serif\" font-size=\"14.00\">gini = 0.75</text>\n<text text-anchor=\"start\" x=\"3413.5\" y=\"-141.8\" font-family=\"Helvetica,sans-Serif\" font-size=\"14.00\">samples = 12.1%</text>\n<text text-anchor=\"start\" x=\"3361.5\" y=\"-126.8\" font-family=\"Helvetica,sans-Serif\" font-size=\"14.00\">value = [0.11, 0.15, 0.19, 0.4, 0.16]</text>\n<text text-anchor=\"start\" x=\"3421\" y=\"-111.8\" font-family=\"Helvetica,sans-Serif\" font-size=\"14.00\">class = country</text>\n</g>\n<!-- 24&#45;&gt;28 -->\n<g id=\"edge28\" class=\"edge\">\n<title>24&#45;&gt;28</title>\n<path fill=\"none\" stroke=\"black\" d=\"M3207.63,-227.92C3250.64,-214.39 3299.84,-198.92 3343.7,-185.12\"/>\n<polygon fill=\"black\" stroke=\"black\" points=\"3344.78,-188.45 3353.27,-182.11 3342.68,-181.77 3344.78,-188.45\"/>\n</g>\n<!-- 26 -->\n<g id=\"node27\" class=\"node\">\n<title>26</title>\n<path fill=\"#cdf5b4\" stroke=\"black\" d=\"M3075,-68C3075,-68 2866,-68 2866,-68 2860,-68 2854,-62 2854,-56 2854,-56 2854,-12 2854,-12 2854,-6 2860,0 2866,0 2866,0 3075,0 3075,0 3081,0 3087,-6 3087,-12 3087,-12 3087,-56 3087,-56 3087,-62 3081,-68 3075,-68\"/>\n<text text-anchor=\"start\" x=\"2938.5\" y=\"-52.8\" font-family=\"Helvetica,sans-Serif\" font-size=\"14.00\">gini = 0.59</text>\n<text text-anchor=\"start\" x=\"2921\" y=\"-37.8\" font-family=\"Helvetica,sans-Serif\" font-size=\"14.00\">samples = 4.6%</text>\n<text text-anchor=\"start\" x=\"2862\" y=\"-22.8\" font-family=\"Helvetica,sans-Serif\" font-size=\"14.00\">value = [0.07, 0.56, 0.02, 0.29, 0.05]</text>\n<text text-anchor=\"start\" x=\"2935.5\" y=\"-7.8\" font-family=\"Helvetica,sans-Serif\" font-size=\"14.00\">class = pop</text>\n</g>\n<!-- 25&#45;&gt;26 -->\n<g id=\"edge26\" class=\"edge\">\n<title>25&#45;&gt;26</title>\n<path fill=\"none\" stroke=\"black\" d=\"M3048.33,-103.73C3037.69,-94.33 3026.38,-84.35 3015.78,-74.99\"/>\n<polygon fill=\"black\" stroke=\"black\" points=\"3018.02,-72.3 3008.21,-68.3 3013.39,-77.54 3018.02,-72.3\"/>\n</g>\n<!-- 27 -->\n<g id=\"node28\" class=\"node\">\n<title>27</title>\n<path fill=\"#9796f1\" stroke=\"black\" d=\"M3319.5,-68C3319.5,-68 3117.5,-68 3117.5,-68 3111.5,-68 3105.5,-62 3105.5,-56 3105.5,-56 3105.5,-12 3105.5,-12 3105.5,-6 3111.5,0 3117.5,0 3117.5,0 3319.5,0 3319.5,0 3325.5,0 3331.5,-6 3331.5,-12 3331.5,-12 3331.5,-56 3331.5,-56 3331.5,-62 3325.5,-68 3319.5,-68\"/>\n<text text-anchor=\"start\" x=\"3186.5\" y=\"-52.8\" font-family=\"Helvetica,sans-Serif\" font-size=\"14.00\">gini = 0.51</text>\n<text text-anchor=\"start\" x=\"3169\" y=\"-37.8\" font-family=\"Helvetica,sans-Serif\" font-size=\"14.00\">samples = 4.8%</text>\n<text text-anchor=\"start\" x=\"3113.5\" y=\"-22.8\" font-family=\"Helvetica,sans-Serif\" font-size=\"14.00\">value = [0.07, 0.26, 0.02, 0.65, 0.0]</text>\n<text text-anchor=\"start\" x=\"3173\" y=\"-7.8\" font-family=\"Helvetica,sans-Serif\" font-size=\"14.00\">class = country</text>\n</g>\n<!-- 25&#45;&gt;27 -->\n<g id=\"edge27\" class=\"edge\">\n<title>25&#45;&gt;27</title>\n<path fill=\"none\" stroke=\"black\" d=\"M3140.67,-103.73C3151.31,-94.33 3162.62,-84.35 3173.22,-74.99\"/>\n<polygon fill=\"black\" stroke=\"black\" points=\"3175.61,-77.54 3180.79,-68.3 3170.98,-72.3 3175.61,-77.54\"/>\n</g>\n<!-- 29 -->\n<g id=\"node30\" class=\"node\">\n<title>29</title>\n<path fill=\"#a09ef2\" stroke=\"black\" d=\"M3571,-68C3571,-68 3362,-68 3362,-68 3356,-68 3350,-62 3350,-56 3350,-56 3350,-12 3350,-12 3350,-6 3356,0 3362,0 3362,0 3571,0 3571,0 3577,0 3583,-6 3583,-12 3583,-12 3583,-56 3583,-56 3583,-62 3577,-68 3571,-68\"/>\n<text text-anchor=\"start\" x=\"3438.5\" y=\"-52.8\" font-family=\"Helvetica,sans-Serif\" font-size=\"14.00\">gini = 0.6</text>\n<text text-anchor=\"start\" x=\"3417\" y=\"-37.8\" font-family=\"Helvetica,sans-Serif\" font-size=\"14.00\">samples = 5.6%</text>\n<text text-anchor=\"start\" x=\"3358\" y=\"-22.8\" font-family=\"Helvetica,sans-Serif\" font-size=\"14.00\">value = [0.08, 0.14, 0.18, 0.58, 0.02]</text>\n<text text-anchor=\"start\" x=\"3421\" y=\"-7.8\" font-family=\"Helvetica,sans-Serif\" font-size=\"14.00\">class = country</text>\n</g>\n<!-- 28&#45;&gt;29 -->\n<g id=\"edge29\" class=\"edge\">\n<title>28&#45;&gt;29</title>\n<path fill=\"none\" stroke=\"black\" d=\"M3466.5,-103.73C3466.5,-95.52 3466.5,-86.86 3466.5,-78.56\"/>\n<polygon fill=\"black\" stroke=\"black\" points=\"3470,-78.3 3466.5,-68.3 3463,-78.3 3470,-78.3\"/>\n</g>\n<!-- 30 -->\n<g id=\"node31\" class=\"node\">\n<title>30</title>\n<path fill=\"#fef6fc\" stroke=\"black\" d=\"M3822,-68C3822,-68 3613,-68 3613,-68 3607,-68 3601,-62 3601,-56 3601,-56 3601,-12 3601,-12 3601,-6 3607,0 3613,0 3613,0 3822,0 3822,0 3828,0 3834,-6 3834,-12 3834,-12 3834,-56 3834,-56 3834,-62 3828,-68 3822,-68\"/>\n<text text-anchor=\"start\" x=\"3685.5\" y=\"-52.8\" font-family=\"Helvetica,sans-Serif\" font-size=\"14.00\">gini = 0.79</text>\n<text text-anchor=\"start\" x=\"3668\" y=\"-37.8\" font-family=\"Helvetica,sans-Serif\" font-size=\"14.00\">samples = 6.5%</text>\n<text text-anchor=\"start\" x=\"3609\" y=\"-22.8\" font-family=\"Helvetica,sans-Serif\" font-size=\"14.00\">value = [0.14, 0.16, 0.19, 0.24, 0.28]</text>\n<text text-anchor=\"start\" x=\"3682\" y=\"-7.8\" font-family=\"Helvetica,sans-Serif\" font-size=\"14.00\">class = jazz</text>\n</g>\n<!-- 28&#45;&gt;30 -->\n<g id=\"edge30\" class=\"edge\">\n<title>28&#45;&gt;30</title>\n<path fill=\"none\" stroke=\"black\" d=\"M3559.61,-103.88C3583.5,-93.46 3609.08,-82.3 3632.54,-72.07\"/>\n<polygon fill=\"black\" stroke=\"black\" points=\"3633.99,-75.25 3641.76,-68.04 3631.19,-68.83 3633.99,-75.25\"/>\n</g>\n</g>\n</svg>\n"
          },
          "metadata": {},
          "execution_count": 39
        }
      ],
      "source": [
        "from sklearn.tree import DecisionTreeClassifier \n",
        "from sklearn.tree import export_graphviz\n",
        "import graphviz \n",
        "\n",
        "clf = DecisionTreeClassifier(random_state=42, max_depth=4, max_features=0.4)\n",
        "clf.fit(X_topic_train, np.ravel(y_topic_train))\n",
        "\n",
        "predictions = clf.predict(X_topic_test)\n",
        "print(accuracy_score(y_topic_test, predictions))\n",
        "target_names = df['genre'].value_counts().index.values\n",
        "dot_data = export_graphviz(clf, precision=2,\n",
        "                     feature_names=predictor_topics,  \n",
        "                     proportion=True,\n",
        "                     class_names=target_names,  \n",
        "                     filled=True, rounded=True,  \n",
        "                     special_characters=True)\n",
        "\n",
        "# plot it\n",
        "graph = graphviz.Source(dot_data)  \n",
        "graph"
      ],
      "id": "hWds3G-GLI-q"
    },
    {
      "cell_type": "markdown",
      "metadata": {
        "id": "JGnyeIsB27g0"
      },
      "source": [
        "#### **Music Features**"
      ],
      "id": "JGnyeIsB27g0"
    },
    {
      "cell_type": "code",
      "execution_count": null,
      "metadata": {
        "colab": {
          "base_uri": "https://localhost:8080/"
        },
        "id": "7mlx8WvP5xGO",
        "outputId": "d744c54b-0af0-4142-95cf-b80f45136ddf"
      },
      "outputs": [
        {
          "output_type": "stream",
          "name": "stdout",
          "text": [
            "0.4739583333333333\n"
          ]
        },
        {
          "output_type": "execute_result",
          "data": {
            "text/plain": [
              "<graphviz.files.Source at 0x7f2b9c953220>"
            ],
            "image/svg+xml": "<?xml version=\"1.0\" encoding=\"UTF-8\" standalone=\"no\"?>\n<!DOCTYPE svg PUBLIC \"-//W3C//DTD SVG 1.1//EN\"\n \"http://www.w3.org/Graphics/SVG/1.1/DTD/svg11.dtd\">\n<!-- Generated by graphviz version 2.43.0 (0)\n -->\n<!-- Title: Tree Pages: 1 -->\n<svg width=\"3851pt\" height=\"552pt\"\n viewBox=\"0.00 0.00 3851.00 552.00\" xmlns=\"http://www.w3.org/2000/svg\" xmlns:xlink=\"http://www.w3.org/1999/xlink\">\n<g id=\"graph0\" class=\"graph\" transform=\"scale(1 1) rotate(0) translate(4 548)\">\n<title>Tree</title>\n<polygon fill=\"white\" stroke=\"transparent\" points=\"-4,4 -4,-548 3847,-548 3847,4 -4,4\"/>\n<!-- 0 -->\n<g id=\"node1\" class=\"node\">\n<title>0</title>\n<path fill=\"#fefeff\" stroke=\"black\" d=\"M2053.5,-544C2053.5,-544 1844.5,-544 1844.5,-544 1838.5,-544 1832.5,-538 1832.5,-532 1832.5,-532 1832.5,-473 1832.5,-473 1832.5,-467 1838.5,-461 1844.5,-461 1844.5,-461 2053.5,-461 2053.5,-461 2059.5,-461 2065.5,-467 2065.5,-473 2065.5,-473 2065.5,-532 2065.5,-532 2065.5,-538 2059.5,-544 2053.5,-544\"/>\n<text text-anchor=\"start\" x=\"1892.5\" y=\"-528.8\" font-family=\"Helvetica,sans-Serif\" font-size=\"14.00\">danceability ≤ 0.56</text>\n<text text-anchor=\"start\" x=\"1917\" y=\"-513.8\" font-family=\"Helvetica,sans-Serif\" font-size=\"14.00\">gini = 0.79</text>\n<text text-anchor=\"start\" x=\"1892\" y=\"-498.8\" font-family=\"Helvetica,sans-Serif\" font-size=\"14.00\">samples = 100.0%</text>\n<text text-anchor=\"start\" x=\"1840.5\" y=\"-483.8\" font-family=\"Helvetica,sans-Serif\" font-size=\"14.00\">value = [0.24, 0.15, 0.15, 0.24, 0.21]</text>\n<text text-anchor=\"start\" x=\"1903.5\" y=\"-468.8\" font-family=\"Helvetica,sans-Serif\" font-size=\"14.00\">class = country</text>\n</g>\n<!-- 1 -->\n<g id=\"node2\" class=\"node\">\n<title>1</title>\n<path fill=\"#fdf5ef\" stroke=\"black\" d=\"M1561.5,-425C1561.5,-425 1352.5,-425 1352.5,-425 1346.5,-425 1340.5,-419 1340.5,-413 1340.5,-413 1340.5,-354 1340.5,-354 1340.5,-348 1346.5,-342 1352.5,-342 1352.5,-342 1561.5,-342 1561.5,-342 1567.5,-342 1573.5,-348 1573.5,-354 1573.5,-354 1573.5,-413 1573.5,-413 1573.5,-419 1567.5,-425 1561.5,-425\"/>\n<text text-anchor=\"start\" x=\"1382.5\" y=\"-409.8\" font-family=\"Helvetica,sans-Serif\" font-size=\"14.00\">instrumentalness ≤ &#45;0.37</text>\n<text text-anchor=\"start\" x=\"1425\" y=\"-394.8\" font-family=\"Helvetica,sans-Serif\" font-size=\"14.00\">gini = 0.77</text>\n<text text-anchor=\"start\" x=\"1404\" y=\"-379.8\" font-family=\"Helvetica,sans-Serif\" font-size=\"14.00\">samples = 70.8%</text>\n<text text-anchor=\"start\" x=\"1348.5\" y=\"-364.8\" font-family=\"Helvetica,sans-Serif\" font-size=\"14.00\">value = [0.32, 0.18, 0.12, 0.12, 0.25]</text>\n<text text-anchor=\"start\" x=\"1417.5\" y=\"-349.8\" font-family=\"Helvetica,sans-Serif\" font-size=\"14.00\">class = blues</text>\n</g>\n<!-- 0&#45;&gt;1 -->\n<g id=\"edge1\" class=\"edge\">\n<title>0&#45;&gt;1</title>\n<path fill=\"none\" stroke=\"black\" d=\"M1832.4,-473.77C1757.46,-455.95 1660.13,-432.8 1583.35,-414.55\"/>\n<polygon fill=\"black\" stroke=\"black\" points=\"1584.15,-411.14 1573.61,-412.23 1582.53,-417.95 1584.15,-411.14\"/>\n<text text-anchor=\"middle\" x=\"1586.72\" y=\"-429.82\" font-family=\"Helvetica,sans-Serif\" font-size=\"14.00\">True</text>\n</g>\n<!-- 16 -->\n<g id=\"node17\" class=\"node\">\n<title>16</title>\n<path fill=\"#b0aff4\" stroke=\"black\" d=\"M2549.5,-425C2549.5,-425 2340.5,-425 2340.5,-425 2334.5,-425 2328.5,-419 2328.5,-413 2328.5,-413 2328.5,-354 2328.5,-354 2328.5,-348 2334.5,-342 2340.5,-342 2340.5,-342 2549.5,-342 2549.5,-342 2555.5,-342 2561.5,-348 2561.5,-354 2561.5,-354 2561.5,-413 2561.5,-413 2561.5,-419 2555.5,-425 2549.5,-425\"/>\n<text text-anchor=\"start\" x=\"2370.5\" y=\"-409.8\" font-family=\"Helvetica,sans-Serif\" font-size=\"14.00\">instrumentalness ≤ &#45;0.33</text>\n<text text-anchor=\"start\" x=\"2413\" y=\"-394.8\" font-family=\"Helvetica,sans-Serif\" font-size=\"14.00\">gini = 0.65</text>\n<text text-anchor=\"start\" x=\"2392\" y=\"-379.8\" font-family=\"Helvetica,sans-Serif\" font-size=\"14.00\">samples = 29.2%</text>\n<text text-anchor=\"start\" x=\"2336.5\" y=\"-364.8\" font-family=\"Helvetica,sans-Serif\" font-size=\"14.00\">value = [0.05, 0.09, 0.21, 0.53, 0.11]</text>\n<text text-anchor=\"start\" x=\"2399.5\" y=\"-349.8\" font-family=\"Helvetica,sans-Serif\" font-size=\"14.00\">class = country</text>\n</g>\n<!-- 0&#45;&gt;16 -->\n<g id=\"edge16\" class=\"edge\">\n<title>0&#45;&gt;16</title>\n<path fill=\"none\" stroke=\"black\" d=\"M2065.6,-473.99C2141.54,-456.08 2240.58,-432.72 2318.43,-414.36\"/>\n<polygon fill=\"black\" stroke=\"black\" points=\"2319.37,-417.73 2328.29,-412.03 2317.76,-410.92 2319.37,-417.73\"/>\n<text text-anchor=\"middle\" x=\"2315.15\" y=\"-429.59\" font-family=\"Helvetica,sans-Serif\" font-size=\"14.00\">False</text>\n</g>\n<!-- 2 -->\n<g id=\"node3\" class=\"node\">\n<title>2</title>\n<path fill=\"#fefffd\" stroke=\"black\" d=\"M829.5,-306C829.5,-306 620.5,-306 620.5,-306 614.5,-306 608.5,-300 608.5,-294 608.5,-294 608.5,-235 608.5,-235 608.5,-229 614.5,-223 620.5,-223 620.5,-223 829.5,-223 829.5,-223 835.5,-223 841.5,-229 841.5,-235 841.5,-235 841.5,-294 841.5,-294 841.5,-300 835.5,-306 829.5,-306\"/>\n<text text-anchor=\"start\" x=\"663\" y=\"-290.8\" font-family=\"Helvetica,sans-Serif\" font-size=\"14.00\">acousticness ≤ &#45;0.52</text>\n<text text-anchor=\"start\" x=\"693\" y=\"-275.8\" font-family=\"Helvetica,sans-Serif\" font-size=\"14.00\">gini = 0.76</text>\n<text text-anchor=\"start\" x=\"672\" y=\"-260.8\" font-family=\"Helvetica,sans-Serif\" font-size=\"14.00\">samples = 34.9%</text>\n<text text-anchor=\"start\" x=\"616.5\" y=\"-245.8\" font-family=\"Helvetica,sans-Serif\" font-size=\"14.00\">value = [0.17, 0.29, 0.05, 0.19, 0.29]</text>\n<text text-anchor=\"start\" x=\"690\" y=\"-230.8\" font-family=\"Helvetica,sans-Serif\" font-size=\"14.00\">class = pop</text>\n</g>\n<!-- 1&#45;&gt;2 -->\n<g id=\"edge2\" class=\"edge\">\n<title>1&#45;&gt;2</title>\n<path fill=\"none\" stroke=\"black\" d=\"M1340.2,-363.83C1206.81,-342.51 989.31,-307.75 851.85,-285.78\"/>\n<polygon fill=\"black\" stroke=\"black\" points=\"852.11,-282.27 841.68,-284.15 851.01,-289.18 852.11,-282.27\"/>\n</g>\n<!-- 9 -->\n<g id=\"node10\" class=\"node\">\n<title>9</title>\n<path fill=\"#f7d9c3\" stroke=\"black\" d=\"M1561.5,-306C1561.5,-306 1352.5,-306 1352.5,-306 1346.5,-306 1340.5,-300 1340.5,-294 1340.5,-294 1340.5,-235 1340.5,-235 1340.5,-229 1346.5,-223 1352.5,-223 1352.5,-223 1561.5,-223 1561.5,-223 1567.5,-223 1573.5,-229 1573.5,-235 1573.5,-235 1573.5,-294 1573.5,-294 1573.5,-300 1567.5,-306 1561.5,-306\"/>\n<text text-anchor=\"start\" x=\"1407\" y=\"-290.8\" font-family=\"Helvetica,sans-Serif\" font-size=\"14.00\">loudness ≤ &#45;1.16</text>\n<text text-anchor=\"start\" x=\"1429\" y=\"-275.8\" font-family=\"Helvetica,sans-Serif\" font-size=\"14.00\">gini = 0.7</text>\n<text text-anchor=\"start\" x=\"1404\" y=\"-260.8\" font-family=\"Helvetica,sans-Serif\" font-size=\"14.00\">samples = 35.9%</text>\n<text text-anchor=\"start\" x=\"1348.5\" y=\"-245.8\" font-family=\"Helvetica,sans-Serif\" font-size=\"14.00\">value = [0.46, 0.07, 0.19, 0.06, 0.22]</text>\n<text text-anchor=\"start\" x=\"1417.5\" y=\"-230.8\" font-family=\"Helvetica,sans-Serif\" font-size=\"14.00\">class = blues</text>\n</g>\n<!-- 1&#45;&gt;9 -->\n<g id=\"edge9\" class=\"edge\">\n<title>1&#45;&gt;9</title>\n<path fill=\"none\" stroke=\"black\" d=\"M1457,-341.91C1457,-333.65 1457,-324.86 1457,-316.3\"/>\n<polygon fill=\"black\" stroke=\"black\" points=\"1460.5,-316.02 1457,-306.02 1453.5,-316.02 1460.5,-316.02\"/>\n</g>\n<!-- 3 -->\n<g id=\"node4\" class=\"node\">\n<title>3</title>\n<path fill=\"#fbe4f6\" stroke=\"black\" d=\"M462,-187C462,-187 260,-187 260,-187 254,-187 248,-181 248,-175 248,-175 248,-116 248,-116 248,-110 254,-104 260,-104 260,-104 462,-104 462,-104 468,-104 474,-110 474,-116 474,-116 474,-175 474,-175 474,-181 468,-187 462,-187\"/>\n<text text-anchor=\"start\" x=\"302\" y=\"-171.8\" font-family=\"Helvetica,sans-Serif\" font-size=\"14.00\">danceability ≤ &#45;0.62</text>\n<text text-anchor=\"start\" x=\"329\" y=\"-156.8\" font-family=\"Helvetica,sans-Serif\" font-size=\"14.00\">gini = 0.71</text>\n<text text-anchor=\"start\" x=\"308\" y=\"-141.8\" font-family=\"Helvetica,sans-Serif\" font-size=\"14.00\">samples = 17.6%</text>\n<text text-anchor=\"start\" x=\"256\" y=\"-126.8\" font-family=\"Helvetica,sans-Serif\" font-size=\"14.00\">value = [0.17, 0.3, 0.02, 0.11, 0.39]</text>\n<text text-anchor=\"start\" x=\"325.5\" y=\"-111.8\" font-family=\"Helvetica,sans-Serif\" font-size=\"14.00\">class = jazz</text>\n</g>\n<!-- 2&#45;&gt;3 -->\n<g id=\"edge3\" class=\"edge\">\n<title>2&#45;&gt;3</title>\n<path fill=\"none\" stroke=\"black\" d=\"M608.33,-226C568.57,-213.22 524.02,-198.9 483.8,-185.97\"/>\n<polygon fill=\"black\" stroke=\"black\" points=\"484.81,-182.62 474.22,-182.89 482.67,-189.28 484.81,-182.62\"/>\n</g>\n<!-- 6 -->\n<g id=\"node7\" class=\"node\">\n<title>6</title>\n<path fill=\"#fbfefa\" stroke=\"black\" d=\"M829.5,-187C829.5,-187 620.5,-187 620.5,-187 614.5,-187 608.5,-181 608.5,-175 608.5,-175 608.5,-116 608.5,-116 608.5,-110 614.5,-104 620.5,-104 620.5,-104 829.5,-104 829.5,-104 835.5,-104 841.5,-110 841.5,-116 841.5,-116 841.5,-175 841.5,-175 841.5,-181 835.5,-187 829.5,-187\"/>\n<text text-anchor=\"start\" x=\"681\" y=\"-171.8\" font-family=\"Helvetica,sans-Serif\" font-size=\"14.00\">valence ≤ 1.17</text>\n<text text-anchor=\"start\" x=\"693\" y=\"-156.8\" font-family=\"Helvetica,sans-Serif\" font-size=\"14.00\">gini = 0.77</text>\n<text text-anchor=\"start\" x=\"672\" y=\"-141.8\" font-family=\"Helvetica,sans-Serif\" font-size=\"14.00\">samples = 17.3%</text>\n<text text-anchor=\"start\" x=\"616.5\" y=\"-126.8\" font-family=\"Helvetica,sans-Serif\" font-size=\"14.00\">value = [0.17, 0.29, 0.09, 0.27, 0.18]</text>\n<text text-anchor=\"start\" x=\"690\" y=\"-111.8\" font-family=\"Helvetica,sans-Serif\" font-size=\"14.00\">class = pop</text>\n</g>\n<!-- 2&#45;&gt;6 -->\n<g id=\"edge6\" class=\"edge\">\n<title>2&#45;&gt;6</title>\n<path fill=\"none\" stroke=\"black\" d=\"M725,-222.91C725,-214.65 725,-205.86 725,-197.3\"/>\n<polygon fill=\"black\" stroke=\"black\" points=\"728.5,-197.02 725,-187.02 721.5,-197.02 728.5,-197.02\"/>\n</g>\n<!-- 4 -->\n<g id=\"node5\" class=\"node\">\n<title>4</title>\n<path fill=\"#f6bdea\" stroke=\"black\" d=\"M214,-68C214,-68 12,-68 12,-68 6,-68 0,-62 0,-56 0,-56 0,-12 0,-12 0,-6 6,0 12,0 12,0 214,0 214,0 220,0 226,-6 226,-12 226,-12 226,-56 226,-56 226,-62 220,-68 214,-68\"/>\n<text text-anchor=\"start\" x=\"85\" y=\"-52.8\" font-family=\"Helvetica,sans-Serif\" font-size=\"14.00\">gini = 0.6</text>\n<text text-anchor=\"start\" x=\"63.5\" y=\"-37.8\" font-family=\"Helvetica,sans-Serif\" font-size=\"14.00\">samples = 4.4%</text>\n<text text-anchor=\"start\" x=\"8\" y=\"-22.8\" font-family=\"Helvetica,sans-Serif\" font-size=\"14.00\">value = [0.31, 0.08, 0.0, 0.08, 0.54]</text>\n<text text-anchor=\"start\" x=\"77.5\" y=\"-7.8\" font-family=\"Helvetica,sans-Serif\" font-size=\"14.00\">class = jazz</text>\n</g>\n<!-- 3&#45;&gt;4 -->\n<g id=\"edge4\" class=\"edge\">\n<title>3&#45;&gt;4</title>\n<path fill=\"none\" stroke=\"black\" d=\"M269.01,-103.88C245.5,-93.5 220.35,-82.4 197.26,-72.2\"/>\n<polygon fill=\"black\" stroke=\"black\" points=\"198.4,-68.88 187.84,-68.04 195.57,-75.28 198.4,-68.88\"/>\n</g>\n<!-- 5 -->\n<g id=\"node6\" class=\"node\">\n<title>5</title>\n<path fill=\"#fafef7\" stroke=\"black\" d=\"M465.5,-68C465.5,-68 256.5,-68 256.5,-68 250.5,-68 244.5,-62 244.5,-56 244.5,-56 244.5,-12 244.5,-12 244.5,-6 250.5,0 256.5,0 256.5,0 465.5,0 465.5,0 471.5,0 477.5,-6 477.5,-12 477.5,-12 477.5,-56 477.5,-56 477.5,-62 471.5,-68 465.5,-68\"/>\n<text text-anchor=\"start\" x=\"329\" y=\"-52.8\" font-family=\"Helvetica,sans-Serif\" font-size=\"14.00\">gini = 0.71</text>\n<text text-anchor=\"start\" x=\"308\" y=\"-37.8\" font-family=\"Helvetica,sans-Serif\" font-size=\"14.00\">samples = 13.2%</text>\n<text text-anchor=\"start\" x=\"252.5\" y=\"-22.8\" font-family=\"Helvetica,sans-Serif\" font-size=\"14.00\">value = [0.13, 0.37, 0.03, 0.13, 0.35]</text>\n<text text-anchor=\"start\" x=\"326\" y=\"-7.8\" font-family=\"Helvetica,sans-Serif\" font-size=\"14.00\">class = pop</text>\n</g>\n<!-- 3&#45;&gt;5 -->\n<g id=\"edge5\" class=\"edge\">\n<title>3&#45;&gt;5</title>\n<path fill=\"none\" stroke=\"black\" d=\"M361,-103.73C361,-95.52 361,-86.86 361,-78.56\"/>\n<polygon fill=\"black\" stroke=\"black\" points=\"364.5,-78.3 361,-68.3 357.5,-78.3 364.5,-78.3\"/>\n</g>\n<!-- 7 -->\n<g id=\"node8\" class=\"node\">\n<title>7</title>\n<path fill=\"#f4f3fd\" stroke=\"black\" d=\"M702,-68C702,-68 508,-68 508,-68 502,-68 496,-62 496,-56 496,-56 496,-12 496,-12 496,-6 502,0 508,0 508,0 702,0 702,0 708,0 714,-6 714,-12 714,-12 714,-56 714,-56 714,-62 708,-68 702,-68\"/>\n<text text-anchor=\"start\" x=\"573\" y=\"-52.8\" font-family=\"Helvetica,sans-Serif\" font-size=\"14.00\">gini = 0.77</text>\n<text text-anchor=\"start\" x=\"552\" y=\"-37.8\" font-family=\"Helvetica,sans-Serif\" font-size=\"14.00\">samples = 15.4%</text>\n<text text-anchor=\"start\" x=\"504\" y=\"-22.8\" font-family=\"Helvetica,sans-Serif\" font-size=\"14.00\">value = [0.14, 0.26, 0.09, 0.3, 0.2]</text>\n<text text-anchor=\"start\" x=\"559.5\" y=\"-7.8\" font-family=\"Helvetica,sans-Serif\" font-size=\"14.00\">class = country</text>\n</g>\n<!-- 6&#45;&gt;7 -->\n<g id=\"edge7\" class=\"edge\">\n<title>6&#45;&gt;7</title>\n<path fill=\"none\" stroke=\"black\" d=\"M680.32,-103.73C670.12,-94.42 659.29,-84.54 649.12,-75.26\"/>\n<polygon fill=\"black\" stroke=\"black\" points=\"651.24,-72.45 641.49,-68.3 646.52,-77.63 651.24,-72.45\"/>\n</g>\n<!-- 8 -->\n<g id=\"node9\" class=\"node\">\n<title>8</title>\n<path fill=\"#e5fad7\" stroke=\"black\" d=\"M938,-68C938,-68 744,-68 744,-68 738,-68 732,-62 732,-56 732,-56 732,-12 732,-12 732,-6 738,0 744,0 744,0 938,0 938,0 944,0 950,-6 950,-12 950,-12 950,-56 950,-56 950,-62 944,-68 938,-68\"/>\n<text text-anchor=\"start\" x=\"809\" y=\"-52.8\" font-family=\"Helvetica,sans-Serif\" font-size=\"14.00\">gini = 0.55</text>\n<text text-anchor=\"start\" x=\"791.5\" y=\"-37.8\" font-family=\"Helvetica,sans-Serif\" font-size=\"14.00\">samples = 1.9%</text>\n<text text-anchor=\"start\" x=\"740\" y=\"-22.8\" font-family=\"Helvetica,sans-Serif\" font-size=\"14.00\">value = [0.41, 0.53, 0.06, 0.0, 0.0]</text>\n<text text-anchor=\"start\" x=\"806\" y=\"-7.8\" font-family=\"Helvetica,sans-Serif\" font-size=\"14.00\">class = pop</text>\n</g>\n<!-- 6&#45;&gt;8 -->\n<g id=\"edge8\" class=\"edge\">\n<title>6&#45;&gt;8</title>\n<path fill=\"none\" stroke=\"black\" d=\"M768.19,-103.73C778.05,-94.42 788.52,-84.54 798.35,-75.26\"/>\n<polygon fill=\"black\" stroke=\"black\" points=\"800.85,-77.71 805.72,-68.3 796.05,-72.62 800.85,-77.71\"/>\n</g>\n<!-- 10 -->\n<g id=\"node11\" class=\"node\">\n<title>10</title>\n<path fill=\"#9cf2e2\" stroke=\"black\" d=\"M1434,-187C1434,-187 1232,-187 1232,-187 1226,-187 1220,-181 1220,-175 1220,-175 1220,-116 1220,-116 1220,-110 1226,-104 1232,-104 1232,-104 1434,-104 1434,-104 1440,-104 1446,-110 1446,-116 1446,-116 1446,-175 1446,-175 1446,-181 1440,-187 1434,-187\"/>\n<text text-anchor=\"start\" x=\"1289\" y=\"-171.8\" font-family=\"Helvetica,sans-Serif\" font-size=\"14.00\">energy ≤ &#45;1.07</text>\n<text text-anchor=\"start\" x=\"1301\" y=\"-156.8\" font-family=\"Helvetica,sans-Serif\" font-size=\"14.00\">gini = 0.59</text>\n<text text-anchor=\"start\" x=\"1283.5\" y=\"-141.8\" font-family=\"Helvetica,sans-Serif\" font-size=\"14.00\">samples = 5.8%</text>\n<text text-anchor=\"start\" x=\"1228\" y=\"-126.8\" font-family=\"Helvetica,sans-Serif\" font-size=\"14.00\">value = [0.13, 0.04, 0.6, 0.04, 0.19]</text>\n<text text-anchor=\"start\" x=\"1296.5\" y=\"-111.8\" font-family=\"Helvetica,sans-Serif\" font-size=\"14.00\">class = rock</text>\n</g>\n<!-- 9&#45;&gt;10 -->\n<g id=\"edge10\" class=\"edge\">\n<title>9&#45;&gt;10</title>\n<path fill=\"none\" stroke=\"black\" d=\"M1413.98,-222.91C1404.07,-213.56 1393.45,-203.54 1383.27,-193.93\"/>\n<polygon fill=\"black\" stroke=\"black\" points=\"1385.62,-191.34 1375.95,-187.02 1380.82,-196.43 1385.62,-191.34\"/>\n</g>\n<!-- 13 -->\n<g id=\"node14\" class=\"node\">\n<title>13</title>\n<path fill=\"#f5cfb4\" stroke=\"black\" d=\"M1685.5,-187C1685.5,-187 1476.5,-187 1476.5,-187 1470.5,-187 1464.5,-181 1464.5,-175 1464.5,-175 1464.5,-116 1464.5,-116 1464.5,-110 1470.5,-104 1476.5,-104 1476.5,-104 1685.5,-104 1685.5,-104 1691.5,-104 1697.5,-110 1697.5,-116 1697.5,-116 1697.5,-175 1697.5,-175 1697.5,-181 1691.5,-187 1685.5,-187\"/>\n<text text-anchor=\"start\" x=\"1526\" y=\"-171.8\" font-family=\"Helvetica,sans-Serif\" font-size=\"14.00\">danceability ≤ &#45;0.9</text>\n<text text-anchor=\"start\" x=\"1549\" y=\"-156.8\" font-family=\"Helvetica,sans-Serif\" font-size=\"14.00\">gini = 0.65</text>\n<text text-anchor=\"start\" x=\"1528\" y=\"-141.8\" font-family=\"Helvetica,sans-Serif\" font-size=\"14.00\">samples = 30.1%</text>\n<text text-anchor=\"start\" x=\"1472.5\" y=\"-126.8\" font-family=\"Helvetica,sans-Serif\" font-size=\"14.00\">value = [0.52, 0.08, 0.12, 0.06, 0.23]</text>\n<text text-anchor=\"start\" x=\"1541.5\" y=\"-111.8\" font-family=\"Helvetica,sans-Serif\" font-size=\"14.00\">class = blues</text>\n</g>\n<!-- 9&#45;&gt;13 -->\n<g id=\"edge13\" class=\"edge\">\n<title>9&#45;&gt;13</title>\n<path fill=\"none\" stroke=\"black\" d=\"M1500.02,-222.91C1509.93,-213.56 1520.55,-203.54 1530.73,-193.93\"/>\n<polygon fill=\"black\" stroke=\"black\" points=\"1533.18,-196.43 1538.05,-187.02 1528.38,-191.34 1533.18,-196.43\"/>\n</g>\n<!-- 11 -->\n<g id=\"node12\" class=\"node\">\n<title>11</title>\n<path fill=\"#84efdb\" stroke=\"black\" d=\"M1189.5,-68C1189.5,-68 980.5,-68 980.5,-68 974.5,-68 968.5,-62 968.5,-56 968.5,-56 968.5,-12 968.5,-12 968.5,-6 974.5,0 980.5,0 980.5,0 1189.5,0 1189.5,0 1195.5,0 1201.5,-6 1201.5,-12 1201.5,-12 1201.5,-56 1201.5,-56 1201.5,-62 1195.5,-68 1189.5,-68\"/>\n<text text-anchor=\"start\" x=\"1053\" y=\"-52.8\" font-family=\"Helvetica,sans-Serif\" font-size=\"14.00\">gini = 0.51</text>\n<text text-anchor=\"start\" x=\"1035.5\" y=\"-37.8\" font-family=\"Helvetica,sans-Serif\" font-size=\"14.00\">samples = 4.8%</text>\n<text text-anchor=\"start\" x=\"976.5\" y=\"-22.8\" font-family=\"Helvetica,sans-Serif\" font-size=\"14.00\">value = [0.12, 0.02, 0.67, 0.05, 0.14]</text>\n<text text-anchor=\"start\" x=\"1048.5\" y=\"-7.8\" font-family=\"Helvetica,sans-Serif\" font-size=\"14.00\">class = rock</text>\n</g>\n<!-- 10&#45;&gt;11 -->\n<g id=\"edge11\" class=\"edge\">\n<title>10&#45;&gt;11</title>\n<path fill=\"none\" stroke=\"black\" d=\"M1241.01,-103.88C1217.5,-93.5 1192.35,-82.4 1169.26,-72.2\"/>\n<polygon fill=\"black\" stroke=\"black\" points=\"1170.4,-68.88 1159.84,-68.04 1167.57,-75.28 1170.4,-68.88\"/>\n</g>\n<!-- 12 -->\n<g id=\"node13\" class=\"node\">\n<title>12</title>\n<path fill=\"#f8c6ed\" stroke=\"black\" d=\"M1434,-68C1434,-68 1232,-68 1232,-68 1226,-68 1220,-62 1220,-56 1220,-56 1220,-12 1220,-12 1220,-6 1226,0 1232,0 1232,0 1434,0 1434,0 1440,0 1446,-6 1446,-12 1446,-12 1446,-56 1446,-56 1446,-62 1440,-68 1434,-68\"/>\n<text text-anchor=\"start\" x=\"1301\" y=\"-52.8\" font-family=\"Helvetica,sans-Serif\" font-size=\"14.00\">gini = 0.69</text>\n<text text-anchor=\"start\" x=\"1283.5\" y=\"-37.8\" font-family=\"Helvetica,sans-Serif\" font-size=\"14.00\">samples = 1.0%</text>\n<text text-anchor=\"start\" x=\"1228\" y=\"-22.8\" font-family=\"Helvetica,sans-Serif\" font-size=\"14.00\">value = [0.22, 0.11, 0.22, 0.0, 0.44]</text>\n<text text-anchor=\"start\" x=\"1297.5\" y=\"-7.8\" font-family=\"Helvetica,sans-Serif\" font-size=\"14.00\">class = jazz</text>\n</g>\n<!-- 10&#45;&gt;12 -->\n<g id=\"edge12\" class=\"edge\">\n<title>10&#45;&gt;12</title>\n<path fill=\"none\" stroke=\"black\" d=\"M1333,-103.73C1333,-95.52 1333,-86.86 1333,-78.56\"/>\n<polygon fill=\"black\" stroke=\"black\" points=\"1336.5,-78.3 1333,-68.3 1329.5,-78.3 1336.5,-78.3\"/>\n</g>\n<!-- 14 -->\n<g id=\"node15\" class=\"node\">\n<title>14</title>\n<path fill=\"#eead7e\" stroke=\"black\" d=\"M1685.5,-68C1685.5,-68 1476.5,-68 1476.5,-68 1470.5,-68 1464.5,-62 1464.5,-56 1464.5,-56 1464.5,-12 1464.5,-12 1464.5,-6 1470.5,0 1476.5,0 1476.5,0 1685.5,0 1685.5,0 1691.5,0 1697.5,-6 1697.5,-12 1697.5,-12 1697.5,-56 1697.5,-56 1697.5,-62 1691.5,-68 1685.5,-68\"/>\n<text text-anchor=\"start\" x=\"1549\" y=\"-52.8\" font-family=\"Helvetica,sans-Serif\" font-size=\"14.00\">gini = 0.46</text>\n<text text-anchor=\"start\" x=\"1528\" y=\"-37.8\" font-family=\"Helvetica,sans-Serif\" font-size=\"14.00\">samples = 10.4%</text>\n<text text-anchor=\"start\" x=\"1472.5\" y=\"-22.8\" font-family=\"Helvetica,sans-Serif\" font-size=\"14.00\">value = [0.71, 0.03, 0.08, 0.02, 0.16]</text>\n<text text-anchor=\"start\" x=\"1541.5\" y=\"-7.8\" font-family=\"Helvetica,sans-Serif\" font-size=\"14.00\">class = blues</text>\n</g>\n<!-- 13&#45;&gt;14 -->\n<g id=\"edge14\" class=\"edge\">\n<title>13&#45;&gt;14</title>\n<path fill=\"none\" stroke=\"black\" d=\"M1581,-103.73C1581,-95.52 1581,-86.86 1581,-78.56\"/>\n<polygon fill=\"black\" stroke=\"black\" points=\"1584.5,-78.3 1581,-68.3 1577.5,-78.3 1584.5,-78.3\"/>\n</g>\n<!-- 15 -->\n<g id=\"node16\" class=\"node\">\n<title>15</title>\n<path fill=\"#f9e4d4\" stroke=\"black\" d=\"M1930,-68C1930,-68 1728,-68 1728,-68 1722,-68 1716,-62 1716,-56 1716,-56 1716,-12 1716,-12 1716,-6 1722,0 1728,0 1728,0 1930,0 1930,0 1936,0 1942,-6 1942,-12 1942,-12 1942,-56 1942,-56 1942,-62 1936,-68 1930,-68\"/>\n<text text-anchor=\"start\" x=\"1797\" y=\"-52.8\" font-family=\"Helvetica,sans-Serif\" font-size=\"14.00\">gini = 0.72</text>\n<text text-anchor=\"start\" x=\"1776\" y=\"-37.8\" font-family=\"Helvetica,sans-Serif\" font-size=\"14.00\">samples = 19.7%</text>\n<text text-anchor=\"start\" x=\"1724\" y=\"-22.8\" font-family=\"Helvetica,sans-Serif\" font-size=\"14.00\">value = [0.42, 0.1, 0.14, 0.08, 0.26]</text>\n<text text-anchor=\"start\" x=\"1789.5\" y=\"-7.8\" font-family=\"Helvetica,sans-Serif\" font-size=\"14.00\">class = blues</text>\n</g>\n<!-- 13&#45;&gt;15 -->\n<g id=\"edge15\" class=\"edge\">\n<title>13&#45;&gt;15</title>\n<path fill=\"none\" stroke=\"black\" d=\"M1672.99,-103.88C1696.5,-93.5 1721.65,-82.4 1744.74,-72.2\"/>\n<polygon fill=\"black\" stroke=\"black\" points=\"1746.43,-75.28 1754.16,-68.04 1743.6,-68.88 1746.43,-75.28\"/>\n</g>\n<!-- 17 -->\n<g id=\"node18\" class=\"node\">\n<title>17</title>\n<path fill=\"#8f8ef0\" stroke=\"black\" d=\"M2549.5,-306C2549.5,-306 2340.5,-306 2340.5,-306 2334.5,-306 2328.5,-300 2328.5,-294 2328.5,-294 2328.5,-235 2328.5,-235 2328.5,-229 2334.5,-223 2340.5,-223 2340.5,-223 2549.5,-223 2549.5,-223 2555.5,-223 2561.5,-229 2561.5,-235 2561.5,-235 2561.5,-294 2561.5,-294 2561.5,-300 2555.5,-306 2549.5,-306\"/>\n<text text-anchor=\"start\" x=\"2370.5\" y=\"-290.8\" font-family=\"Helvetica,sans-Serif\" font-size=\"14.00\">instrumentalness ≤ &#45;0.37</text>\n<text text-anchor=\"start\" x=\"2413\" y=\"-275.8\" font-family=\"Helvetica,sans-Serif\" font-size=\"14.00\">gini = 0.57</text>\n<text text-anchor=\"start\" x=\"2392\" y=\"-260.8\" font-family=\"Helvetica,sans-Serif\" font-size=\"14.00\">samples = 22.9%</text>\n<text text-anchor=\"start\" x=\"2336.5\" y=\"-245.8\" font-family=\"Helvetica,sans-Serif\" font-size=\"14.00\">value = [0.05, 0.11, 0.08, 0.63, 0.13]</text>\n<text text-anchor=\"start\" x=\"2399.5\" y=\"-230.8\" font-family=\"Helvetica,sans-Serif\" font-size=\"14.00\">class = country</text>\n</g>\n<!-- 16&#45;&gt;17 -->\n<g id=\"edge17\" class=\"edge\">\n<title>16&#45;&gt;17</title>\n<path fill=\"none\" stroke=\"black\" d=\"M2445,-341.91C2445,-333.65 2445,-324.86 2445,-316.3\"/>\n<polygon fill=\"black\" stroke=\"black\" points=\"2448.5,-316.02 2445,-306.02 2441.5,-316.02 2448.5,-316.02\"/>\n</g>\n<!-- 24 -->\n<g id=\"node25\" class=\"node\">\n<title>24</title>\n<path fill=\"#7eeed9\" stroke=\"black\" d=\"M3253,-306C3253,-306 3051,-306 3051,-306 3045,-306 3039,-300 3039,-294 3039,-294 3039,-235 3039,-235 3039,-229 3045,-223 3051,-223 3051,-223 3253,-223 3253,-223 3259,-223 3265,-229 3265,-235 3265,-235 3265,-294 3265,-294 3265,-300 3259,-306 3253,-306\"/>\n<text text-anchor=\"start\" x=\"3108\" y=\"-290.8\" font-family=\"Helvetica,sans-Serif\" font-size=\"14.00\">energy ≤ &#45;0.94</text>\n<text text-anchor=\"start\" x=\"3120\" y=\"-275.8\" font-family=\"Helvetica,sans-Serif\" font-size=\"14.00\">gini = 0.45</text>\n<text text-anchor=\"start\" x=\"3102.5\" y=\"-260.8\" font-family=\"Helvetica,sans-Serif\" font-size=\"14.00\">samples = 6.3%</text>\n<text text-anchor=\"start\" x=\"3047\" y=\"-245.8\" font-family=\"Helvetica,sans-Serif\" font-size=\"14.00\">value = [0.07, 0.0, 0.71, 0.18, 0.04]</text>\n<text text-anchor=\"start\" x=\"3115.5\" y=\"-230.8\" font-family=\"Helvetica,sans-Serif\" font-size=\"14.00\">class = rock</text>\n</g>\n<!-- 16&#45;&gt;24 -->\n<g id=\"edge24\" class=\"edge\">\n<title>16&#45;&gt;24</title>\n<path fill=\"none\" stroke=\"black\" d=\"M2561.75,-363.18C2690.66,-341.85 2897.31,-307.65 3028.76,-285.89\"/>\n<polygon fill=\"black\" stroke=\"black\" points=\"3029.59,-289.31 3038.88,-284.22 3028.45,-282.4 3029.59,-289.31\"/>\n</g>\n<!-- 18 -->\n<g id=\"node19\" class=\"node\">\n<title>18</title>\n<path fill=\"#7e7cee\" stroke=\"black\" d=\"M2425.5,-187C2425.5,-187 2216.5,-187 2216.5,-187 2210.5,-187 2204.5,-181 2204.5,-175 2204.5,-175 2204.5,-116 2204.5,-116 2204.5,-110 2210.5,-104 2216.5,-104 2216.5,-104 2425.5,-104 2425.5,-104 2431.5,-104 2437.5,-110 2437.5,-116 2437.5,-116 2437.5,-175 2437.5,-175 2437.5,-181 2431.5,-187 2425.5,-187\"/>\n<text text-anchor=\"start\" x=\"2279.5\" y=\"-171.8\" font-family=\"Helvetica,sans-Serif\" font-size=\"14.00\">energy ≤ 0.21</text>\n<text text-anchor=\"start\" x=\"2289\" y=\"-156.8\" font-family=\"Helvetica,sans-Serif\" font-size=\"14.00\">gini = 0.47</text>\n<text text-anchor=\"start\" x=\"2268\" y=\"-141.8\" font-family=\"Helvetica,sans-Serif\" font-size=\"14.00\">samples = 17.6%</text>\n<text text-anchor=\"start\" x=\"2212.5\" y=\"-126.8\" font-family=\"Helvetica,sans-Serif\" font-size=\"14.00\">value = [0.03, 0.14, 0.05, 0.71, 0.07]</text>\n<text text-anchor=\"start\" x=\"2275.5\" y=\"-111.8\" font-family=\"Helvetica,sans-Serif\" font-size=\"14.00\">class = country</text>\n</g>\n<!-- 17&#45;&gt;18 -->\n<g id=\"edge18\" class=\"edge\">\n<title>17&#45;&gt;18</title>\n<path fill=\"none\" stroke=\"black\" d=\"M2401.98,-222.91C2392.07,-213.56 2381.45,-203.54 2371.27,-193.93\"/>\n<polygon fill=\"black\" stroke=\"black\" points=\"2373.62,-191.34 2363.95,-187.02 2368.82,-196.43 2373.62,-191.34\"/>\n</g>\n<!-- 21 -->\n<g id=\"node22\" class=\"node\">\n<title>21</title>\n<path fill=\"#f3f3fd\" stroke=\"black\" d=\"M2670,-187C2670,-187 2468,-187 2468,-187 2462,-187 2456,-181 2456,-175 2456,-175 2456,-116 2456,-116 2456,-110 2462,-104 2468,-104 2468,-104 2670,-104 2670,-104 2676,-104 2682,-110 2682,-116 2682,-116 2682,-175 2682,-175 2682,-181 2676,-187 2670,-187\"/>\n<text text-anchor=\"start\" x=\"2525\" y=\"-171.8\" font-family=\"Helvetica,sans-Serif\" font-size=\"14.00\">valence ≤ 1.05</text>\n<text text-anchor=\"start\" x=\"2537\" y=\"-156.8\" font-family=\"Helvetica,sans-Serif\" font-size=\"14.00\">gini = 0.71</text>\n<text text-anchor=\"start\" x=\"2519.5\" y=\"-141.8\" font-family=\"Helvetica,sans-Serif\" font-size=\"14.00\">samples = 5.4%</text>\n<text text-anchor=\"start\" x=\"2464\" y=\"-126.8\" font-family=\"Helvetica,sans-Serif\" font-size=\"14.00\">value = [0.1, 0.02, 0.17, 0.38, 0.33]</text>\n<text text-anchor=\"start\" x=\"2523.5\" y=\"-111.8\" font-family=\"Helvetica,sans-Serif\" font-size=\"14.00\">class = country</text>\n</g>\n<!-- 17&#45;&gt;21 -->\n<g id=\"edge21\" class=\"edge\">\n<title>17&#45;&gt;21</title>\n<path fill=\"none\" stroke=\"black\" d=\"M2488.02,-222.91C2497.93,-213.56 2508.55,-203.54 2518.73,-193.93\"/>\n<polygon fill=\"black\" stroke=\"black\" points=\"2521.18,-196.43 2526.05,-187.02 2516.38,-191.34 2521.18,-196.43\"/>\n</g>\n<!-- 19 -->\n<g id=\"node20\" class=\"node\">\n<title>19</title>\n<path fill=\"#615eea\" stroke=\"black\" d=\"M2181.5,-68C2181.5,-68 1972.5,-68 1972.5,-68 1966.5,-68 1960.5,-62 1960.5,-56 1960.5,-56 1960.5,-12 1960.5,-12 1960.5,-6 1966.5,0 1972.5,0 1972.5,0 2181.5,0 2181.5,0 2187.5,0 2193.5,-6 2193.5,-12 2193.5,-12 2193.5,-56 2193.5,-56 2193.5,-62 2187.5,-68 2181.5,-68\"/>\n<text text-anchor=\"start\" x=\"2045\" y=\"-52.8\" font-family=\"Helvetica,sans-Serif\" font-size=\"14.00\">gini = 0.31</text>\n<text text-anchor=\"start\" x=\"2024\" y=\"-37.8\" font-family=\"Helvetica,sans-Serif\" font-size=\"14.00\">samples = 11.0%</text>\n<text text-anchor=\"start\" x=\"1968.5\" y=\"-22.8\" font-family=\"Helvetica,sans-Serif\" font-size=\"14.00\">value = [0.03, 0.08, 0.02, 0.83, 0.04]</text>\n<text text-anchor=\"start\" x=\"2031.5\" y=\"-7.8\" font-family=\"Helvetica,sans-Serif\" font-size=\"14.00\">class = country</text>\n</g>\n<!-- 18&#45;&gt;19 -->\n<g id=\"edge19\" class=\"edge\">\n<title>18&#45;&gt;19</title>\n<path fill=\"none\" stroke=\"black\" d=\"M2230.49,-103.88C2207.37,-93.5 2182.62,-82.4 2159.9,-72.2\"/>\n<polygon fill=\"black\" stroke=\"black\" points=\"2161.19,-68.94 2150.63,-68.04 2158.32,-75.33 2161.19,-68.94\"/>\n</g>\n<!-- 20 -->\n<g id=\"node21\" class=\"node\">\n<title>20</title>\n<path fill=\"#bab9f6\" stroke=\"black\" d=\"M2426,-68C2426,-68 2224,-68 2224,-68 2218,-68 2212,-62 2212,-56 2212,-56 2212,-12 2212,-12 2212,-6 2218,0 2224,0 2224,0 2426,0 2426,0 2432,0 2438,-6 2438,-12 2438,-12 2438,-56 2438,-56 2438,-62 2432,-68 2426,-68\"/>\n<text text-anchor=\"start\" x=\"2293\" y=\"-52.8\" font-family=\"Helvetica,sans-Serif\" font-size=\"14.00\">gini = 0.66</text>\n<text text-anchor=\"start\" x=\"2275.5\" y=\"-37.8\" font-family=\"Helvetica,sans-Serif\" font-size=\"14.00\">samples = 6.6%</text>\n<text text-anchor=\"start\" x=\"2220\" y=\"-22.8\" font-family=\"Helvetica,sans-Serif\" font-size=\"14.00\">value = [0.03, 0.24, 0.1, 0.51, 0.12]</text>\n<text text-anchor=\"start\" x=\"2279.5\" y=\"-7.8\" font-family=\"Helvetica,sans-Serif\" font-size=\"14.00\">class = country</text>\n</g>\n<!-- 18&#45;&gt;20 -->\n<g id=\"edge20\" class=\"edge\">\n<title>18&#45;&gt;20</title>\n<path fill=\"none\" stroke=\"black\" d=\"M2322.49,-103.73C2322.79,-95.52 2323.11,-86.86 2323.41,-78.56\"/>\n<polygon fill=\"black\" stroke=\"black\" points=\"2326.92,-78.42 2323.78,-68.3 2319.92,-78.17 2326.92,-78.42\"/>\n</g>\n<!-- 22 -->\n<g id=\"node23\" class=\"node\">\n<title>22</title>\n<path fill=\"#d3d2f9\" stroke=\"black\" d=\"M2662,-68C2662,-68 2468,-68 2468,-68 2462,-68 2456,-62 2456,-56 2456,-56 2456,-12 2456,-12 2456,-6 2462,0 2468,0 2468,0 2662,0 2662,0 2668,0 2674,-6 2674,-12 2674,-12 2674,-56 2674,-56 2674,-62 2668,-68 2662,-68\"/>\n<text text-anchor=\"start\" x=\"2533\" y=\"-52.8\" font-family=\"Helvetica,sans-Serif\" font-size=\"14.00\">gini = 0.61</text>\n<text text-anchor=\"start\" x=\"2515.5\" y=\"-37.8\" font-family=\"Helvetica,sans-Serif\" font-size=\"14.00\">samples = 3.8%</text>\n<text text-anchor=\"start\" x=\"2464\" y=\"-22.8\" font-family=\"Helvetica,sans-Serif\" font-size=\"14.00\">value = [0.09, 0.0, 0.06, 0.5, 0.35]</text>\n<text text-anchor=\"start\" x=\"2519.5\" y=\"-7.8\" font-family=\"Helvetica,sans-Serif\" font-size=\"14.00\">class = country</text>\n</g>\n<!-- 21&#45;&gt;22 -->\n<g id=\"edge22\" class=\"edge\">\n<title>21&#45;&gt;22</title>\n<path fill=\"none\" stroke=\"black\" d=\"M2567.51,-103.73C2567.21,-95.52 2566.89,-86.86 2566.59,-78.56\"/>\n<polygon fill=\"black\" stroke=\"black\" points=\"2570.08,-78.17 2566.22,-68.3 2563.08,-78.42 2570.08,-78.17\"/>\n</g>\n<!-- 23 -->\n<g id=\"node24\" class=\"node\">\n<title>23</title>\n<path fill=\"#d7faf3\" stroke=\"black\" d=\"M2913.5,-68C2913.5,-68 2704.5,-68 2704.5,-68 2698.5,-68 2692.5,-62 2692.5,-56 2692.5,-56 2692.5,-12 2692.5,-12 2692.5,-6 2698.5,0 2704.5,0 2704.5,0 2913.5,0 2913.5,0 2919.5,0 2925.5,-6 2925.5,-12 2925.5,-12 2925.5,-56 2925.5,-56 2925.5,-62 2919.5,-68 2913.5,-68\"/>\n<text text-anchor=\"start\" x=\"2781\" y=\"-52.8\" font-family=\"Helvetica,sans-Serif\" font-size=\"14.00\">gini = 0.7</text>\n<text text-anchor=\"start\" x=\"2759.5\" y=\"-37.8\" font-family=\"Helvetica,sans-Serif\" font-size=\"14.00\">samples = 1.6%</text>\n<text text-anchor=\"start\" x=\"2700.5\" y=\"-22.8\" font-family=\"Helvetica,sans-Serif\" font-size=\"14.00\">value = [0.14, 0.07, 0.43, 0.07, 0.29]</text>\n<text text-anchor=\"start\" x=\"2772.5\" y=\"-7.8\" font-family=\"Helvetica,sans-Serif\" font-size=\"14.00\">class = rock</text>\n</g>\n<!-- 21&#45;&gt;23 -->\n<g id=\"edge23\" class=\"edge\">\n<title>21&#45;&gt;23</title>\n<path fill=\"none\" stroke=\"black\" d=\"M2658.03,-103.88C2680.77,-93.5 2705.11,-82.4 2727.46,-72.2\"/>\n<polygon fill=\"black\" stroke=\"black\" points=\"2728.93,-75.38 2736.58,-68.04 2726.03,-69.01 2728.93,-75.38\"/>\n</g>\n<!-- 25 -->\n<g id=\"node26\" class=\"node\">\n<title>25</title>\n<path fill=\"#43e6c8\" stroke=\"black\" d=\"M3245.5,-187C3245.5,-187 3058.5,-187 3058.5,-187 3052.5,-187 3046.5,-181 3046.5,-175 3046.5,-175 3046.5,-116 3046.5,-116 3046.5,-110 3052.5,-104 3058.5,-104 3058.5,-104 3245.5,-104 3245.5,-104 3251.5,-104 3257.5,-110 3257.5,-116 3257.5,-116 3257.5,-175 3257.5,-175 3257.5,-181 3251.5,-187 3245.5,-187\"/>\n<text text-anchor=\"start\" x=\"3102\" y=\"-171.8\" font-family=\"Helvetica,sans-Serif\" font-size=\"14.00\">loudness ≤ &#45;2.75</text>\n<text text-anchor=\"start\" x=\"3120\" y=\"-156.8\" font-family=\"Helvetica,sans-Serif\" font-size=\"14.00\">gini = 0.09</text>\n<text text-anchor=\"start\" x=\"3102.5\" y=\"-141.8\" font-family=\"Helvetica,sans-Serif\" font-size=\"14.00\">samples = 2.3%</text>\n<text text-anchor=\"start\" x=\"3054.5\" y=\"-126.8\" font-family=\"Helvetica,sans-Serif\" font-size=\"14.00\">value = [0.0, 0.0, 0.95, 0.05, 0.0]</text>\n<text text-anchor=\"start\" x=\"3115.5\" y=\"-111.8\" font-family=\"Helvetica,sans-Serif\" font-size=\"14.00\">class = rock</text>\n</g>\n<!-- 24&#45;&gt;25 -->\n<g id=\"edge25\" class=\"edge\">\n<title>24&#45;&gt;25</title>\n<path fill=\"none\" stroke=\"black\" d=\"M3152,-222.91C3152,-214.65 3152,-205.86 3152,-197.3\"/>\n<polygon fill=\"black\" stroke=\"black\" points=\"3155.5,-197.02 3152,-187.02 3148.5,-197.02 3155.5,-197.02\"/>\n</g>\n<!-- 28 -->\n<g id=\"node29\" class=\"node\">\n<title>28</title>\n<path fill=\"#abf4e6\" stroke=\"black\" d=\"M3594,-187C3594,-187 3392,-187 3392,-187 3386,-187 3380,-181 3380,-175 3380,-175 3380,-116 3380,-116 3380,-110 3386,-104 3392,-104 3392,-104 3594,-104 3594,-104 3600,-104 3606,-110 3606,-116 3606,-116 3606,-175 3606,-175 3606,-181 3600,-187 3594,-187\"/>\n<text text-anchor=\"start\" x=\"3443\" y=\"-171.8\" font-family=\"Helvetica,sans-Serif\" font-size=\"14.00\">loudness ≤ &#45;1.02</text>\n<text text-anchor=\"start\" x=\"3461\" y=\"-156.8\" font-family=\"Helvetica,sans-Serif\" font-size=\"14.00\">gini = 0.59</text>\n<text text-anchor=\"start\" x=\"3443.5\" y=\"-141.8\" font-family=\"Helvetica,sans-Serif\" font-size=\"14.00\">samples = 3.9%</text>\n<text text-anchor=\"start\" x=\"3388\" y=\"-126.8\" font-family=\"Helvetica,sans-Serif\" font-size=\"14.00\">value = [0.11, 0.0, 0.57, 0.26, 0.06]</text>\n<text text-anchor=\"start\" x=\"3456.5\" y=\"-111.8\" font-family=\"Helvetica,sans-Serif\" font-size=\"14.00\">class = rock</text>\n</g>\n<!-- 24&#45;&gt;28 -->\n<g id=\"edge28\" class=\"edge\">\n<title>24&#45;&gt;28</title>\n<path fill=\"none\" stroke=\"black\" d=\"M3265.07,-224.7C3298.83,-213.12 3335.99,-200.37 3370.33,-188.59\"/>\n<polygon fill=\"black\" stroke=\"black\" points=\"3371.62,-191.85 3379.94,-185.29 3369.35,-185.23 3371.62,-191.85\"/>\n</g>\n<!-- 26 -->\n<g id=\"node27\" class=\"node\">\n<title>26</title>\n<path fill=\"#9cf2e2\" stroke=\"black\" d=\"M3142.5,-68C3142.5,-68 2955.5,-68 2955.5,-68 2949.5,-68 2943.5,-62 2943.5,-56 2943.5,-56 2943.5,-12 2943.5,-12 2943.5,-6 2949.5,0 2955.5,0 2955.5,0 3142.5,0 3142.5,0 3148.5,0 3154.5,-6 3154.5,-12 3154.5,-12 3154.5,-56 3154.5,-56 3154.5,-62 3148.5,-68 3142.5,-68\"/>\n<text text-anchor=\"start\" x=\"3017\" y=\"-52.8\" font-family=\"Helvetica,sans-Serif\" font-size=\"14.00\">gini = 0.44</text>\n<text text-anchor=\"start\" x=\"2999.5\" y=\"-37.8\" font-family=\"Helvetica,sans-Serif\" font-size=\"14.00\">samples = 0.3%</text>\n<text text-anchor=\"start\" x=\"2951.5\" y=\"-22.8\" font-family=\"Helvetica,sans-Serif\" font-size=\"14.00\">value = [0.0, 0.0, 0.67, 0.33, 0.0]</text>\n<text text-anchor=\"start\" x=\"3012.5\" y=\"-7.8\" font-family=\"Helvetica,sans-Serif\" font-size=\"14.00\">class = rock</text>\n</g>\n<!-- 25&#45;&gt;26 -->\n<g id=\"edge26\" class=\"edge\">\n<title>25&#45;&gt;26</title>\n<path fill=\"none\" stroke=\"black\" d=\"M3113.65,-103.73C3105.07,-94.61 3095.97,-84.93 3087.39,-75.81\"/>\n<polygon fill=\"black\" stroke=\"black\" points=\"3089.72,-73.19 3080.32,-68.3 3084.63,-77.98 3089.72,-73.19\"/>\n</g>\n<!-- 27 -->\n<g id=\"node28\" class=\"node\">\n<title>27</title>\n<path fill=\"#39e5c5\" stroke=\"black\" d=\"M3357,-68C3357,-68 3185,-68 3185,-68 3179,-68 3173,-62 3173,-56 3173,-56 3173,-12 3173,-12 3173,-6 3179,0 3185,0 3185,0 3357,0 3357,0 3363,0 3369,-6 3369,-12 3369,-12 3369,-56 3369,-56 3369,-62 3363,-68 3357,-68\"/>\n<text text-anchor=\"start\" x=\"3243\" y=\"-52.8\" font-family=\"Helvetica,sans-Serif\" font-size=\"14.00\">gini = 0.0</text>\n<text text-anchor=\"start\" x=\"3221.5\" y=\"-37.8\" font-family=\"Helvetica,sans-Serif\" font-size=\"14.00\">samples = 2.0%</text>\n<text text-anchor=\"start\" x=\"3181\" y=\"-22.8\" font-family=\"Helvetica,sans-Serif\" font-size=\"14.00\">value = [0.0, 0.0, 1.0, 0.0, 0.0]</text>\n<text text-anchor=\"start\" x=\"3234.5\" y=\"-7.8\" font-family=\"Helvetica,sans-Serif\" font-size=\"14.00\">class = rock</text>\n</g>\n<!-- 25&#45;&gt;27 -->\n<g id=\"edge27\" class=\"edge\">\n<title>25&#45;&gt;27</title>\n<path fill=\"none\" stroke=\"black\" d=\"M3196.31,-103.73C3206.42,-94.42 3217.16,-84.54 3227.25,-75.26\"/>\n<polygon fill=\"black\" stroke=\"black\" points=\"3229.82,-77.65 3234.81,-68.3 3225.08,-72.5 3229.82,-77.65\"/>\n</g>\n<!-- 29 -->\n<g id=\"node30\" class=\"node\">\n<title>29</title>\n<path fill=\"#cecef8\" stroke=\"black\" d=\"M3586.5,-68C3586.5,-68 3399.5,-68 3399.5,-68 3393.5,-68 3387.5,-62 3387.5,-56 3387.5,-56 3387.5,-12 3387.5,-12 3387.5,-6 3393.5,0 3399.5,0 3399.5,0 3586.5,0 3586.5,0 3592.5,0 3598.5,-6 3598.5,-12 3598.5,-12 3598.5,-56 3598.5,-56 3598.5,-62 3592.5,-68 3586.5,-68\"/>\n<text text-anchor=\"start\" x=\"3461\" y=\"-52.8\" font-family=\"Helvetica,sans-Serif\" font-size=\"14.00\">gini = 0.61</text>\n<text text-anchor=\"start\" x=\"3443.5\" y=\"-37.8\" font-family=\"Helvetica,sans-Serif\" font-size=\"14.00\">samples = 0.7%</text>\n<text text-anchor=\"start\" x=\"3395.5\" y=\"-22.8\" font-family=\"Helvetica,sans-Serif\" font-size=\"14.00\">value = [0.33, 0.0, 0.17, 0.5, 0.0]</text>\n<text text-anchor=\"start\" x=\"3447.5\" y=\"-7.8\" font-family=\"Helvetica,sans-Serif\" font-size=\"14.00\">class = country</text>\n</g>\n<!-- 28&#45;&gt;29 -->\n<g id=\"edge29\" class=\"edge\">\n<title>28&#45;&gt;29</title>\n<path fill=\"none\" stroke=\"black\" d=\"M3493,-103.73C3493,-95.52 3493,-86.86 3493,-78.56\"/>\n<polygon fill=\"black\" stroke=\"black\" points=\"3496.5,-78.3 3493,-68.3 3489.5,-78.3 3496.5,-78.3\"/>\n</g>\n<!-- 30 -->\n<g id=\"node31\" class=\"node\">\n<title>30</title>\n<path fill=\"#8ff0de\" stroke=\"black\" d=\"M3831,-68C3831,-68 3629,-68 3629,-68 3623,-68 3617,-62 3617,-56 3617,-56 3617,-12 3617,-12 3617,-6 3623,0 3629,0 3629,0 3831,0 3831,0 3837,0 3843,-6 3843,-12 3843,-12 3843,-56 3843,-56 3843,-62 3837,-68 3831,-68\"/>\n<text text-anchor=\"start\" x=\"3698\" y=\"-52.8\" font-family=\"Helvetica,sans-Serif\" font-size=\"14.00\">gini = 0.52</text>\n<text text-anchor=\"start\" x=\"3680.5\" y=\"-37.8\" font-family=\"Helvetica,sans-Serif\" font-size=\"14.00\">samples = 3.2%</text>\n<text text-anchor=\"start\" x=\"3625\" y=\"-22.8\" font-family=\"Helvetica,sans-Serif\" font-size=\"14.00\">value = [0.07, 0.0, 0.66, 0.21, 0.07]</text>\n<text text-anchor=\"start\" x=\"3693.5\" y=\"-7.8\" font-family=\"Helvetica,sans-Serif\" font-size=\"14.00\">class = rock</text>\n</g>\n<!-- 28&#45;&gt;30 -->\n<g id=\"edge30\" class=\"edge\">\n<title>28&#45;&gt;30</title>\n<path fill=\"none\" stroke=\"black\" d=\"M3580.91,-103.88C3603.28,-93.55 3627.2,-82.5 3649.19,-72.34\"/>\n<polygon fill=\"black\" stroke=\"black\" points=\"3650.87,-75.41 3658.48,-68.04 3647.94,-69.06 3650.87,-75.41\"/>\n</g>\n</g>\n</svg>\n"
          },
          "metadata": {},
          "execution_count": 40
        }
      ],
      "source": [
        "from sklearn.tree import DecisionTreeClassifier \n",
        "from sklearn.tree import export_graphviz\n",
        "import graphviz \n",
        "clf = DecisionTreeClassifier(random_state=42, max_depth=4)\n",
        "clf.fit(X_mfeatures_train, np.ravel(y_mFeatures_train))\n",
        "\n",
        "predictions = clf.predict(X_mfeatures_test)\n",
        "print(accuracy_score(y_mFeatures_test, predictions))\n",
        "target_names = df['genre'].value_counts().index.values\n",
        "dot_data = export_graphviz(clf, precision=2,\n",
        "                     feature_names=predictor_music_features,  \n",
        "                     proportion=True,\n",
        "                     class_names=target_names,  \n",
        "                     filled=True, rounded=True,  \n",
        "                     special_characters=True)\n",
        "\n",
        "# plot it\n",
        "graph = graphviz.Source(dot_data)  \n",
        "graph"
      ],
      "id": "7mlx8WvP5xGO"
    },
    {
      "cell_type": "markdown",
      "metadata": {
        "id": "XPGssZ9SBLXS"
      },
      "source": [
        "### Random Forest"
      ],
      "id": "XPGssZ9SBLXS"
    },
    {
      "cell_type": "markdown",
      "metadata": {
        "id": "rwp2WGqD21lj"
      },
      "source": [
        "#### **Topic Features**"
      ],
      "id": "rwp2WGqD21lj"
    },
    {
      "cell_type": "code",
      "execution_count": null,
      "metadata": {
        "colab": {
          "base_uri": "https://localhost:8080/"
        },
        "id": "bdBjZkPCLBky",
        "outputId": "e7870105-d1e2-4073-8e56-ca01ff6e4594"
      },
      "outputs": [
        {
          "output_type": "stream",
          "name": "stdout",
          "text": [
            "Accuracy: 0.4088541666666667\n"
          ]
        }
      ],
      "source": [
        "from sklearn.ensemble import RandomForestClassifier\n",
        "from sklearn import metrics\n",
        "\n",
        "forest = RandomForestClassifier(criterion='entropy', random_state=42, max_depth=6, max_features=0.6) #used same params as decision tree\n",
        "forest.fit(X_topic_train, np.ravel(y_topic_train))\n",
        "predictions = forest.predict(X_topic_test)\n",
        "print(\"Accuracy:\",metrics.accuracy_score(y_topic_test, predictions))"
      ],
      "id": "bdBjZkPCLBky"
    },
    {
      "cell_type": "markdown",
      "metadata": {
        "id": "WBXXe4752xsw"
      },
      "source": [
        "#### **Music Features**"
      ],
      "id": "WBXXe4752xsw"
    },
    {
      "cell_type": "code",
      "execution_count": null,
      "metadata": {
        "colab": {
          "base_uri": "https://localhost:8080/"
        },
        "id": "J18dZh197cyi",
        "outputId": "9caa194f-8d18-48bd-8a50-ce1a757642f8"
      },
      "outputs": [
        {
          "output_type": "stream",
          "name": "stdout",
          "text": [
            "Accuracy: 0.53125\n"
          ]
        }
      ],
      "source": [
        "from sklearn.ensemble import RandomForestClassifier\n",
        "from sklearn import metrics\n",
        "\n",
        "forest = RandomForestClassifier(max_depth=5, min_samples_leaf=10, n_estimators=200,\n",
        "                       n_jobs=-1, random_state=42) #best params found using GridSearchCV\n",
        "forest.fit(X_mfeatures_train, np.ravel(y_mFeatures_train))\n",
        "predictions = forest.predict(X_mfeatures_test)\n",
        "print(\"Accuracy:\",metrics.accuracy_score(y_mFeatures_test, predictions))"
      ],
      "id": "J18dZh197cyi"
    },
    {
      "cell_type": "markdown",
      "metadata": {
        "id": "NyBIIg-JGKY2"
      },
      "source": [
        "#### **All Features**"
      ],
      "id": "NyBIIg-JGKY2"
    },
    {
      "cell_type": "code",
      "execution_count": null,
      "metadata": {
        "colab": {
          "base_uri": "https://localhost:8080/"
        },
        "id": "vAhVtkZqGJSJ",
        "outputId": "af0d9f75-cc44-40bf-c40b-d962c9a22efc"
      },
      "outputs": [
        {
          "output_type": "stream",
          "name": "stdout",
          "text": [
            "Accuracy: 0.5520833333333334\n"
          ]
        }
      ],
      "source": [
        "from sklearn.ensemble import RandomForestClassifier\n",
        "from sklearn import metrics\n",
        "\n",
        "forest = RandomForestClassifier(max_depth=10, min_samples_leaf=5, n_estimators=30,\n",
        "                       n_jobs=-1, random_state=42) #best params found using GridSearchCV\n",
        "forest.fit(X_allFeatures_train, np.ravel(y_allFeatures_train))\n",
        "predictions = forest.predict(X_allFeatures_test)\n",
        "print(\"Accuracy:\",metrics.accuracy_score(y_allFeatures_test, predictions))"
      ],
      "id": "vAhVtkZqGJSJ"
    },
    {
      "cell_type": "markdown",
      "metadata": {
        "id": "tKwx2_h78fhr"
      },
      "source": [
        "## Results\n",
        "**What answer was found to the research question; what did the study find? Was the tested hypothesis true? Any visualizations?**\n",
        "\n",
        "In our quest to classify the genre of songs in our dataset we ran into some issues in terms of representing our target variable. Initially used sklearn's one-hot encoder to represent our target variable, but ultimately this encoder was causing inaccuracies with the machine learning algorithms. Using one-hot encoder we were getting around an 8% accuracy with the Random Forest machine learning algorithm. By switching to sklearn's Label Encoder we were able to get the accuracy up to 55% using sklean's for the same algorithm. This showed us the importance of how we represent out target variable and the issues that can occur when dealing with a classification machine learning.\n"
      ],
      "id": "tKwx2_h78fhr"
    },
    {
      "cell_type": "markdown",
      "metadata": {
        "id": "3CFvovxcJ20m"
      },
      "source": [
        "##### **Confusion Matrix for Highest accuracy Model**"
      ],
      "id": "3CFvovxcJ20m"
    },
    {
      "cell_type": "code",
      "execution_count": null,
      "metadata": {
        "colab": {
          "base_uri": "https://localhost:8080/",
          "height": 388
        },
        "id": "_yAixltqJJMz",
        "outputId": "fffb3c2b-4f51-49d8-dab0-9c0419989cff"
      },
      "outputs": [
        {
          "output_type": "display_data",
          "data": {
            "text/plain": [
              "<Figure size 576x432 with 2 Axes>"
            ],
            "image/png": "[encoded data removed]"
          },
          "metadata": {
            "needs_background": "light"
          }
        }
      ],
      "source": [
        "cm = confusion_matrix(y_allFeatures_test, predictions, labels=forest.classes_)\n",
        "disp = ConfusionMatrixDisplay(confusion_matrix=cm, display_labels=['blues', 'country', 'jazz', 'pop', 'rock'])\n",
        "disp.plot()\n",
        "plt.show()\n"
      ],
      "id": "_yAixltqJJMz"
    },
    {
      "cell_type": "markdown",
      "metadata": {
        "id": "qxcl__Da8iaS"
      },
      "source": [
        "## Discussion\n",
        "\n",
        "**What might the answer imply and why does it matter? How does it fit in with what other researchers have found? What are the perspectives for future research? Survey about the tools investigated for this assignment.**\n",
        "\n",
        "The level of accuracy we attained implies the need for further research to be able to increase the accuracy of the predictions made. Some ideas for future research could include a more thorough analysis of the lyrical content of the songs in our dataset, as well as more characteristics on them such as rhythm. For this project we were able to use a variety of tools. Some of the tools we utilized were pandas for holding our data in a data frame and some visualization tools we used were seaborn and matplotlib. Finally we also implemented sklearn for separating the training and test data as well as some of their machine learning algorithms.\n",
        "\n"
      ],
      "id": "qxcl__Da8iaS"
    },
    {
      "cell_type": "markdown",
      "metadata": {
        "id": "8SosXtDP8tok"
      },
      "source": [
        "## Summary\n",
        "**Most important findings.**\n",
        "\n",
        "In this project we sought out a way to use classification to identify the genre of a song based on its associated features. We used Scikit-Learn's classification estimators to get these predictions. The degree of accuracy was not to our initial expectation, but it gave us good practice in trying to identify different ways of increasing our accuracy. One of our most important findings was figuring out which features should be included. We made three sets of predictors; first being the features associated with the topic of the songs, next being the features associated with the characteristics of the songs (such as danceability), and lastly we had both together. We found that the predictors with the highest accuracy was the last set which included both the topic and characteristics. Another important finding was that using songs after 2017 also increased our accuracy, this is most likely due to music changing so much in the years prior. Lastly a very important finding was which classification machine learning algorithm would yield the highest accuracy and we found that to be the Random Forest Classification. "
      ],
      "id": "8SosXtDP8tok"
    }
  ],
  "metadata": {
    "colab": {
      "collapsed_sections": [
        "rwp2WGqD21lj"
      ],
      "provenance": []
    },
    "kernelspec": {
      "display_name": "Python 3 (ipykernel)",
      "language": "python",
      "name": "python3"
    },
    "language_info": {
      "codemirror_mode": {
        "name": "ipython",
        "version": 3
      },
      "file_extension": ".py",
      "mimetype": "text/x-python",
      "name": "python",
      "nbconvert_exporter": "python",
      "pygments_lexer": "ipython3",
      "version": "3.9.13"
    }
  },
  "nbformat": 4,
  "nbformat_minor": 5
}